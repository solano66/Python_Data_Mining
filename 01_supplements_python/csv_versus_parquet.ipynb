{
 "cells": [
  {
   "cell_type": "markdown",
   "metadata": {},
   "source": [
    "## CSV versus Parquet 逗號分隔檔案與Parquet之間的競速"
   ]
  },
  {
   "cell_type": "code",
   "execution_count": 1,
   "metadata": {},
   "outputs": [
    {
     "name": "stdout",
     "output_type": "stream",
     "text": [
      "<class 'pandas.core.frame.DataFrame'>\n",
      "RangeIndex: 17654 entries, 0 to 17653\n",
      "Data columns (total 10 columns):\n",
      " #   Column      Non-Null Count  Dtype  \n",
      "---  ------      --------------  -----  \n",
      " 0   Company     17654 non-null  object \n",
      " 1   Title       17654 non-null  object \n",
      " 2   Job         17654 non-null  object \n",
      " 3   Level       17654 non-null  object \n",
      " 4   Date        17652 non-null  object \n",
      " 5   Upvotes     17654 non-null  int64  \n",
      " 6   Offer       17654 non-null  object \n",
      " 7   Experience  16365 non-null  float64\n",
      " 8   Difficulty  16376 non-null  object \n",
      " 9   Review      17654 non-null  object \n",
      "dtypes: float64(1), int64(1), object(8)\n",
      "memory usage: 1.3+ MB\n"
     ]
    }
   ],
   "source": [
    "import pandas as pd\n",
    "df = pd.read_csv(\"interviews.csv\")\n",
    "df.info()"
   ]
  },
  {
   "cell_type": "code",
   "execution_count": 2,
   "metadata": {},
   "outputs": [
    {
     "data": {
      "text/plain": [
       "14200063"
      ]
     },
     "execution_count": 2,
     "metadata": {},
     "output_type": "execute_result"
    }
   ],
   "source": [
    "from pathlib import Path\n",
    "Path(\"interviews.csv\").stat().st_size"
   ]
  },
  {
   "cell_type": "code",
   "execution_count": 3,
   "metadata": {},
   "outputs": [
    {
     "data": {
      "text/plain": [
       "6220153"
      ]
     },
     "execution_count": 3,
     "metadata": {},
     "output_type": "execute_result"
    }
   ],
   "source": [
    "df.to_parquet(\"interviews.parquet\")\n",
    "Path(\"interviews.parquet\").stat().st_size\n",
    "# Size in bytes of a plain file; amount of data waiting on some special files."
   ]
  },
  {
   "cell_type": "markdown",
   "metadata": {},
   "source": [
    "- CSV versus parquet\n",
    "- 14 MB versus 6 MB\n",
    "- Text verus binary format\n",
    "- Human-readable versus more compact\n",
    "\n",
    "#### Reference:\n",
    "- Huyen, Chip (2022), Designing Machine Learning Systems: An Iterative Process for Production-Ready Applications, O’Reilly."
   ]
  }
 ],
 "metadata": {
  "kernelspec": {
   "display_name": "Python 3 (Spyder)",
   "language": "python3",
   "name": "python3"
  },
  "language_info": {
   "codemirror_mode": {
    "name": "ipython",
    "version": 3
   },
   "file_extension": ".py",
   "mimetype": "text/x-python",
   "name": "python",
   "nbconvert_exporter": "python",
   "pygments_lexer": "ipython3",
   "version": "3.10.14"
  }
 },
 "nbformat": 4,
 "nbformat_minor": 4
}
