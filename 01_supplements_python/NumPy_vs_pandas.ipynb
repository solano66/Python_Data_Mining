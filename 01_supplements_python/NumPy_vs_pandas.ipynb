{
 "cells": [
  {
   "cell_type": "markdown",
   "metadata": {},
   "source": [
    "## NumPy versus pandas"
   ]
  },
  {
   "cell_type": "code",
   "execution_count": 1,
   "metadata": {},
   "outputs": [],
   "source": [
    "import pandas as pd\n",
    "df = pd.read_csv(\"interviews.csv\")"
   ]
  },
  {
   "cell_type": "markdown",
   "metadata": {},
   "source": [
    "> Pandas is column-oriented"
   ]
  },
  {
   "cell_type": "code",
   "execution_count": 3,
   "metadata": {},
   "outputs": [
    {
     "name": "stdout",
     "output_type": "stream",
     "text": [
      "0.012938976287841797 seconds\n"
     ]
    }
   ],
   "source": [
    "# Iterating pandas DataFrame by column\n",
    "import time\n",
    "start = time.time()\n",
    "for col in df.columns:\n",
    "    for item in df[col]:\n",
    "        pass\n",
    "print(time.time() - start, 'seconds')"
   ]
  },
  {
   "cell_type": "code",
   "execution_count": 4,
   "metadata": {},
   "outputs": [
    {
     "name": "stdout",
     "output_type": "stream",
     "text": [
      "0.2445828914642334 seconds\n"
     ]
    }
   ],
   "source": [
    "# Iterating pandas DataFrame by row\n",
    "n_rows = len(df)\n",
    "start = time.time()\n",
    "for i in range(n_rows):\n",
    "    for item in df.iloc[i]:\n",
    "        pass\n",
    "print(time.time() - start, 'seconds')"
   ]
  },
  {
   "cell_type": "markdown",
   "metadata": {},
   "source": [
    "> NumPy"
   ]
  },
  {
   "cell_type": "code",
   "execution_count": 5,
   "metadata": {},
   "outputs": [],
   "source": [
    "df_np = df.to_numpy()\n",
    "n_rows, n_cols = df_np.shape"
   ]
  },
  {
   "cell_type": "code",
   "execution_count": 6,
   "metadata": {},
   "outputs": [
    {
     "name": "stdout",
     "output_type": "stream",
     "text": [
      "0.004641056060791016 seconds\n"
     ]
    }
   ],
   "source": [
    "# Iterating Numpy ndarray by column\n",
    "start = time.time()\n",
    "for j in range(n_cols):\n",
    "    for item in df_np[:, j]:\n",
    "        pass\n",
    "print(time.time() - start, 'seconds')"
   ]
  },
  {
   "cell_type": "code",
   "execution_count": 7,
   "metadata": {},
   "outputs": [
    {
     "name": "stdout",
     "output_type": "stream",
     "text": [
      "0.01610279083251953 seconds\n"
     ]
    }
   ],
   "source": [
    "# Iterating Numpy ndarray by row\n",
    "start = time.time()\n",
    "for i in range(n_rows):\n",
    "    for item in df_np[i]:\n",
    "        pass\n",
    "print(time.time() - start, 'seconds')"
   ]
  },
  {
   "cell_type": "markdown",
   "metadata": {},
   "source": [
    "Faster than 0.2445828914642334 seconds.\n",
    "\n",
    "#### Reference:\n",
    "- Huyen, Chip (2022), Designing Machine Learning Systems: An Iterative Process for Production-Ready Applications, O’Reilly."
   ]
  }
 ],
 "metadata": {
  "kernelspec": {
   "display_name": "Python 3 (Spyder)",
   "language": "python3",
   "name": "python3"
  },
  "language_info": {
   "codemirror_mode": {
    "name": "ipython",
    "version": 3
   },
   "file_extension": ".py",
   "mimetype": "text/x-python",
   "name": "python",
   "nbconvert_exporter": "python",
   "pygments_lexer": "ipython3",
   "version": "3.11.8"
  }
 },
 "nbformat": 4,
 "nbformat_minor": 4
}
