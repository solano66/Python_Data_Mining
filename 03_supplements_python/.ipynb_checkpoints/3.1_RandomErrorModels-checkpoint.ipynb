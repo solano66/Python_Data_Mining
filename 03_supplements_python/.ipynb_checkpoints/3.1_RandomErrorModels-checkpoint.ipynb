{
 "cells": [
  {
   "cell_type": "markdown",
   "id": "302db768",
   "metadata": {},
   "source": [
    "## 3.1 隨機誤差模型"
   ]
  },
  {
   "cell_type": "markdown",
   "id": "7b1aad98",
   "metadata": {},
   "source": [
    "'''\n",
    "Collated by Prof. Ching-Shih Tsou 鄒慶士 教授 (Ph.D.) at the IDS and CICD of NTUB (國立臺北商業大學資訊與決策科學研究所暨智能控制與決策研究室教授); at the ME Dept. and CAIDS of MCUT (2020~2022借調至明志科技大學機械工程系任特聘教授兼人工智慧暨資料科學研究中心主任); the CSQ (2019年起任中華民國品質學會大數據品質應用委員會主任委員); the DSBA (2013年創立臺灣資料科學與商業應用協會); and the CARS (2012年創立中華R軟體學會) \n",
    "Notes: This code is provided without warranty.\n",
    "'''"
   ]
  },
  {
   "cell_type": "code",
   "execution_count": 1,
   "id": "e03017b3",
   "metadata": {},
   "outputs": [],
   "source": [
    "import pandas as pd\n",
    "import numpy as np\n",
    "# pd.set_option('display.max_rows', 500)\n",
    "# pd.set_option('display.max_columns', 500)\n",
    "\n",
    "algae = pd.read_csv('algae.csv', encoding='utf-8')"
   ]
  },
  {
   "cell_type": "code",
   "execution_count": 2,
   "id": "f283f3a7",
   "metadata": {},
   "outputs": [],
   "source": [
    "# 資料分析工作中，經常需要將文字資料轉為數值(又稱編碼encoding or coding)，以利後續的數學建模\n",
    "# 常用的編碼方式有標籤編碼(label encoding)、單熱編碼(one-hot encoding)、以及統計學中的虛擬編碼(dummy encoding)\n",
    "# R語言讀入資料集後可以自動進行標籤編碼，亦即將字串自動轉換為因子，而Python常須手動編碼字串變量\n",
    "# 其中套件scikit-learn偏好單熱編碼，R語言則偏好標籤及虛擬編碼\n",
    "\n",
    "algae['season'] = algae['season'].map({'spring':1,'summer':2,'autumn':3,'winter':4}).astype(int)\n",
    "algae['size'] = algae['size'].map({'small':1,'medium':2,'large':3}).astype(int)\n",
    "algae['speed'] = algae['speed'].map({'low':1,'medium':2,'high':3}).astype(int)"
   ]
  },
  {
   "cell_type": "code",
   "execution_count": 3,
   "id": "ac56d9c6",
   "metadata": {},
   "outputs": [
    {
     "data": {
      "text/plain": [
       "season     0\n",
       "size       0\n",
       "speed      0\n",
       "mxPH       1\n",
       "mnO2       2\n",
       "Cl        10\n",
       "NO3        2\n",
       "NH4        2\n",
       "oPO4       2\n",
       "PO4        2\n",
       "Chla      12\n",
       "a1         0\n",
       "a2         0\n",
       "a3         0\n",
       "a4         0\n",
       "a5         0\n",
       "a6         0\n",
       "a7         0\n",
       "dtype: int64"
      ]
     },
     "execution_count": 3,
     "metadata": {},
     "output_type": "execute_result"
    }
   ],
   "source": [
    "# 各變量遺缺狀況統計表\n",
    "algae.isnull().sum() # sum(is.na(algae)) in R, 是把二維表中所有真假值加總起來(rowSums()與columnSums())"
   ]
  },
  {
   "cell_type": "code",
   "execution_count": 4,
   "id": "c92bac45",
   "metadata": {},
   "outputs": [
    {
     "data": {
      "text/plain": [
       "0      0\n",
       "1      0\n",
       "2      0\n",
       "3      0\n",
       "4      0\n",
       "      ..\n",
       "195    0\n",
       "196    0\n",
       "197    0\n",
       "198    6\n",
       "199    0\n",
       "Length: 200, dtype: int64"
      ]
     },
     "execution_count": 4,
     "metadata": {},
     "output_type": "execute_result"
    }
   ],
   "source": [
    "# 各樣本遺缺狀況統計表\n",
    "algae.isnull().sum(axis=1)"
   ]
  },
  {
   "cell_type": "code",
   "execution_count": 5,
   "id": "0d6c16c6",
   "metadata": {},
   "outputs": [
    {
     "data": {
      "text/plain": [
       "61     6\n",
       "198    6\n",
       "dtype: int64"
      ]
     },
     "execution_count": 5,
     "metadata": {},
     "output_type": "execute_result"
    }
   ],
   "source": [
    "# 遺缺值超過4個變量的樣本編號\n",
    "algae.isnull().sum(axis='columns')[algae.isnull().sum(axis='columns') > 4]"
   ]
  },
  {
   "cell_type": "code",
   "execution_count": 6,
   "id": "aef3178f",
   "metadata": {},
   "outputs": [],
   "source": [
    "# 移除遺缺程度嚴重的樣本\n",
    "cleanAlgae_tmp = algae.dropna(axis='rows',thresh=13) # 變數個數大於等於13者留之"
   ]
  },
  {
   "cell_type": "code",
   "execution_count": 7,
   "id": "0ff61457",
   "metadata": {},
   "outputs": [],
   "source": [
    "# 以各變項中位數填補遺缺值\n",
    "cleanAlgae = pd.DataFrame()\n",
    "for col in cleanAlgae_tmp.columns:\n",
    "    cleanAlgae[col] = cleanAlgae_tmp[col].fillna(cleanAlgae_tmp[col].median())"
   ]
  },
  {
   "cell_type": "code",
   "execution_count": 8,
   "id": "dbc806a7",
   "metadata": {},
   "outputs": [
    {
     "data": {
      "text/plain": [
       "season    0\n",
       "size      0\n",
       "speed     0\n",
       "mxPH      0\n",
       "mnO2      0\n",
       "Cl        0\n",
       "NO3       0\n",
       "NH4       0\n",
       "oPO4      0\n",
       "PO4       0\n",
       "Chla      0\n",
       "a1        0\n",
       "a2        0\n",
       "a3        0\n",
       "a4        0\n",
       "a5        0\n",
       "a6        0\n",
       "a7        0\n",
       "dtype: int64"
      ]
     },
     "execution_count": 8,
     "metadata": {},
     "output_type": "execute_result"
    }
   ],
   "source": [
    "# 確認資料表中已無遺缺值\n",
    "cleanAlgae.isnull().sum()"
   ]
  },
  {
   "cell_type": "code",
   "execution_count": 9,
   "id": "0d3781d1",
   "metadata": {},
   "outputs": [],
   "source": [
    "# 選擇X變數以及y變數\n",
    "X = cleanAlgae[['season','size','speed','mxPH','mnO2','Cl','NO3','NH4','oPO4','PO4','Chla']]\n",
    "y = cleanAlgae[['a1']]"
   ]
  },
  {
   "cell_type": "code",
   "execution_count": 10,
   "id": "59bed6b7",
   "metadata": {},
   "outputs": [],
   "source": [
    "# 切割訓練集與測試集(亂數種子1234)\n",
    "from sklearn.model_selection import train_test_split\n",
    "X_train, X_test, y_train, y_test = train_test_split(X, y, test_size=50, random_state=1234)"
   ]
  },
  {
   "cell_type": "code",
   "execution_count": 11,
   "id": "e56c0db2",
   "metadata": {},
   "outputs": [],
   "source": [
    "# 以148個訓練樣本估計函數關係\n",
    "#### 線性迴歸法一：使用scikit-learn.linear_model的LinearRegression類別 (by scipy.linalg.lstsq 未提供統計檢定報表)\n",
    "# 註：如用梯度陡降法逼近迴歸係數，也是沒有檢定報表！\n",
    "# Step 1 載入建模所需類別函數\n",
    "from sklearn.linear_model import LinearRegression"
   ]
  },
  {
   "cell_type": "code",
   "execution_count": 12,
   "id": "55d4e973",
   "metadata": {},
   "outputs": [],
   "source": [
    "# Step 2 宣告空模(假設線性，但參數未知的模型)\n",
    "a1Lm = LinearRegression()\n",
    "pre = dir(a1Lm) # 空模屬性與方法"
   ]
  },
  {
   "cell_type": "code",
   "execution_count": 13,
   "id": "dc0a9a52",
   "metadata": {},
   "outputs": [
    {
     "data": {
      "text/plain": [
       "{'coef_',\n",
       " 'feature_names_in_',\n",
       " 'intercept_',\n",
       " 'n_features_in_',\n",
       " 'rank_',\n",
       " 'singular_'}"
      ]
     },
     "execution_count": 13,
     "metadata": {},
     "output_type": "execute_result"
    }
   ],
   "source": [
    "# Step 3 將訓練樣本傳入，配適/擬合模型參數，空模轉為實模\n",
    "a1Lm.fit(X_train, y_train)\n",
    "post = dir(a1Lm)\n",
    "set(post) - set(pre) # 請留意intercept_和coef_"
   ]
  },
  {
   "cell_type": "code",
   "execution_count": 14,
   "id": "740ad2dd",
   "metadata": {},
   "outputs": [
    {
     "data": {
      "text/plain": [
       "(1, 11)"
      ]
     },
     "execution_count": 14,
     "metadata": {},
     "output_type": "execute_result"
    }
   ],
   "source": [
    "# 11個變數的迴歸係數(為何不是15個？類別變數未虛擬編碼！)\n",
    "a1Lm.coef_ # 11個斜率係數，Why? without dummy coding (one-hot encoding) for categorical variables\n",
    "a1Lm.coef_.shape"
   ]
  },
  {
   "cell_type": "code",
   "execution_count": 15,
   "id": "86c040fa",
   "metadata": {},
   "outputs": [
    {
     "data": {
      "text/plain": [
       "array([36.35761296])"
      ]
     },
     "execution_count": 15,
     "metadata": {},
     "output_type": "execute_result"
    }
   ],
   "source": [
    "# 截距係數\n",
    "a1Lm.intercept_"
   ]
  },
  {
   "cell_type": "code",
   "execution_count": 16,
   "id": "f9b449a8",
   "metadata": {},
   "outputs": [],
   "source": [
    "# Step 4 擬合完成後運用模型a1Lm 估計訓練樣本的a1 有害藻類濃度\n",
    "trainPred = a1Lm.predict(X_train)"
   ]
  },
  {
   "cell_type": "code",
   "execution_count": 17,
   "id": "ec705b77",
   "metadata": {},
   "outputs": [
    {
     "name": "stdout",
     "output_type": "stream",
     "text": [
      "訓練樣本的RMSE值為：16.93544395556132\n"
     ]
    }
   ],
   "source": [
    "# 訓練樣本的模型績效指標RMSE值(參見3.2.1節)\n",
    "from sklearn import metrics\n",
    "trainRMSE = np.sqrt(metrics.mean_squared_error(y_train, trainPred))\n",
    "print(\"訓練樣本的RMSE值為：{}\".format(trainRMSE))"
   ]
  },
  {
   "cell_type": "code",
   "execution_count": 18,
   "id": "acd8e35b",
   "metadata": {},
   "outputs": [
    {
     "name": "stdout",
     "output_type": "stream",
     "text": [
      "測試樣本的RMSE值為：18.73340430761605\n"
     ]
    }
   ],
   "source": [
    "# Step 4 以模型a1Lm估計測試樣本的a1有害藻類濃度\n",
    "testPred = a1Lm.predict(X_test)\n",
    "# 測試樣本的模型績效指標RMSE值\n",
    "testRMSE = np.sqrt(metrics.mean_squared_error(y_test, testPred))\n",
    "print(\"測試樣本的RMSE值為：{}\".format(testRMSE))"
   ]
  },
  {
   "cell_type": "code",
   "execution_count": 19,
   "id": "5e50a439",
   "metadata": {},
   "outputs": [],
   "source": [
    "# 下面是測試集的RMSE比訓練集RMSE還低的結果(亂數種子20531)\n",
    "np.random.seed(20531)\n",
    "X_train, X_test, y_train, y_test = train_test_split(X, y, test_size=0.25)"
   ]
  },
  {
   "cell_type": "code",
   "execution_count": 20,
   "id": "f21f2d18",
   "metadata": {},
   "outputs": [
    {
     "data": {
      "text/html": [
       "<style>#sk-container-id-1 {color: black;background-color: white;}#sk-container-id-1 pre{padding: 0;}#sk-container-id-1 div.sk-toggleable {background-color: white;}#sk-container-id-1 label.sk-toggleable__label {cursor: pointer;display: block;width: 100%;margin-bottom: 0;padding: 0.3em;box-sizing: border-box;text-align: center;}#sk-container-id-1 label.sk-toggleable__label-arrow:before {content: \"▸\";float: left;margin-right: 0.25em;color: #696969;}#sk-container-id-1 label.sk-toggleable__label-arrow:hover:before {color: black;}#sk-container-id-1 div.sk-estimator:hover label.sk-toggleable__label-arrow:before {color: black;}#sk-container-id-1 div.sk-toggleable__content {max-height: 0;max-width: 0;overflow: hidden;text-align: left;background-color: #f0f8ff;}#sk-container-id-1 div.sk-toggleable__content pre {margin: 0.2em;color: black;border-radius: 0.25em;background-color: #f0f8ff;}#sk-container-id-1 input.sk-toggleable__control:checked~div.sk-toggleable__content {max-height: 200px;max-width: 100%;overflow: auto;}#sk-container-id-1 input.sk-toggleable__control:checked~label.sk-toggleable__label-arrow:before {content: \"▾\";}#sk-container-id-1 div.sk-estimator input.sk-toggleable__control:checked~label.sk-toggleable__label {background-color: #d4ebff;}#sk-container-id-1 div.sk-label input.sk-toggleable__control:checked~label.sk-toggleable__label {background-color: #d4ebff;}#sk-container-id-1 input.sk-hidden--visually {border: 0;clip: rect(1px 1px 1px 1px);clip: rect(1px, 1px, 1px, 1px);height: 1px;margin: -1px;overflow: hidden;padding: 0;position: absolute;width: 1px;}#sk-container-id-1 div.sk-estimator {font-family: monospace;background-color: #f0f8ff;border: 1px dotted black;border-radius: 0.25em;box-sizing: border-box;margin-bottom: 0.5em;}#sk-container-id-1 div.sk-estimator:hover {background-color: #d4ebff;}#sk-container-id-1 div.sk-parallel-item::after {content: \"\";width: 100%;border-bottom: 1px solid gray;flex-grow: 1;}#sk-container-id-1 div.sk-label:hover label.sk-toggleable__label {background-color: #d4ebff;}#sk-container-id-1 div.sk-serial::before {content: \"\";position: absolute;border-left: 1px solid gray;box-sizing: border-box;top: 0;bottom: 0;left: 50%;z-index: 0;}#sk-container-id-1 div.sk-serial {display: flex;flex-direction: column;align-items: center;background-color: white;padding-right: 0.2em;padding-left: 0.2em;position: relative;}#sk-container-id-1 div.sk-item {position: relative;z-index: 1;}#sk-container-id-1 div.sk-parallel {display: flex;align-items: stretch;justify-content: center;background-color: white;position: relative;}#sk-container-id-1 div.sk-item::before, #sk-container-id-1 div.sk-parallel-item::before {content: \"\";position: absolute;border-left: 1px solid gray;box-sizing: border-box;top: 0;bottom: 0;left: 50%;z-index: -1;}#sk-container-id-1 div.sk-parallel-item {display: flex;flex-direction: column;z-index: 1;position: relative;background-color: white;}#sk-container-id-1 div.sk-parallel-item:first-child::after {align-self: flex-end;width: 50%;}#sk-container-id-1 div.sk-parallel-item:last-child::after {align-self: flex-start;width: 50%;}#sk-container-id-1 div.sk-parallel-item:only-child::after {width: 0;}#sk-container-id-1 div.sk-dashed-wrapped {border: 1px dashed gray;margin: 0 0.4em 0.5em 0.4em;box-sizing: border-box;padding-bottom: 0.4em;background-color: white;}#sk-container-id-1 div.sk-label label {font-family: monospace;font-weight: bold;display: inline-block;line-height: 1.2em;}#sk-container-id-1 div.sk-label-container {text-align: center;}#sk-container-id-1 div.sk-container {/* jupyter's `normalize.less` sets `[hidden] { display: none; }` but bootstrap.min.css set `[hidden] { display: none !important; }` so we also need the `!important` here to be able to override the default hidden behavior on the sphinx rendered scikit-learn.org. See: https://github.com/scikit-learn/scikit-learn/issues/21755 */display: inline-block !important;position: relative;}#sk-container-id-1 div.sk-text-repr-fallback {display: none;}</style><div id=\"sk-container-id-1\" class=\"sk-top-container\"><div class=\"sk-text-repr-fallback\"><pre>LinearRegression()</pre><b>In a Jupyter environment, please rerun this cell to show the HTML representation or trust the notebook. <br />On GitHub, the HTML representation is unable to render, please try loading this page with nbviewer.org.</b></div><div class=\"sk-container\" hidden><div class=\"sk-item\"><div class=\"sk-estimator sk-toggleable\"><input class=\"sk-toggleable__control sk-hidden--visually\" id=\"sk-estimator-id-1\" type=\"checkbox\" checked><label for=\"sk-estimator-id-1\" class=\"sk-toggleable__label sk-toggleable__label-arrow\">LinearRegression</label><div class=\"sk-toggleable__content\"><pre>LinearRegression()</pre></div></div></div></div></div>"
      ],
      "text/plain": [
       "LinearRegression()"
      ]
     },
     "execution_count": 20,
     "metadata": {},
     "output_type": "execute_result"
    }
   ],
   "source": [
    "# 以重新切分後的148個訓練樣本估計函數關係\n",
    "from sklearn.linear_model import LinearRegression\n",
    "a1Lm2 = LinearRegression() # a1Lm2 = LinearRegression().fit(X_train, y_train)\n",
    "a1Lm2.fit(X_train, y_train)"
   ]
  },
  {
   "cell_type": "code",
   "execution_count": 21,
   "id": "b63fe75f",
   "metadata": {},
   "outputs": [],
   "source": [
    "# 擬合完成後運用模型a1Lm2估計訓練樣本的a1有害藻類濃度\n",
    "trainPred = a1Lm2.predict(X_train)"
   ]
  },
  {
   "cell_type": "code",
   "execution_count": 22,
   "id": "6ae758c7",
   "metadata": {},
   "outputs": [
    {
     "name": "stdout",
     "output_type": "stream",
     "text": [
      "訓練樣本的RMSE值為：17.818834049921687\n"
     ]
    }
   ],
   "source": [
    "# 訓練樣本的模型績效指標RMSE值(參見3.2.1節)\n",
    "from sklearn import metrics\n",
    "trainRMSE = np.sqrt(metrics.mean_squared_error(y_train,trainPred))\n",
    "print(\"訓練樣本的RMSE值為：{}\".format(trainRMSE))"
   ]
  },
  {
   "cell_type": "code",
   "execution_count": 23,
   "id": "7a639ff6",
   "metadata": {},
   "outputs": [
    {
     "name": "stdout",
     "output_type": "stream",
     "text": [
      "測試樣本的RMSE值為：14.83786770340543，低於訓練樣本的RMSE值17.818834049921687\n"
     ]
    }
   ],
   "source": [
    "# 以模型a1Lm2估計測試樣本的a1有害藻類濃度\n",
    "testPred = a1Lm2.predict(X_test)\n",
    "# 測試樣本的模型績效指標RMSE值\n",
    "testRMSE = np.sqrt(metrics.mean_squared_error(y_test,testPred))\n",
    "print(\"測試樣本的RMSE值為：{}，低於訓練樣本的RMSE值{}\".format(testRMSE, trainRMSE))\n",
    "# 怎麼會這樣！？亂數種子好恐怖也！\n",
    "# 其實隨機誤差模型是依訓練樣本配適均值模型，要找到穩健性或魯棒性高的模型，其解決之道是反覆進行多次實驗\n",
    "# (eg. **repeated** train-test split/hold-out, bootstrapping, or 10-fold cross-validation)"
   ]
  },
  {
   "cell_type": "code",
   "execution_count": 24,
   "id": "c2b7b173",
   "metadata": {},
   "outputs": [],
   "source": [
    "#### 線性迴歸法二：使用統計報表較完整的statsmodels套件(Why? Because of R.)(用矩陣代數求解迴歸係數)\n",
    "# 語法一：R model formula (數學統計人群)\n",
    "# 為了後續使用 model formula (統計慣用的建模語法，來自R語言)\n",
    "cleanAlgae_train = pd.concat([X_train, y_train], axis='columns')\n",
    "# Step 1\n",
    "import statsmodels.formula.api as smf\n",
    "# Steps 2 & 3\n",
    "# ols stands for Ordinary Least Squares\n",
    "a1Lm3 = smf.ols('a1 ~ season + size + speed + mxPH + mnO2 + Cl + NO3 + NH4 + oPO4 + PO4 + Chla', \n",
    "                data=cleanAlgae_train).fit()\n",
    "# SyntaxError: invalid syntax in the shorthand . in R"
   ]
  },
  {
   "cell_type": "code",
   "execution_count": 25,
   "id": "cd39e772",
   "metadata": {},
   "outputs": [
    {
     "data": {
      "text/html": [
       "<table class=\"simpletable\">\n",
       "<caption>OLS Regression Results</caption>\n",
       "<tr>\n",
       "  <th>Dep. Variable:</th>           <td>a1</td>        <th>  R-squared:         </th> <td>   0.351</td>\n",
       "</tr>\n",
       "<tr>\n",
       "  <th>Model:</th>                   <td>OLS</td>       <th>  Adj. R-squared:    </th> <td>   0.298</td>\n",
       "</tr>\n",
       "<tr>\n",
       "  <th>Method:</th>             <td>Least Squares</td>  <th>  F-statistic:       </th> <td>   6.677</td>\n",
       "</tr>\n",
       "<tr>\n",
       "  <th>Date:</th>             <td>Sun, 12 Mar 2023</td> <th>  Prob (F-statistic):</th> <td>7.23e-09</td>\n",
       "</tr>\n",
       "<tr>\n",
       "  <th>Time:</th>                 <td>17:21:03</td>     <th>  Log-Likelihood:    </th> <td> -636.28</td>\n",
       "</tr>\n",
       "<tr>\n",
       "  <th>No. Observations:</th>      <td>   148</td>      <th>  AIC:               </th> <td>   1297.</td>\n",
       "</tr>\n",
       "<tr>\n",
       "  <th>Df Residuals:</th>          <td>   136</td>      <th>  BIC:               </th> <td>   1333.</td>\n",
       "</tr>\n",
       "<tr>\n",
       "  <th>Df Model:</th>              <td>    11</td>      <th>                     </th>     <td> </td>   \n",
       "</tr>\n",
       "<tr>\n",
       "  <th>Covariance Type:</th>      <td>nonrobust</td>    <th>                     </th>     <td> </td>   \n",
       "</tr>\n",
       "</table>\n",
       "<table class=\"simpletable\">\n",
       "<tr>\n",
       "      <td></td>         <th>coef</th>     <th>std err</th>      <th>t</th>      <th>P>|t|</th>  <th>[0.025</th>    <th>0.975]</th>  \n",
       "</tr>\n",
       "<tr>\n",
       "  <th>Intercept</th> <td>   59.0629</td> <td>   25.536</td> <td>    2.313</td> <td> 0.022</td> <td>    8.565</td> <td>  109.561</td>\n",
       "</tr>\n",
       "<tr>\n",
       "  <th>season</th>    <td>    0.7721</td> <td>    1.360</td> <td>    0.568</td> <td> 0.571</td> <td>   -1.917</td> <td>    3.462</td>\n",
       "</tr>\n",
       "<tr>\n",
       "  <th>size</th>      <td>   -5.8083</td> <td>    2.656</td> <td>   -2.187</td> <td> 0.030</td> <td>  -11.061</td> <td>   -0.555</td>\n",
       "</tr>\n",
       "<tr>\n",
       "  <th>speed</th>     <td>   -1.8793</td> <td>    2.779</td> <td>   -0.676</td> <td> 0.500</td> <td>   -7.376</td> <td>    3.617</td>\n",
       "</tr>\n",
       "<tr>\n",
       "  <th>mxPH</th>      <td>   -2.7856</td> <td>    3.180</td> <td>   -0.876</td> <td> 0.383</td> <td>   -9.075</td> <td>    3.503</td>\n",
       "</tr>\n",
       "<tr>\n",
       "  <th>mnO2</th>      <td>    1.0322</td> <td>    0.850</td> <td>    1.215</td> <td> 0.227</td> <td>   -0.648</td> <td>    2.713</td>\n",
       "</tr>\n",
       "<tr>\n",
       "  <th>Cl</th>        <td>   -0.0215</td> <td>    0.040</td> <td>   -0.543</td> <td> 0.588</td> <td>   -0.100</td> <td>    0.057</td>\n",
       "</tr>\n",
       "<tr>\n",
       "  <th>NO3</th>       <td>   -1.8588</td> <td>    0.641</td> <td>   -2.901</td> <td> 0.004</td> <td>   -3.126</td> <td>   -0.592</td>\n",
       "</tr>\n",
       "<tr>\n",
       "  <th>NH4</th>       <td>    0.0020</td> <td>    0.001</td> <td>    1.694</td> <td> 0.093</td> <td>   -0.000</td> <td>    0.004</td>\n",
       "</tr>\n",
       "<tr>\n",
       "  <th>oPO4</th>      <td>   -0.0149</td> <td>    0.046</td> <td>   -0.328</td> <td> 0.743</td> <td>   -0.105</td> <td>    0.075</td>\n",
       "</tr>\n",
       "<tr>\n",
       "  <th>PO4</th>       <td>   -0.0526</td> <td>    0.034</td> <td>   -1.545</td> <td> 0.125</td> <td>   -0.120</td> <td>    0.015</td>\n",
       "</tr>\n",
       "<tr>\n",
       "  <th>Chla</th>      <td>   -0.0691</td> <td>    0.094</td> <td>   -0.734</td> <td> 0.464</td> <td>   -0.255</td> <td>    0.117</td>\n",
       "</tr>\n",
       "</table>\n",
       "<table class=\"simpletable\">\n",
       "<tr>\n",
       "  <th>Omnibus:</th>       <td>21.492</td> <th>  Durbin-Watson:     </th> <td>   1.987</td>\n",
       "</tr>\n",
       "<tr>\n",
       "  <th>Prob(Omnibus):</th> <td> 0.000</td> <th>  Jarque-Bera (JB):  </th> <td>  26.425</td>\n",
       "</tr>\n",
       "<tr>\n",
       "  <th>Skew:</th>          <td> 0.900</td> <th>  Prob(JB):          </th> <td>1.83e-06</td>\n",
       "</tr>\n",
       "<tr>\n",
       "  <th>Kurtosis:</th>      <td> 4.021</td> <th>  Cond. No.          </th> <td>3.80e+04</td>\n",
       "</tr>\n",
       "</table><br/><br/>Notes:<br/>[1] Standard Errors assume that the covariance matrix of the errors is correctly specified.<br/>[2] The condition number is large, 3.8e+04. This might indicate that there are<br/>strong multicollinearity or other numerical problems."
      ],
      "text/plain": [
       "<class 'statsmodels.iolib.summary.Summary'>\n",
       "\"\"\"\n",
       "                            OLS Regression Results                            \n",
       "==============================================================================\n",
       "Dep. Variable:                     a1   R-squared:                       0.351\n",
       "Model:                            OLS   Adj. R-squared:                  0.298\n",
       "Method:                 Least Squares   F-statistic:                     6.677\n",
       "Date:                Sun, 12 Mar 2023   Prob (F-statistic):           7.23e-09\n",
       "Time:                        17:21:03   Log-Likelihood:                -636.28\n",
       "No. Observations:                 148   AIC:                             1297.\n",
       "Df Residuals:                     136   BIC:                             1333.\n",
       "Df Model:                          11                                         \n",
       "Covariance Type:            nonrobust                                         \n",
       "==============================================================================\n",
       "                 coef    std err          t      P>|t|      [0.025      0.975]\n",
       "------------------------------------------------------------------------------\n",
       "Intercept     59.0629     25.536      2.313      0.022       8.565     109.561\n",
       "season         0.7721      1.360      0.568      0.571      -1.917       3.462\n",
       "size          -5.8083      2.656     -2.187      0.030     -11.061      -0.555\n",
       "speed         -1.8793      2.779     -0.676      0.500      -7.376       3.617\n",
       "mxPH          -2.7856      3.180     -0.876      0.383      -9.075       3.503\n",
       "mnO2           1.0322      0.850      1.215      0.227      -0.648       2.713\n",
       "Cl            -0.0215      0.040     -0.543      0.588      -0.100       0.057\n",
       "NO3           -1.8588      0.641     -2.901      0.004      -3.126      -0.592\n",
       "NH4            0.0020      0.001      1.694      0.093      -0.000       0.004\n",
       "oPO4          -0.0149      0.046     -0.328      0.743      -0.105       0.075\n",
       "PO4           -0.0526      0.034     -1.545      0.125      -0.120       0.015\n",
       "Chla          -0.0691      0.094     -0.734      0.464      -0.255       0.117\n",
       "==============================================================================\n",
       "Omnibus:                       21.492   Durbin-Watson:                   1.987\n",
       "Prob(Omnibus):                  0.000   Jarque-Bera (JB):               26.425\n",
       "Skew:                           0.900   Prob(JB):                     1.83e-06\n",
       "Kurtosis:                       4.021   Cond. No.                     3.80e+04\n",
       "==============================================================================\n",
       "\n",
       "Notes:\n",
       "[1] Standard Errors assume that the covariance matrix of the errors is correctly specified.\n",
       "[2] The condition number is large, 3.8e+04. This might indicate that there are\n",
       "strong multicollinearity or other numerical problems.\n",
       "\"\"\""
      ]
     },
     "execution_count": 25,
     "metadata": {},
     "output_type": "execute_result"
    }
   ],
   "source": [
    "dir(a1Lm3)\n",
    "a1Lm3.summary() # 有一點失望～"
   ]
  }
 ],
 "metadata": {
  "kernelspec": {
   "display_name": "Python 3 (ipykernel)",
   "language": "python",
   "name": "python3"
  },
  "language_info": {
   "codemirror_mode": {
    "name": "ipython",
    "version": 3
   },
   "file_extension": ".py",
   "mimetype": "text/x-python",
   "name": "python",
   "nbconvert_exporter": "python",
   "pygments_lexer": "ipython3",
   "version": "3.9.15"
  }
 },
 "nbformat": 4,
 "nbformat_minor": 5
}
