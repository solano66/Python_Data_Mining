{
 "cells": [
  {
   "cell_type": "markdown",
   "metadata": {
    "_cell_guid": "e05abf89-ed99-b6f3-27cd-26f18492eb1c"
   },
   "source": [
    "## Leaf Classification and Hyperparameter Tuning of SVM\n",
    "\n",
    "> Dataset Description\n",
    "\n",
    "The dataset consists approximately 1,584 (594 + 990) images of leaf specimens (16 samples each of 99 species) which have been converted to binary black leaves against white backgrounds. Three sets of features are also provided per image: a *shape contiguous descriptor*, an *interior texture histogram*, and a *ﬁne-scale margin histogram*. For each feature, a 64-attribute vector is given per leaf sample (3 * 64 = 192 features).\n",
    "\n",
    "Note that of the original 100 species, we have eliminated one on account of incomplete associated data in the original dataset."
   ]
  },
  {
   "cell_type": "code",
   "execution_count": 1,
   "metadata": {
    "_cell_guid": "6f215d86-d011-70a2-8067-7bb9573c354c"
   },
   "outputs": [],
   "source": [
    "import numpy as np\n",
    "import pandas as pd\n",
    "\n",
    "def warn(*args, **kwargs): pass\n",
    "import warnings\n",
    "warnings.warn = warn\n",
    "\n",
    "from sklearn.model_selection import train_test_split\n",
    "from sklearn.model_selection import GridSearchCV\n",
    "\n",
    "from sklearn.metrics import classification_report\n",
    "from sklearn.metrics import accuracy_score, log_loss\n",
    "\n",
    "from sklearn.svm import SVC\n",
    "from sklearn import decomposition\n",
    "\n",
    "from sklearn.preprocessing import LabelEncoder\n",
    "from sklearn.model_selection import StratifiedShuffleSplit\n",
    "\n",
    "train = pd.read_csv('./leafClf/train.csv') # (990, 192)\n",
    "test = pd.read_csv('./leafClf/test.csv') # (594, 192)"
   ]
  },
  {
   "cell_type": "markdown",
   "metadata": {
    "_cell_guid": "1003c7ec-3da7-b79f-8843-734c40e549c7"
   },
   "source": [
    "## Data Preparation"
   ]
  },
  {
   "cell_type": "code",
   "execution_count": 2,
   "metadata": {
    "_cell_guid": "edd98cf9-4ed8-3770-d9f3-9a85b38430ee"
   },
   "outputs": [
    {
     "data": {
      "text/html": [
       "<div>\n",
       "<style scoped>\n",
       "    .dataframe tbody tr th:only-of-type {\n",
       "        vertical-align: middle;\n",
       "    }\n",
       "\n",
       "    .dataframe tbody tr th {\n",
       "        vertical-align: top;\n",
       "    }\n",
       "\n",
       "    .dataframe thead th {\n",
       "        text-align: right;\n",
       "    }\n",
       "</style>\n",
       "<table border=\"1\" class=\"dataframe\">\n",
       "  <thead>\n",
       "    <tr style=\"text-align: right;\">\n",
       "      <th></th>\n",
       "      <th>margin1</th>\n",
       "      <th>margin2</th>\n",
       "      <th>margin3</th>\n",
       "      <th>margin4</th>\n",
       "      <th>margin5</th>\n",
       "      <th>margin6</th>\n",
       "      <th>margin7</th>\n",
       "      <th>margin8</th>\n",
       "      <th>margin9</th>\n",
       "      <th>margin10</th>\n",
       "      <th>...</th>\n",
       "      <th>texture55</th>\n",
       "      <th>texture56</th>\n",
       "      <th>texture57</th>\n",
       "      <th>texture58</th>\n",
       "      <th>texture59</th>\n",
       "      <th>texture60</th>\n",
       "      <th>texture61</th>\n",
       "      <th>texture62</th>\n",
       "      <th>texture63</th>\n",
       "      <th>texture64</th>\n",
       "    </tr>\n",
       "  </thead>\n",
       "  <tbody>\n",
       "    <tr>\n",
       "      <th>0</th>\n",
       "      <td>0.007812</td>\n",
       "      <td>0.023438</td>\n",
       "      <td>0.023438</td>\n",
       "      <td>0.003906</td>\n",
       "      <td>0.011719</td>\n",
       "      <td>0.009766</td>\n",
       "      <td>0.027344</td>\n",
       "      <td>0.0</td>\n",
       "      <td>0.001953</td>\n",
       "      <td>0.033203</td>\n",
       "      <td>...</td>\n",
       "      <td>0.007812</td>\n",
       "      <td>0.0</td>\n",
       "      <td>0.00293</td>\n",
       "      <td>0.00293</td>\n",
       "      <td>0.035156</td>\n",
       "      <td>0.0</td>\n",
       "      <td>0.0</td>\n",
       "      <td>0.004883</td>\n",
       "      <td>0.0</td>\n",
       "      <td>0.025391</td>\n",
       "    </tr>\n",
       "  </tbody>\n",
       "</table>\n",
       "<p>1 rows × 192 columns</p>\n",
       "</div>"
      ],
      "text/plain": [
       "    margin1   margin2   margin3   margin4   margin5   margin6   margin7  \\\n",
       "0  0.007812  0.023438  0.023438  0.003906  0.011719  0.009766  0.027344   \n",
       "\n",
       "   margin8   margin9  margin10  ...  texture55  texture56  texture57  \\\n",
       "0      0.0  0.001953  0.033203  ...   0.007812        0.0    0.00293   \n",
       "\n",
       "   texture58  texture59  texture60  texture61  texture62  texture63  texture64  \n",
       "0    0.00293   0.035156        0.0        0.0   0.004883        0.0   0.025391  \n",
       "\n",
       "[1 rows x 192 columns]"
      ]
     },
     "execution_count": 2,
     "metadata": {},
     "output_type": "execute_result"
    }
   ],
   "source": [
    "# Swiss army knife function to organize the data\n",
    "\n",
    "def encode(train, test):\n",
    "    le = LabelEncoder().fit(train.species) \n",
    "    labels = le.transform(train.species)           # encode species strings\n",
    "    classes = list(le.classes_)                    # save column names for submission\n",
    "    test_ids = test.id                             # save test ids for submission\n",
    "    \n",
    "    train = train.drop(['species', 'id'], axis=1)  \n",
    "    test = test.drop(['id'], axis=1)\n",
    "    \n",
    "    return train, labels, test, test_ids, classes\n",
    "\n",
    "train, labels, test, test_ids, classes = encode(train, test)\n",
    "train.head(1)"
   ]
  },
  {
   "cell_type": "markdown",
   "metadata": {
    "_cell_guid": "b1d5c982-6864-d28b-ceb7-0821ecbacd11"
   },
   "source": [
    "## Stratified Train/Test Split\n",
    "\n",
    "Stratification is necessary for this dataset because there is a relatively large number of classes (100 classes for 990 samples). This will ensure we have all classes represented in both the train and test indices. "
   ]
  },
  {
   "cell_type": "code",
   "execution_count": 3,
   "metadata": {
    "_cell_guid": "fb28d729-fbe1-630b-94e9-aac17534e063"
   },
   "outputs": [],
   "source": [
    "#sss = StratifiedShuffleSplit(labels, 10, test_size=0.2, random_state=23)\n",
    "#\n",
    "#for train_index, test_index in sss:\n",
    "#    X_train, X_test = train.values[train_index], train.values[test_index]\n",
    "#    y_train, y_test = labels[train_index], labels[test_index]"
   ]
  },
  {
   "cell_type": "code",
   "execution_count": 4,
   "metadata": {
    "_cell_guid": "c75e281a-f0b3-28c2-9d0f-3b4b67015e4f"
   },
   "outputs": [],
   "source": [
    "pca = decomposition.PCA()\n",
    "pca.fit(train)\n",
    "train_t = pca.transform(train)"
   ]
  },
  {
   "cell_type": "code",
   "execution_count": 5,
   "metadata": {
    "_cell_guid": "9cf704b6-c1cf-7244-aa60-4ba289a8da89"
   },
   "outputs": [
    {
     "name": "stdout",
     "output_type": "stream",
     "text": [
      "# Tuning hyper-parameters for precision\n",
      "\n",
      "Best parameters set found on development set:\n",
      "\n",
      "{'C': 1000, 'kernel': 'linear'}\n",
      "\n",
      "Grid scores on development set:\n",
      "\n",
      "0.797 (+/-0.080) for {'C': 0.001, 'gamma': 0.01, 'kernel': 'rbf'}\n",
      "0.797 (+/-0.080) for {'C': 0.001, 'gamma': 0.001, 'kernel': 'rbf'}\n",
      "0.796 (+/-0.080) for {'C': 0.001, 'gamma': 0.0001, 'kernel': 'rbf'}\n",
      "0.797 (+/-0.084) for {'C': 0.001, 'gamma': 1e-05, 'kernel': 'rbf'}\n",
      "0.797 (+/-0.080) for {'C': 0.1, 'gamma': 0.01, 'kernel': 'rbf'}\n",
      "0.797 (+/-0.080) for {'C': 0.1, 'gamma': 0.001, 'kernel': 'rbf'}\n",
      "0.796 (+/-0.080) for {'C': 0.1, 'gamma': 0.0001, 'kernel': 'rbf'}\n",
      "0.797 (+/-0.084) for {'C': 0.1, 'gamma': 1e-05, 'kernel': 'rbf'}\n",
      "0.797 (+/-0.080) for {'C': 0.1, 'gamma': 0.01, 'kernel': 'rbf'}\n",
      "0.797 (+/-0.080) for {'C': 0.1, 'gamma': 0.001, 'kernel': 'rbf'}\n",
      "0.796 (+/-0.080) for {'C': 0.1, 'gamma': 0.0001, 'kernel': 'rbf'}\n",
      "0.797 (+/-0.084) for {'C': 0.1, 'gamma': 1e-05, 'kernel': 'rbf'}\n",
      "0.797 (+/-0.080) for {'C': 10, 'gamma': 0.01, 'kernel': 'rbf'}\n",
      "0.797 (+/-0.080) for {'C': 10, 'gamma': 0.001, 'kernel': 'rbf'}\n",
      "0.796 (+/-0.080) for {'C': 10, 'gamma': 0.0001, 'kernel': 'rbf'}\n",
      "0.797 (+/-0.084) for {'C': 10, 'gamma': 1e-05, 'kernel': 'rbf'}\n",
      "0.797 (+/-0.080) for {'C': 25, 'gamma': 0.01, 'kernel': 'rbf'}\n",
      "0.797 (+/-0.080) for {'C': 25, 'gamma': 0.001, 'kernel': 'rbf'}\n",
      "0.796 (+/-0.080) for {'C': 25, 'gamma': 0.0001, 'kernel': 'rbf'}\n",
      "0.797 (+/-0.084) for {'C': 25, 'gamma': 1e-05, 'kernel': 'rbf'}\n",
      "0.799 (+/-0.074) for {'C': 50, 'gamma': 0.01, 'kernel': 'rbf'}\n",
      "0.797 (+/-0.080) for {'C': 50, 'gamma': 0.001, 'kernel': 'rbf'}\n",
      "0.796 (+/-0.080) for {'C': 50, 'gamma': 0.0001, 'kernel': 'rbf'}\n",
      "0.797 (+/-0.084) for {'C': 50, 'gamma': 1e-05, 'kernel': 'rbf'}\n",
      "0.803 (+/-0.084) for {'C': 100, 'gamma': 0.01, 'kernel': 'rbf'}\n",
      "0.797 (+/-0.080) for {'C': 100, 'gamma': 0.001, 'kernel': 'rbf'}\n",
      "0.796 (+/-0.080) for {'C': 100, 'gamma': 0.0001, 'kernel': 'rbf'}\n",
      "0.797 (+/-0.084) for {'C': 100, 'gamma': 1e-05, 'kernel': 'rbf'}\n",
      "0.940 (+/-0.035) for {'C': 1000, 'gamma': 0.01, 'kernel': 'rbf'}\n",
      "0.803 (+/-0.084) for {'C': 1000, 'gamma': 0.001, 'kernel': 'rbf'}\n",
      "0.796 (+/-0.080) for {'C': 1000, 'gamma': 0.0001, 'kernel': 'rbf'}\n",
      "0.797 (+/-0.084) for {'C': 1000, 'gamma': 1e-05, 'kernel': 'rbf'}\n",
      "0.797 (+/-0.080) for {'C': 0.001, 'gamma': 0.01, 'kernel': 'sigmoid'}\n",
      "0.797 (+/-0.080) for {'C': 0.001, 'gamma': 0.001, 'kernel': 'sigmoid'}\n",
      "0.797 (+/-0.080) for {'C': 0.001, 'gamma': 0.0001, 'kernel': 'sigmoid'}\n",
      "0.797 (+/-0.080) for {'C': 0.001, 'gamma': 1e-05, 'kernel': 'sigmoid'}\n",
      "0.797 (+/-0.080) for {'C': 0.1, 'gamma': 0.01, 'kernel': 'sigmoid'}\n",
      "0.797 (+/-0.080) for {'C': 0.1, 'gamma': 0.001, 'kernel': 'sigmoid'}\n",
      "0.797 (+/-0.080) for {'C': 0.1, 'gamma': 0.0001, 'kernel': 'sigmoid'}\n",
      "0.797 (+/-0.080) for {'C': 0.1, 'gamma': 1e-05, 'kernel': 'sigmoid'}\n",
      "0.797 (+/-0.080) for {'C': 0.1, 'gamma': 0.01, 'kernel': 'sigmoid'}\n",
      "0.797 (+/-0.080) for {'C': 0.1, 'gamma': 0.001, 'kernel': 'sigmoid'}\n",
      "0.797 (+/-0.080) for {'C': 0.1, 'gamma': 0.0001, 'kernel': 'sigmoid'}\n",
      "0.797 (+/-0.080) for {'C': 0.1, 'gamma': 1e-05, 'kernel': 'sigmoid'}\n",
      "0.797 (+/-0.080) for {'C': 10, 'gamma': 0.01, 'kernel': 'sigmoid'}\n",
      "0.797 (+/-0.080) for {'C': 10, 'gamma': 0.001, 'kernel': 'sigmoid'}\n",
      "0.797 (+/-0.080) for {'C': 10, 'gamma': 0.0001, 'kernel': 'sigmoid'}\n",
      "0.797 (+/-0.080) for {'C': 10, 'gamma': 1e-05, 'kernel': 'sigmoid'}\n",
      "0.797 (+/-0.080) for {'C': 25, 'gamma': 0.01, 'kernel': 'sigmoid'}\n",
      "0.797 (+/-0.080) for {'C': 25, 'gamma': 0.001, 'kernel': 'sigmoid'}\n",
      "0.797 (+/-0.080) for {'C': 25, 'gamma': 0.0001, 'kernel': 'sigmoid'}\n",
      "0.797 (+/-0.080) for {'C': 25, 'gamma': 1e-05, 'kernel': 'sigmoid'}\n",
      "0.797 (+/-0.080) for {'C': 50, 'gamma': 0.01, 'kernel': 'sigmoid'}\n",
      "0.797 (+/-0.080) for {'C': 50, 'gamma': 0.001, 'kernel': 'sigmoid'}\n",
      "0.797 (+/-0.080) for {'C': 50, 'gamma': 0.0001, 'kernel': 'sigmoid'}\n",
      "0.797 (+/-0.080) for {'C': 50, 'gamma': 1e-05, 'kernel': 'sigmoid'}\n",
      "0.799 (+/-0.074) for {'C': 100, 'gamma': 0.01, 'kernel': 'sigmoid'}\n",
      "0.797 (+/-0.080) for {'C': 100, 'gamma': 0.001, 'kernel': 'sigmoid'}\n",
      "0.797 (+/-0.080) for {'C': 100, 'gamma': 0.0001, 'kernel': 'sigmoid'}\n",
      "0.797 (+/-0.080) for {'C': 100, 'gamma': 1e-05, 'kernel': 'sigmoid'}\n",
      "0.896 (+/-0.045) for {'C': 1000, 'gamma': 0.01, 'kernel': 'sigmoid'}\n",
      "0.799 (+/-0.074) for {'C': 1000, 'gamma': 0.001, 'kernel': 'sigmoid'}\n",
      "0.797 (+/-0.080) for {'C': 1000, 'gamma': 0.0001, 'kernel': 'sigmoid'}\n",
      "0.797 (+/-0.080) for {'C': 1000, 'gamma': 1e-05, 'kernel': 'sigmoid'}\n",
      "0.797 (+/-0.080) for {'C': 0.001, 'kernel': 'linear'}\n",
      "0.797 (+/-0.080) for {'C': 0.1, 'kernel': 'linear'}\n",
      "0.797 (+/-0.080) for {'C': 0.1, 'kernel': 'linear'}\n",
      "0.896 (+/-0.045) for {'C': 10, 'kernel': 'linear'}\n",
      "0.948 (+/-0.023) for {'C': 25, 'kernel': 'linear'}\n",
      "0.948 (+/-0.033) for {'C': 50, 'kernel': 'linear'}\n",
      "0.956 (+/-0.025) for {'C': 100, 'kernel': 'linear'}\n",
      "0.956 (+/-0.026) for {'C': 1000, 'kernel': 'linear'}\n",
      "\n",
      "# Tuning hyper-parameters for recall\n",
      "\n",
      "Best parameters set found on development set:\n",
      "\n",
      "{'C': 1000, 'kernel': 'linear'}\n",
      "\n",
      "Grid scores on development set:\n",
      "\n",
      "0.797 (+/-0.074) for {'C': 0.001, 'gamma': 0.01, 'kernel': 'rbf'}\n",
      "0.797 (+/-0.074) for {'C': 0.001, 'gamma': 0.001, 'kernel': 'rbf'}\n",
      "0.797 (+/-0.074) for {'C': 0.001, 'gamma': 0.0001, 'kernel': 'rbf'}\n",
      "0.797 (+/-0.075) for {'C': 0.001, 'gamma': 1e-05, 'kernel': 'rbf'}\n",
      "0.797 (+/-0.074) for {'C': 0.1, 'gamma': 0.01, 'kernel': 'rbf'}\n",
      "0.797 (+/-0.074) for {'C': 0.1, 'gamma': 0.001, 'kernel': 'rbf'}\n",
      "0.797 (+/-0.074) for {'C': 0.1, 'gamma': 0.0001, 'kernel': 'rbf'}\n",
      "0.797 (+/-0.075) for {'C': 0.1, 'gamma': 1e-05, 'kernel': 'rbf'}\n",
      "0.797 (+/-0.074) for {'C': 0.1, 'gamma': 0.01, 'kernel': 'rbf'}\n",
      "0.797 (+/-0.074) for {'C': 0.1, 'gamma': 0.001, 'kernel': 'rbf'}\n",
      "0.797 (+/-0.074) for {'C': 0.1, 'gamma': 0.0001, 'kernel': 'rbf'}\n",
      "0.797 (+/-0.075) for {'C': 0.1, 'gamma': 1e-05, 'kernel': 'rbf'}\n",
      "0.797 (+/-0.074) for {'C': 10, 'gamma': 0.01, 'kernel': 'rbf'}\n",
      "0.797 (+/-0.074) for {'C': 10, 'gamma': 0.001, 'kernel': 'rbf'}\n",
      "0.797 (+/-0.074) for {'C': 10, 'gamma': 0.0001, 'kernel': 'rbf'}\n",
      "0.797 (+/-0.075) for {'C': 10, 'gamma': 1e-05, 'kernel': 'rbf'}\n",
      "0.797 (+/-0.074) for {'C': 25, 'gamma': 0.01, 'kernel': 'rbf'}\n",
      "0.797 (+/-0.074) for {'C': 25, 'gamma': 0.001, 'kernel': 'rbf'}\n",
      "0.797 (+/-0.074) for {'C': 25, 'gamma': 0.0001, 'kernel': 'rbf'}\n",
      "0.797 (+/-0.075) for {'C': 25, 'gamma': 1e-05, 'kernel': 'rbf'}\n",
      "0.798 (+/-0.071) for {'C': 50, 'gamma': 0.01, 'kernel': 'rbf'}\n",
      "0.797 (+/-0.074) for {'C': 50, 'gamma': 0.001, 'kernel': 'rbf'}\n",
      "0.797 (+/-0.074) for {'C': 50, 'gamma': 0.0001, 'kernel': 'rbf'}\n",
      "0.797 (+/-0.075) for {'C': 50, 'gamma': 1e-05, 'kernel': 'rbf'}\n",
      "0.802 (+/-0.074) for {'C': 100, 'gamma': 0.01, 'kernel': 'rbf'}\n",
      "0.797 (+/-0.074) for {'C': 100, 'gamma': 0.001, 'kernel': 'rbf'}\n",
      "0.797 (+/-0.074) for {'C': 100, 'gamma': 0.0001, 'kernel': 'rbf'}\n",
      "0.797 (+/-0.075) for {'C': 100, 'gamma': 1e-05, 'kernel': 'rbf'}\n",
      "0.927 (+/-0.040) for {'C': 1000, 'gamma': 0.01, 'kernel': 'rbf'}\n",
      "0.802 (+/-0.074) for {'C': 1000, 'gamma': 0.001, 'kernel': 'rbf'}\n",
      "0.797 (+/-0.074) for {'C': 1000, 'gamma': 0.0001, 'kernel': 'rbf'}\n",
      "0.797 (+/-0.075) for {'C': 1000, 'gamma': 1e-05, 'kernel': 'rbf'}\n",
      "0.797 (+/-0.074) for {'C': 0.001, 'gamma': 0.01, 'kernel': 'sigmoid'}\n",
      "0.797 (+/-0.074) for {'C': 0.001, 'gamma': 0.001, 'kernel': 'sigmoid'}\n",
      "0.797 (+/-0.074) for {'C': 0.001, 'gamma': 0.0001, 'kernel': 'sigmoid'}\n",
      "0.797 (+/-0.074) for {'C': 0.001, 'gamma': 1e-05, 'kernel': 'sigmoid'}\n",
      "0.797 (+/-0.074) for {'C': 0.1, 'gamma': 0.01, 'kernel': 'sigmoid'}\n",
      "0.797 (+/-0.074) for {'C': 0.1, 'gamma': 0.001, 'kernel': 'sigmoid'}\n",
      "0.797 (+/-0.074) for {'C': 0.1, 'gamma': 0.0001, 'kernel': 'sigmoid'}\n",
      "0.797 (+/-0.074) for {'C': 0.1, 'gamma': 1e-05, 'kernel': 'sigmoid'}\n",
      "0.797 (+/-0.074) for {'C': 0.1, 'gamma': 0.01, 'kernel': 'sigmoid'}\n",
      "0.797 (+/-0.074) for {'C': 0.1, 'gamma': 0.001, 'kernel': 'sigmoid'}\n",
      "0.797 (+/-0.074) for {'C': 0.1, 'gamma': 0.0001, 'kernel': 'sigmoid'}\n",
      "0.797 (+/-0.074) for {'C': 0.1, 'gamma': 1e-05, 'kernel': 'sigmoid'}\n",
      "0.797 (+/-0.074) for {'C': 10, 'gamma': 0.01, 'kernel': 'sigmoid'}\n",
      "0.797 (+/-0.074) for {'C': 10, 'gamma': 0.001, 'kernel': 'sigmoid'}\n",
      "0.797 (+/-0.074) for {'C': 10, 'gamma': 0.0001, 'kernel': 'sigmoid'}\n",
      "0.797 (+/-0.074) for {'C': 10, 'gamma': 1e-05, 'kernel': 'sigmoid'}\n",
      "0.797 (+/-0.074) for {'C': 25, 'gamma': 0.01, 'kernel': 'sigmoid'}\n",
      "0.797 (+/-0.074) for {'C': 25, 'gamma': 0.001, 'kernel': 'sigmoid'}\n",
      "0.797 (+/-0.074) for {'C': 25, 'gamma': 0.0001, 'kernel': 'sigmoid'}\n",
      "0.797 (+/-0.074) for {'C': 25, 'gamma': 1e-05, 'kernel': 'sigmoid'}\n",
      "0.797 (+/-0.074) for {'C': 50, 'gamma': 0.01, 'kernel': 'sigmoid'}\n",
      "0.797 (+/-0.074) for {'C': 50, 'gamma': 0.001, 'kernel': 'sigmoid'}\n",
      "0.797 (+/-0.074) for {'C': 50, 'gamma': 0.0001, 'kernel': 'sigmoid'}\n",
      "0.797 (+/-0.074) for {'C': 50, 'gamma': 1e-05, 'kernel': 'sigmoid'}\n",
      "0.798 (+/-0.071) for {'C': 100, 'gamma': 0.01, 'kernel': 'sigmoid'}\n",
      "0.797 (+/-0.074) for {'C': 100, 'gamma': 0.001, 'kernel': 'sigmoid'}\n",
      "0.797 (+/-0.074) for {'C': 100, 'gamma': 0.0001, 'kernel': 'sigmoid'}\n",
      "0.797 (+/-0.074) for {'C': 100, 'gamma': 1e-05, 'kernel': 'sigmoid'}\n",
      "0.887 (+/-0.048) for {'C': 1000, 'gamma': 0.01, 'kernel': 'sigmoid'}\n",
      "0.798 (+/-0.071) for {'C': 1000, 'gamma': 0.001, 'kernel': 'sigmoid'}\n",
      "0.797 (+/-0.074) for {'C': 1000, 'gamma': 0.0001, 'kernel': 'sigmoid'}\n",
      "0.797 (+/-0.074) for {'C': 1000, 'gamma': 1e-05, 'kernel': 'sigmoid'}\n",
      "0.797 (+/-0.074) for {'C': 0.001, 'kernel': 'linear'}\n",
      "0.797 (+/-0.074) for {'C': 0.1, 'kernel': 'linear'}\n",
      "0.797 (+/-0.074) for {'C': 0.1, 'kernel': 'linear'}\n",
      "0.887 (+/-0.048) for {'C': 10, 'kernel': 'linear'}\n",
      "0.938 (+/-0.025) for {'C': 25, 'kernel': 'linear'}\n",
      "0.944 (+/-0.029) for {'C': 50, 'kernel': 'linear'}\n",
      "0.948 (+/-0.027) for {'C': 100, 'kernel': 'linear'}\n",
      "0.949 (+/-0.029) for {'C': 1000, 'kernel': 'linear'}\n",
      "\n"
     ]
    }
   ],
   "source": [
    "# Set the parameters by cross-validation\n",
    "tuned_parameters = [{'kernel': ['rbf'], 'gamma': [1e-2, 1e-3, 1e-4, 1e-5],\n",
    "                     'C': [0.001, 0.10, 0.1, 10, 25, 50, 100, 1000]},\n",
    "                    {'kernel': ['sigmoid'], 'gamma': [1e-2, 1e-3, 1e-4, 1e-5],\n",
    "                     'C': [0.001, 0.10, 0.1, 10, 25, 50, 100, 1000]},\n",
    "                    {'kernel': ['linear'], 'C': [0.001, 0.10, 0.1, 10, 25, 50, 100, 1000]}\n",
    "                   ]\n",
    "\n",
    "scores = ['precision', 'recall']\n",
    "\n",
    "for score in scores:\n",
    "    print(\"# Tuning hyper-parameters for %s\" % score)\n",
    "    print()\n",
    "\n",
    "    clf = GridSearchCV(SVC(C=1), tuned_parameters, cv=5,\n",
    "                       scoring='%s_macro' % score)\n",
    "    clf.fit(train_t, labels)\n",
    "\n",
    "    print(\"Best parameters set found on development set:\")\n",
    "    print()\n",
    "    print(clf.best_params_)\n",
    "    print()\n",
    "    print(\"Grid scores on development set:\")\n",
    "    print()\n",
    "    means = clf.cv_results_['mean_test_score']\n",
    "    stds = clf.cv_results_['std_test_score']\n",
    "    for mean, std, params in zip(means, stds, clf.cv_results_['params']):\n",
    "        print(\"%0.3f (+/-%0.03f) for %r\"\n",
    "              % (mean, std * 2, params))\n",
    "    print()\n",
    "\n",
    "#    print(\"Detailed classification report:\")\n",
    "#    print()\n",
    "#    print(\"The model is trained on the full development set.\")\n",
    "#    print(\"The scores are computed on the full evaluation set.\")\n",
    "#    print()\n",
    "#    y_true, y_pred = y_test, clf.predict(X_test)\n",
    "#    print(classification_report(y_true, y_pred))\n",
    "#    print()"
   ]
  },
  {
   "cell_type": "code",
   "execution_count": 6,
   "metadata": {
    "_cell_guid": "05b85a1f-b973-32bf-cfe3-757a93fe0b0f"
   },
   "outputs": [
    {
     "data": {
      "text/plain": [
       "{'C': 1000, 'kernel': 'linear'}"
      ]
     },
     "execution_count": 6,
     "metadata": {},
     "output_type": "execute_result"
    }
   ],
   "source": [
    "clf.best_params_"
   ]
  },
  {
   "cell_type": "code",
   "execution_count": 7,
   "metadata": {
    "_cell_guid": "786a8c96-1ed9-ea20-cac1-21891dcda6fa"
   },
   "outputs": [
    {
     "data": {
      "text/html": [
       "<style>#sk-container-id-1 {color: black;background-color: white;}#sk-container-id-1 pre{padding: 0;}#sk-container-id-1 div.sk-toggleable {background-color: white;}#sk-container-id-1 label.sk-toggleable__label {cursor: pointer;display: block;width: 100%;margin-bottom: 0;padding: 0.3em;box-sizing: border-box;text-align: center;}#sk-container-id-1 label.sk-toggleable__label-arrow:before {content: \"▸\";float: left;margin-right: 0.25em;color: #696969;}#sk-container-id-1 label.sk-toggleable__label-arrow:hover:before {color: black;}#sk-container-id-1 div.sk-estimator:hover label.sk-toggleable__label-arrow:before {color: black;}#sk-container-id-1 div.sk-toggleable__content {max-height: 0;max-width: 0;overflow: hidden;text-align: left;background-color: #f0f8ff;}#sk-container-id-1 div.sk-toggleable__content pre {margin: 0.2em;color: black;border-radius: 0.25em;background-color: #f0f8ff;}#sk-container-id-1 input.sk-toggleable__control:checked~div.sk-toggleable__content {max-height: 200px;max-width: 100%;overflow: auto;}#sk-container-id-1 input.sk-toggleable__control:checked~label.sk-toggleable__label-arrow:before {content: \"▾\";}#sk-container-id-1 div.sk-estimator input.sk-toggleable__control:checked~label.sk-toggleable__label {background-color: #d4ebff;}#sk-container-id-1 div.sk-label input.sk-toggleable__control:checked~label.sk-toggleable__label {background-color: #d4ebff;}#sk-container-id-1 input.sk-hidden--visually {border: 0;clip: rect(1px 1px 1px 1px);clip: rect(1px, 1px, 1px, 1px);height: 1px;margin: -1px;overflow: hidden;padding: 0;position: absolute;width: 1px;}#sk-container-id-1 div.sk-estimator {font-family: monospace;background-color: #f0f8ff;border: 1px dotted black;border-radius: 0.25em;box-sizing: border-box;margin-bottom: 0.5em;}#sk-container-id-1 div.sk-estimator:hover {background-color: #d4ebff;}#sk-container-id-1 div.sk-parallel-item::after {content: \"\";width: 100%;border-bottom: 1px solid gray;flex-grow: 1;}#sk-container-id-1 div.sk-label:hover label.sk-toggleable__label {background-color: #d4ebff;}#sk-container-id-1 div.sk-serial::before {content: \"\";position: absolute;border-left: 1px solid gray;box-sizing: border-box;top: 0;bottom: 0;left: 50%;z-index: 0;}#sk-container-id-1 div.sk-serial {display: flex;flex-direction: column;align-items: center;background-color: white;padding-right: 0.2em;padding-left: 0.2em;position: relative;}#sk-container-id-1 div.sk-item {position: relative;z-index: 1;}#sk-container-id-1 div.sk-parallel {display: flex;align-items: stretch;justify-content: center;background-color: white;position: relative;}#sk-container-id-1 div.sk-item::before, #sk-container-id-1 div.sk-parallel-item::before {content: \"\";position: absolute;border-left: 1px solid gray;box-sizing: border-box;top: 0;bottom: 0;left: 50%;z-index: -1;}#sk-container-id-1 div.sk-parallel-item {display: flex;flex-direction: column;z-index: 1;position: relative;background-color: white;}#sk-container-id-1 div.sk-parallel-item:first-child::after {align-self: flex-end;width: 50%;}#sk-container-id-1 div.sk-parallel-item:last-child::after {align-self: flex-start;width: 50%;}#sk-container-id-1 div.sk-parallel-item:only-child::after {width: 0;}#sk-container-id-1 div.sk-dashed-wrapped {border: 1px dashed gray;margin: 0 0.4em 0.5em 0.4em;box-sizing: border-box;padding-bottom: 0.4em;background-color: white;}#sk-container-id-1 div.sk-label label {font-family: monospace;font-weight: bold;display: inline-block;line-height: 1.2em;}#sk-container-id-1 div.sk-label-container {text-align: center;}#sk-container-id-1 div.sk-container {/* jupyter's `normalize.less` sets `[hidden] { display: none; }` but bootstrap.min.css set `[hidden] { display: none !important; }` so we also need the `!important` here to be able to override the default hidden behavior on the sphinx rendered scikit-learn.org. See: https://github.com/scikit-learn/scikit-learn/issues/21755 */display: inline-block !important;position: relative;}#sk-container-id-1 div.sk-text-repr-fallback {display: none;}</style><div id=\"sk-container-id-1\" class=\"sk-top-container\"><div class=\"sk-text-repr-fallback\"><pre>SVC(C=1000, kernel=&#x27;linear&#x27;, probability=True)</pre><b>In a Jupyter environment, please rerun this cell to show the HTML representation or trust the notebook. <br />On GitHub, the HTML representation is unable to render, please try loading this page with nbviewer.org.</b></div><div class=\"sk-container\" hidden><div class=\"sk-item\"><div class=\"sk-estimator sk-toggleable\"><input class=\"sk-toggleable__control sk-hidden--visually\" id=\"sk-estimator-id-1\" type=\"checkbox\" checked><label for=\"sk-estimator-id-1\" class=\"sk-toggleable__label sk-toggleable__label-arrow\">SVC</label><div class=\"sk-toggleable__content\"><pre>SVC(C=1000, kernel=&#x27;linear&#x27;, probability=True)</pre></div></div></div></div></div>"
      ],
      "text/plain": [
       "SVC(C=1000, kernel='linear', probability=True)"
      ]
     },
     "execution_count": 7,
     "metadata": {},
     "output_type": "execute_result"
    }
   ],
   "source": [
    "my_svm = SVC(C=1000, kernel=\"linear\", probability=True)\n",
    "my_svm.fit(train_t, labels)\n",
    "\n",
    "#print('****Results****')\n",
    "#train_predictions = my_svm.predict(X_test)\n",
    "#acc = accuracy_score(y_test, train_predictions)\n",
    "#print(\"Accuracy: {:.4%}\".format(acc))\n",
    "#\n",
    "#train_predictions = my_svm.predict_proba(X_test)\n",
    "#ll = log_loss(y_test, train_predictions)\n",
    "#print(\"Log Loss: {}\".format(ll))\n",
    "#\n",
    "#\n",
    "#print(\"=\"*30)"
   ]
  },
  {
   "cell_type": "code",
   "execution_count": 8,
   "metadata": {
    "_cell_guid": "d0adc16f-8a41-6927-94a6-adc41695a87c"
   },
   "outputs": [],
   "source": [
    "#train_t = pca.transform(train)\n",
    "#my_svm.fit(train_t, labels)\n",
    "\n",
    "test_t = pca.transform(test)\n",
    "test_predictions = my_svm.predict_proba(test_t)\n",
    "\n",
    "# Format DataFrame\n",
    "submission = pd.DataFrame(test_predictions, columns=classes)\n",
    "submission.insert(0, 'id', test_ids)\n",
    "submission.reset_index()\n",
    "\n",
    "# Export Submission\n",
    "submission.to_csv('./leafClf/submission.csv', index = False)"
   ]
  },
  {
   "cell_type": "code",
   "execution_count": 9,
   "metadata": {},
   "outputs": [],
   "source": [
    "subm = pd.read_csv('./leafClf/submission.csv')"
   ]
  },
  {
   "cell_type": "code",
   "execution_count": 10,
   "metadata": {},
   "outputs": [
    {
     "data": {
      "text/plain": [
       "0      1.0\n",
       "1      1.0\n",
       "2      1.0\n",
       "3      1.0\n",
       "4      1.0\n",
       "      ... \n",
       "589    1.0\n",
       "590    1.0\n",
       "591    1.0\n",
       "592    1.0\n",
       "593    1.0\n",
       "Length: 594, dtype: float64"
      ]
     },
     "execution_count": 10,
     "metadata": {},
     "output_type": "execute_result"
    }
   ],
   "source": [
    "subm.iloc[:, 1:].sum(axis='columns')"
   ]
  },
  {
   "cell_type": "markdown",
   "metadata": {},
   "source": [
    "#### Reference:\n",
    "\n",
    "- https://www.kaggle.com/code/udaysa/svm-with-scikit-learn-svm-with-parameter-tuning"
   ]
  }
 ],
 "metadata": {
  "_change_revision": 1,
  "_is_fork": false,
  "kernelspec": {
   "display_name": "Python 3",
   "language": "python",
   "name": "python3"
  },
  "language_info": {
   "codemirror_mode": {
    "name": "ipython",
    "version": 3
   },
   "file_extension": ".py",
   "mimetype": "text/x-python",
   "name": "python",
   "nbconvert_exporter": "python",
   "pygments_lexer": "ipython3",
   "version": "3.11.8"
  }
 },
 "nbformat": 4,
 "nbformat_minor": 0
}
