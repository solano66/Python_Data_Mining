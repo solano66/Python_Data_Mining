{
 "cells": [
  {
   "cell_type": "markdown",
   "metadata": {},
   "source": [
    "# Partial Least Squares Descriminant Analysis (PLS-DA)"
   ]
  },
  {
   "cell_type": "markdown",
   "metadata": {},
   "source": [
    "- Partial least squares discriminant analysis (PLS-DA) is an adaptation of PLS regression methods to the problem of supervised clustering. It has seen extensive use in the analysis of multivariate datasets, such as that derived from NMR-based metabolomics. 基於核磁共振的代謝組學\n",
    "\n",
    "- In this method the groups within the samples are already known (e.g. experimental groups) and the goal therefore is to determine two things —\n",
    "\n",
    "- Are the groups actually different? 各群是否的確不同\n",
    "- What are the features that best describe the differences between the groups? 哪些屬性最能刻畫組間的差異\n"
   ]
  },
  {
   "cell_type": "code",
   "execution_count": 1,
   "metadata": {},
   "outputs": [],
   "source": [
    "import os\n",
    "import sklearn\n",
    "import numpy as np\n",
    "import pandas as pd\n",
    "import matplotlib.pyplot as plt\n",
    "%matplotlib inline\n",
    "\n",
    "plt.style.use('ggplot')"
   ]
  },
  {
   "cell_type": "markdown",
   "metadata": {},
   "source": [
    "### Loading the data"
   ]
  },
  {
   "cell_type": "markdown",
   "metadata": {},
   "source": [
    "- For this demo we will start with 1D 1H NMR data as it makes explanation and visualization of the PLS models easy to understand. 一維一小時核磁共振資料 However, later we will also generate PLS-DA models for other data types, to demonstrate how you can easily apply these same methods to any type of multivariate data set."
   ]
  },
  {
   "cell_type": "code",
   "execution_count": 2,
   "metadata": {},
   "outputs": [],
   "source": [
    "df = pd.read_csv('./Data/data.csv', index_col=0, header=[0,1])"
   ]
  },
  {
   "cell_type": "code",
   "execution_count": null,
   "metadata": {},
   "outputs": [],
   "source": [
    "df.columns\n",
    "# MultiIndex(levels=[['1', '10', '11', '12', '13', '14', '15', '16', '17', '2', '3', '4', '5', '6', '7', '8', '9'], ['H', 'N']],\n",
    "#           codes=[[0, 9, 10, 11, 12, 13, 14, 15, 16, 1, 2, 3, 4, 5, 6, 7, 8], [0, 0, 0, 0, 0, 0, 0, 0, 1, 1, 1, 1, 1, 1, 1, 1, 1]],\n",
    "#           names=['Sample', 'Group'])"
   ]
  },
  {
   "cell_type": "code",
   "execution_count": 3,
   "metadata": {},
   "outputs": [
    {
     "data": {
      "text/html": [
       "<div>\n",
       "<style scoped>\n",
       "    .dataframe tbody tr th:only-of-type {\n",
       "        vertical-align: middle;\n",
       "    }\n",
       "\n",
       "    .dataframe tbody tr th {\n",
       "        vertical-align: top;\n",
       "    }\n",
       "\n",
       "    .dataframe thead tr th {\n",
       "        text-align: left;\n",
       "    }\n",
       "</style>\n",
       "<table border=\"1\" class=\"dataframe\">\n",
       "  <thead>\n",
       "    <tr>\n",
       "      <th>Sample</th>\n",
       "      <th>1</th>\n",
       "      <th>2</th>\n",
       "      <th>3</th>\n",
       "      <th>4</th>\n",
       "      <th>5</th>\n",
       "      <th>6</th>\n",
       "      <th>7</th>\n",
       "      <th>8</th>\n",
       "      <th>9</th>\n",
       "      <th>10</th>\n",
       "      <th>11</th>\n",
       "      <th>12</th>\n",
       "      <th>13</th>\n",
       "      <th>14</th>\n",
       "      <th>15</th>\n",
       "      <th>16</th>\n",
       "      <th>17</th>\n",
       "    </tr>\n",
       "    <tr>\n",
       "      <th>Group</th>\n",
       "      <th>H</th>\n",
       "      <th>H</th>\n",
       "      <th>H</th>\n",
       "      <th>H</th>\n",
       "      <th>H</th>\n",
       "      <th>H</th>\n",
       "      <th>H</th>\n",
       "      <th>H</th>\n",
       "      <th>N</th>\n",
       "      <th>N</th>\n",
       "      <th>N</th>\n",
       "      <th>N</th>\n",
       "      <th>N</th>\n",
       "      <th>N</th>\n",
       "      <th>N</th>\n",
       "      <th>N</th>\n",
       "      <th>N</th>\n",
       "    </tr>\n",
       "  </thead>\n",
       "  <tbody>\n",
       "    <tr>\n",
       "      <th>10.8042</th>\n",
       "      <td>-7.130000e-07</td>\n",
       "      <td>1.310000e-07</td>\n",
       "      <td>-2.640000e-07</td>\n",
       "      <td>0.0</td>\n",
       "      <td>-5.740000e-07</td>\n",
       "      <td>-3.410000e-07</td>\n",
       "      <td>-6.220000e-07</td>\n",
       "      <td>-1.280000e-06</td>\n",
       "      <td>-5.330000e-07</td>\n",
       "      <td>-3.290000e-07</td>\n",
       "      <td>-1.730000e-07</td>\n",
       "      <td>-1.140000e-06</td>\n",
       "      <td>-1.830000e-06</td>\n",
       "      <td>-1.230000e-06</td>\n",
       "      <td>5.410000e-07</td>\n",
       "      <td>-7.560000e-07</td>\n",
       "      <td>2.350000e-08</td>\n",
       "    </tr>\n",
       "    <tr>\n",
       "      <th>10.8039</th>\n",
       "      <td>-6.600000e-07</td>\n",
       "      <td>6.710000e-07</td>\n",
       "      <td>5.180000e-08</td>\n",
       "      <td>0.0</td>\n",
       "      <td>-4.260000e-08</td>\n",
       "      <td>-2.810000e-07</td>\n",
       "      <td>-4.660000e-07</td>\n",
       "      <td>-1.470000e-06</td>\n",
       "      <td>-7.810000e-07</td>\n",
       "      <td>-1.860000e-07</td>\n",
       "      <td>-1.680000e-08</td>\n",
       "      <td>-9.650000e-07</td>\n",
       "      <td>-1.240000e-06</td>\n",
       "      <td>-1.080000e-06</td>\n",
       "      <td>3.480000e-07</td>\n",
       "      <td>-6.360000e-07</td>\n",
       "      <td>-5.540000e-08</td>\n",
       "    </tr>\n",
       "    <tr>\n",
       "      <th>10.8035</th>\n",
       "      <td>-6.280000e-07</td>\n",
       "      <td>6.260000e-07</td>\n",
       "      <td>1.980000e-07</td>\n",
       "      <td>0.0</td>\n",
       "      <td>3.710000e-07</td>\n",
       "      <td>-8.090000e-08</td>\n",
       "      <td>-1.400000e-07</td>\n",
       "      <td>-1.500000e-06</td>\n",
       "      <td>-6.430000e-07</td>\n",
       "      <td>-1.110000e-07</td>\n",
       "      <td>3.380000e-07</td>\n",
       "      <td>-7.090000e-07</td>\n",
       "      <td>-8.500000e-07</td>\n",
       "      <td>-8.010000e-07</td>\n",
       "      <td>1.590000e-07</td>\n",
       "      <td>-4.130000e-07</td>\n",
       "      <td>-1.830000e-07</td>\n",
       "    </tr>\n",
       "    <tr>\n",
       "      <th>10.8031</th>\n",
       "      <td>-3.380000e-07</td>\n",
       "      <td>1.190000e-07</td>\n",
       "      <td>3.320000e-08</td>\n",
       "      <td>0.0</td>\n",
       "      <td>2.470000e-07</td>\n",
       "      <td>2.450000e-08</td>\n",
       "      <td>5.630000e-08</td>\n",
       "      <td>-1.210000e-06</td>\n",
       "      <td>-3.040000e-07</td>\n",
       "      <td>-1.130000e-07</td>\n",
       "      <td>5.040000e-07</td>\n",
       "      <td>-4.480000e-07</td>\n",
       "      <td>-6.530000e-07</td>\n",
       "      <td>-3.410000e-07</td>\n",
       "      <td>6.240000e-09</td>\n",
       "      <td>-1.950000e-07</td>\n",
       "      <td>-1.350000e-07</td>\n",
       "    </tr>\n",
       "    <tr>\n",
       "      <th>10.8028</th>\n",
       "      <td>-7.320000e-07</td>\n",
       "      <td>4.000000e-08</td>\n",
       "      <td>8.600000e-08</td>\n",
       "      <td>0.0</td>\n",
       "      <td>1.340000e-07</td>\n",
       "      <td>1.360000e-07</td>\n",
       "      <td>8.130000e-09</td>\n",
       "      <td>-6.220000e-07</td>\n",
       "      <td>-2.390000e-08</td>\n",
       "      <td>-7.170000e-08</td>\n",
       "      <td>2.700000e-07</td>\n",
       "      <td>-2.010000e-07</td>\n",
       "      <td>-3.000000e-07</td>\n",
       "      <td>-1.560000e-09</td>\n",
       "      <td>-8.300000e-08</td>\n",
       "      <td>-3.330000e-08</td>\n",
       "      <td>-2.650000e-09</td>\n",
       "    </tr>\n",
       "  </tbody>\n",
       "</table>\n",
       "</div>"
      ],
      "text/plain": [
       "Sample              1             2             3    4             5  \\\n",
       "Group               H             H             H    H             H   \n",
       "10.8042 -7.130000e-07  1.310000e-07 -2.640000e-07  0.0 -5.740000e-07   \n",
       "10.8039 -6.600000e-07  6.710000e-07  5.180000e-08  0.0 -4.260000e-08   \n",
       "10.8035 -6.280000e-07  6.260000e-07  1.980000e-07  0.0  3.710000e-07   \n",
       "10.8031 -3.380000e-07  1.190000e-07  3.320000e-08  0.0  2.470000e-07   \n",
       "10.8028 -7.320000e-07  4.000000e-08  8.600000e-08  0.0  1.340000e-07   \n",
       "\n",
       "Sample              6             7             8             9            10  \\\n",
       "Group               H             H             H             N             N   \n",
       "10.8042 -3.410000e-07 -6.220000e-07 -1.280000e-06 -5.330000e-07 -3.290000e-07   \n",
       "10.8039 -2.810000e-07 -4.660000e-07 -1.470000e-06 -7.810000e-07 -1.860000e-07   \n",
       "10.8035 -8.090000e-08 -1.400000e-07 -1.500000e-06 -6.430000e-07 -1.110000e-07   \n",
       "10.8031  2.450000e-08  5.630000e-08 -1.210000e-06 -3.040000e-07 -1.130000e-07   \n",
       "10.8028  1.360000e-07  8.130000e-09 -6.220000e-07 -2.390000e-08 -7.170000e-08   \n",
       "\n",
       "Sample             11            12            13            14            15  \\\n",
       "Group               N             N             N             N             N   \n",
       "10.8042 -1.730000e-07 -1.140000e-06 -1.830000e-06 -1.230000e-06  5.410000e-07   \n",
       "10.8039 -1.680000e-08 -9.650000e-07 -1.240000e-06 -1.080000e-06  3.480000e-07   \n",
       "10.8035  3.380000e-07 -7.090000e-07 -8.500000e-07 -8.010000e-07  1.590000e-07   \n",
       "10.8031  5.040000e-07 -4.480000e-07 -6.530000e-07 -3.410000e-07  6.240000e-09   \n",
       "10.8028  2.700000e-07 -2.010000e-07 -3.000000e-07 -1.560000e-09 -8.300000e-08   \n",
       "\n",
       "Sample             16            17  \n",
       "Group               N             N  \n",
       "10.8042 -7.560000e-07  2.350000e-08  \n",
       "10.8039 -6.360000e-07 -5.540000e-08  \n",
       "10.8035 -4.130000e-07 -1.830000e-07  \n",
       "10.8031 -1.950000e-07 -1.350000e-07  \n",
       "10.8028 -3.330000e-08 -2.650000e-09  "
      ]
     },
     "execution_count": 3,
     "metadata": {},
     "output_type": "execute_result"
    }
   ],
   "source": [
    "df.head()"
   ]
  },
  {
   "cell_type": "markdown",
   "metadata": {},
   "source": [
    "### Visualising the dataset"
   ]
  },
  {
   "cell_type": "code",
   "execution_count": 4,
   "metadata": {},
   "outputs": [
    {
     "data": {
      "text/plain": [
       "<matplotlib.axes._subplots.AxesSubplot at 0x1bfeba13dd8>"
      ]
     },
     "execution_count": 4,
     "metadata": {},
     "output_type": "execute_result"
    },
    {
     "data": {
      "image/png": "[encoded data removed]",
      "text/plain": [
       "<Figure size 864x288 with 1 Axes>"
      ]
     },
     "metadata": {},
     "output_type": "display_data"
    }
   ],
   "source": [
    "df.plot(kind='line', legend=False, figsize=(12,4))"
   ]
  },
  {
   "cell_type": "code",
   "execution_count": 5,
   "metadata": {},
   "outputs": [
    {
     "data": {
      "text/plain": [
       "Index(['H', 'H', 'H', 'H', 'H', 'H', 'H', 'H', 'N', 'N', 'N', 'N', 'N', 'N',\n",
       "       'N', 'N', 'N'],\n",
       "      dtype='object', name='Group')"
      ]
     },
     "execution_count": 5,
     "metadata": {},
     "output_type": "execute_result"
    }
   ],
   "source": [
    "df.columns.get_level_values('Group')"
   ]
  },
  {
   "cell_type": "code",
   "execution_count": 6,
   "metadata": {},
   "outputs": [],
   "source": [
    "colormap = {\n",
    "    'N': '#ff0000',  # Red\n",
    "    'H': '#0000ff',  # Blue\n",
    "}"
   ]
  },
  {
   "cell_type": "code",
   "execution_count": 7,
   "metadata": {},
   "outputs": [],
   "source": [
    "colorlist = [colormap[c] for c in df.columns.get_level_values('Group')]"
   ]
  },
  {
   "cell_type": "code",
   "execution_count": 8,
   "metadata": {},
   "outputs": [
    {
     "data": {
      "text/plain": [
       "<matplotlib.axes._subplots.AxesSubplot at 0x1bfeba87860>"
      ]
     },
     "execution_count": 8,
     "metadata": {},
     "output_type": "execute_result"
    },
    {
     "data": {
      "image/png": "[encoded data removed]",
      "text/plain": [
       "<Figure size 864x288 with 1 Axes>"
      ]
     },
     "metadata": {},
     "output_type": "display_data"
    }
   ],
   "source": [
    "df.plot(kind='line', legend=False, figsize=(12,4), color=colorlist)"
   ]
  },
  {
   "cell_type": "markdown",
   "metadata": {},
   "source": [
    "### Building the model"
   ]
  },
  {
   "cell_type": "code",
   "execution_count": 9,
   "metadata": {},
   "outputs": [],
   "source": [
    "y = [g == 'N' for g in df.columns.get_level_values('Group')]"
   ]
  },
  {
   "cell_type": "code",
   "execution_count": 10,
   "metadata": {},
   "outputs": [
    {
     "data": {
      "text/plain": [
       "[False,\n",
       " False,\n",
       " False,\n",
       " False,\n",
       " False,\n",
       " False,\n",
       " False,\n",
       " False,\n",
       " True,\n",
       " True,\n",
       " True,\n",
       " True,\n",
       " True,\n",
       " True,\n",
       " True,\n",
       " True,\n",
       " True]"
      ]
     },
     "execution_count": 10,
     "metadata": {},
     "output_type": "execute_result"
    }
   ],
   "source": [
    "y"
   ]
  },
  {
   "cell_type": "code",
   "execution_count": 11,
   "metadata": {},
   "outputs": [],
   "source": [
    "y = np.array(y, dtype=int)"
   ]
  },
  {
   "cell_type": "code",
   "execution_count": 12,
   "metadata": {},
   "outputs": [
    {
     "data": {
      "text/plain": [
       "array([0, 0, 0, 0, 0, 0, 0, 0, 1, 1, 1, 1, 1, 1, 1, 1, 1])"
      ]
     },
     "execution_count": 12,
     "metadata": {},
     "output_type": "execute_result"
    }
   ],
   "source": [
    "y"
   ]
  },
  {
   "cell_type": "code",
   "execution_count": 13,
   "metadata": {},
   "outputs": [
    {
     "data": {
      "text/plain": [
       "PLSRegression(scale=False)"
      ]
     },
     "execution_count": 13,
     "metadata": {},
     "output_type": "execute_result"
    }
   ],
   "source": [
    "from sklearn.cross_decomposition import PLSRegression\n",
    "\n",
    "plsr = PLSRegression(n_components=2, scale=False) #1\n",
    "plsr.fit(df.values.T, y) #2"
   ]
  },
  {
   "cell_type": "markdown",
   "metadata": {},
   "source": [
    "### Score and weights"
   ]
  },
  {
   "cell_type": "code",
   "execution_count": 14,
   "metadata": {},
   "outputs": [
    {
     "data": {
      "text/plain": [
       "array([[ 3.92694315e-02, -9.29162195e-04],\n",
       "       [ 6.19815287e-03,  2.21865271e-03],\n",
       "       [-7.44506642e-04,  2.34996177e-03],\n",
       "       [ 7.07716618e-05,  2.91632576e-03],\n",
       "       [-9.62618125e-04,  1.87962411e-03],\n",
       "       [-5.40193299e-03,  9.92629199e-04],\n",
       "       [-4.83151241e-03,  1.14136855e-03],\n",
       "       [ 3.23276209e-04,  1.55050405e-03],\n",
       "       [-4.66826544e-03, -5.02711820e-04],\n",
       "       [-5.39536704e-03, -1.29173548e-04],\n",
       "       [-4.27669103e-03,  1.45029741e-03],\n",
       "       [-2.36266891e-03, -3.36560802e-03],\n",
       "       [-3.27484629e-03, -3.84299053e-03],\n",
       "       [-3.10230748e-03, -2.94421474e-03],\n",
       "       [-3.84243522e-03, -7.34635813e-04],\n",
       "       [-3.84621536e-03, -9.57214638e-04],\n",
       "       [-3.15226532e-03, -1.09365226e-03]])"
      ]
     },
     "execution_count": 14,
     "metadata": {},
     "output_type": "execute_result"
    }
   ],
   "source": [
    "plsr.x_scores_"
   ]
  },
  {
   "cell_type": "code",
   "execution_count": 15,
   "metadata": {},
   "outputs": [
    {
     "data": {
      "text/plain": [
       "(32768, 2)"
      ]
     },
     "execution_count": 15,
     "metadata": {},
     "output_type": "execute_result"
    }
   ],
   "source": [
    "plsr.x_weights_.shape"
   ]
  },
  {
   "cell_type": "code",
   "execution_count": 16,
   "metadata": {},
   "outputs": [
    {
     "data": {
      "text/plain": [
       "Text(0, 0.5, 'Score on LV 2')"
      ]
     },
     "execution_count": 16,
     "metadata": {},
     "output_type": "execute_result"
    },
    {
     "data": {
      "image/png": "[encoded data removed]",
      "text/plain": [
       "<Figure size 432x432 with 1 Axes>"
      ]
     },
     "metadata": {},
     "output_type": "display_data"
    }
   ],
   "source": [
    "scores = pd.DataFrame(plsr.x_scores_)\n",
    "scores.index = df.columns\n",
    "\n",
    "ax = scores.plot(x=0, y=1, kind='scatter', s=50, alpha=0.7,\n",
    "                 c=colorlist, figsize=(6, 6))\n",
    "\n",
    "ax.set_xlabel('Score on LV 1')\n",
    "ax.set_ylabel('Score on LV 2')"
   ]
  },
  {
   "cell_type": "code",
   "execution_count": 17,
   "metadata": {},
   "outputs": [
    {
     "data": {
      "text/html": [
       "<div>\n",
       "<style scoped>\n",
       "    .dataframe tbody tr th:only-of-type {\n",
       "        vertical-align: middle;\n",
       "    }\n",
       "\n",
       "    .dataframe tbody tr th {\n",
       "        vertical-align: top;\n",
       "    }\n",
       "\n",
       "    .dataframe thead th {\n",
       "        text-align: right;\n",
       "    }\n",
       "</style>\n",
       "<table border=\"1\" class=\"dataframe\">\n",
       "  <thead>\n",
       "    <tr style=\"text-align: right;\">\n",
       "      <th></th>\n",
       "      <th></th>\n",
       "      <th>0</th>\n",
       "      <th>1</th>\n",
       "    </tr>\n",
       "    <tr>\n",
       "      <th>Sample</th>\n",
       "      <th>Group</th>\n",
       "      <th></th>\n",
       "      <th></th>\n",
       "    </tr>\n",
       "  </thead>\n",
       "  <tbody>\n",
       "    <tr>\n",
       "      <th>1</th>\n",
       "      <th>H</th>\n",
       "      <td>0.039269</td>\n",
       "      <td>-0.000929</td>\n",
       "    </tr>\n",
       "    <tr>\n",
       "      <th>2</th>\n",
       "      <th>H</th>\n",
       "      <td>0.006198</td>\n",
       "      <td>0.002219</td>\n",
       "    </tr>\n",
       "    <tr>\n",
       "      <th>3</th>\n",
       "      <th>H</th>\n",
       "      <td>-0.000745</td>\n",
       "      <td>0.002350</td>\n",
       "    </tr>\n",
       "    <tr>\n",
       "      <th>4</th>\n",
       "      <th>H</th>\n",
       "      <td>0.000071</td>\n",
       "      <td>0.002916</td>\n",
       "    </tr>\n",
       "    <tr>\n",
       "      <th>5</th>\n",
       "      <th>H</th>\n",
       "      <td>-0.000963</td>\n",
       "      <td>0.001880</td>\n",
       "    </tr>\n",
       "    <tr>\n",
       "      <th>6</th>\n",
       "      <th>H</th>\n",
       "      <td>-0.005402</td>\n",
       "      <td>0.000993</td>\n",
       "    </tr>\n",
       "    <tr>\n",
       "      <th>7</th>\n",
       "      <th>H</th>\n",
       "      <td>-0.004832</td>\n",
       "      <td>0.001141</td>\n",
       "    </tr>\n",
       "    <tr>\n",
       "      <th>8</th>\n",
       "      <th>H</th>\n",
       "      <td>0.000323</td>\n",
       "      <td>0.001551</td>\n",
       "    </tr>\n",
       "    <tr>\n",
       "      <th>9</th>\n",
       "      <th>N</th>\n",
       "      <td>-0.004668</td>\n",
       "      <td>-0.000503</td>\n",
       "    </tr>\n",
       "    <tr>\n",
       "      <th>10</th>\n",
       "      <th>N</th>\n",
       "      <td>-0.005395</td>\n",
       "      <td>-0.000129</td>\n",
       "    </tr>\n",
       "    <tr>\n",
       "      <th>11</th>\n",
       "      <th>N</th>\n",
       "      <td>-0.004277</td>\n",
       "      <td>0.001450</td>\n",
       "    </tr>\n",
       "    <tr>\n",
       "      <th>12</th>\n",
       "      <th>N</th>\n",
       "      <td>-0.002363</td>\n",
       "      <td>-0.003366</td>\n",
       "    </tr>\n",
       "    <tr>\n",
       "      <th>13</th>\n",
       "      <th>N</th>\n",
       "      <td>-0.003275</td>\n",
       "      <td>-0.003843</td>\n",
       "    </tr>\n",
       "    <tr>\n",
       "      <th>14</th>\n",
       "      <th>N</th>\n",
       "      <td>-0.003102</td>\n",
       "      <td>-0.002944</td>\n",
       "    </tr>\n",
       "    <tr>\n",
       "      <th>15</th>\n",
       "      <th>N</th>\n",
       "      <td>-0.003842</td>\n",
       "      <td>-0.000735</td>\n",
       "    </tr>\n",
       "    <tr>\n",
       "      <th>16</th>\n",
       "      <th>N</th>\n",
       "      <td>-0.003846</td>\n",
       "      <td>-0.000957</td>\n",
       "    </tr>\n",
       "    <tr>\n",
       "      <th>17</th>\n",
       "      <th>N</th>\n",
       "      <td>-0.003152</td>\n",
       "      <td>-0.001094</td>\n",
       "    </tr>\n",
       "  </tbody>\n",
       "</table>\n",
       "</div>"
      ],
      "text/plain": [
       "                     0         1\n",
       "Sample Group                    \n",
       "1      H      0.039269 -0.000929\n",
       "2      H      0.006198  0.002219\n",
       "3      H     -0.000745  0.002350\n",
       "4      H      0.000071  0.002916\n",
       "5      H     -0.000963  0.001880\n",
       "6      H     -0.005402  0.000993\n",
       "7      H     -0.004832  0.001141\n",
       "8      H      0.000323  0.001551\n",
       "9      N     -0.004668 -0.000503\n",
       "10     N     -0.005395 -0.000129\n",
       "11     N     -0.004277  0.001450\n",
       "12     N     -0.002363 -0.003366\n",
       "13     N     -0.003275 -0.003843\n",
       "14     N     -0.003102 -0.002944\n",
       "15     N     -0.003842 -0.000735\n",
       "16     N     -0.003846 -0.000957\n",
       "17     N     -0.003152 -0.001094"
      ]
     },
     "execution_count": 17,
     "metadata": {},
     "output_type": "execute_result"
    }
   ],
   "source": [
    "scores"
   ]
  },
  {
   "cell_type": "code",
   "execution_count": 18,
   "metadata": {},
   "outputs": [
    {
     "data": {
      "image/png": "[encoded data removed]",
      "text/plain": [
       "<Figure size 432x432 with 1 Axes>"
      ]
     },
     "metadata": {},
     "output_type": "display_data"
    }
   ],
   "source": [
    "scores = pd.DataFrame(plsr.x_scores_)\n",
    "scores.index = df.columns\n",
    "\n",
    "ax = scores.plot(x=0, y=1, kind='scatter', s=50, alpha=0.7,\n",
    "                 c=colorlist, figsize=(6 ,6))\n",
    "ax.set_xlabel('Scores on LV 1')\n",
    "ax.set_ylabel('Scores on LV 2')\n",
    "\n",
    "for n, (x, y) in enumerate(scores.values):\n",
    "    label = scores.index.values[n][0]\n",
    "    ax.text(x, y, label)"
   ]
  },
  {
   "cell_type": "code",
   "execution_count": 19,
   "metadata": {},
   "outputs": [],
   "source": [
    "f_df = df.iloc[:, df.columns.get_level_values('Sample') != '101']"
   ]
  },
  {
   "cell_type": "code",
   "execution_count": 20,
   "metadata": {},
   "outputs": [
    {
     "data": {
      "text/html": [
       "<div>\n",
       "<style scoped>\n",
       "    .dataframe tbody tr th:only-of-type {\n",
       "        vertical-align: middle;\n",
       "    }\n",
       "\n",
       "    .dataframe tbody tr th {\n",
       "        vertical-align: top;\n",
       "    }\n",
       "\n",
       "    .dataframe thead tr th {\n",
       "        text-align: left;\n",
       "    }\n",
       "</style>\n",
       "<table border=\"1\" class=\"dataframe\">\n",
       "  <thead>\n",
       "    <tr>\n",
       "      <th>Sample</th>\n",
       "      <th>1</th>\n",
       "      <th>2</th>\n",
       "      <th>3</th>\n",
       "      <th>4</th>\n",
       "      <th>5</th>\n",
       "      <th>6</th>\n",
       "      <th>7</th>\n",
       "      <th>8</th>\n",
       "      <th>9</th>\n",
       "      <th>10</th>\n",
       "      <th>11</th>\n",
       "      <th>12</th>\n",
       "      <th>13</th>\n",
       "      <th>14</th>\n",
       "      <th>15</th>\n",
       "      <th>16</th>\n",
       "      <th>17</th>\n",
       "    </tr>\n",
       "    <tr>\n",
       "      <th>Group</th>\n",
       "      <th>H</th>\n",
       "      <th>H</th>\n",
       "      <th>H</th>\n",
       "      <th>H</th>\n",
       "      <th>H</th>\n",
       "      <th>H</th>\n",
       "      <th>H</th>\n",
       "      <th>H</th>\n",
       "      <th>N</th>\n",
       "      <th>N</th>\n",
       "      <th>N</th>\n",
       "      <th>N</th>\n",
       "      <th>N</th>\n",
       "      <th>N</th>\n",
       "      <th>N</th>\n",
       "      <th>N</th>\n",
       "      <th>N</th>\n",
       "    </tr>\n",
       "  </thead>\n",
       "  <tbody>\n",
       "    <tr>\n",
       "      <th>10.80420</th>\n",
       "      <td>-7.130000e-07</td>\n",
       "      <td>1.310000e-07</td>\n",
       "      <td>-2.640000e-07</td>\n",
       "      <td>0.000000e+00</td>\n",
       "      <td>-5.740000e-07</td>\n",
       "      <td>-3.410000e-07</td>\n",
       "      <td>-6.220000e-07</td>\n",
       "      <td>-1.280000e-06</td>\n",
       "      <td>-5.330000e-07</td>\n",
       "      <td>-3.290000e-07</td>\n",
       "      <td>-1.730000e-07</td>\n",
       "      <td>-1.140000e-06</td>\n",
       "      <td>-1.830000e-06</td>\n",
       "      <td>-1.230000e-06</td>\n",
       "      <td>5.410000e-07</td>\n",
       "      <td>-7.560000e-07</td>\n",
       "      <td>2.350000e-08</td>\n",
       "    </tr>\n",
       "    <tr>\n",
       "      <th>10.80390</th>\n",
       "      <td>-6.600000e-07</td>\n",
       "      <td>6.710000e-07</td>\n",
       "      <td>5.180000e-08</td>\n",
       "      <td>0.000000e+00</td>\n",
       "      <td>-4.260000e-08</td>\n",
       "      <td>-2.810000e-07</td>\n",
       "      <td>-4.660000e-07</td>\n",
       "      <td>-1.470000e-06</td>\n",
       "      <td>-7.810000e-07</td>\n",
       "      <td>-1.860000e-07</td>\n",
       "      <td>-1.680000e-08</td>\n",
       "      <td>-9.650000e-07</td>\n",
       "      <td>-1.240000e-06</td>\n",
       "      <td>-1.080000e-06</td>\n",
       "      <td>3.480000e-07</td>\n",
       "      <td>-6.360000e-07</td>\n",
       "      <td>-5.540000e-08</td>\n",
       "    </tr>\n",
       "    <tr>\n",
       "      <th>10.80350</th>\n",
       "      <td>-6.280000e-07</td>\n",
       "      <td>6.260000e-07</td>\n",
       "      <td>1.980000e-07</td>\n",
       "      <td>0.000000e+00</td>\n",
       "      <td>3.710000e-07</td>\n",
       "      <td>-8.090000e-08</td>\n",
       "      <td>-1.400000e-07</td>\n",
       "      <td>-1.500000e-06</td>\n",
       "      <td>-6.430000e-07</td>\n",
       "      <td>-1.110000e-07</td>\n",
       "      <td>3.380000e-07</td>\n",
       "      <td>-7.090000e-07</td>\n",
       "      <td>-8.500000e-07</td>\n",
       "      <td>-8.010000e-07</td>\n",
       "      <td>1.590000e-07</td>\n",
       "      <td>-4.130000e-07</td>\n",
       "      <td>-1.830000e-07</td>\n",
       "    </tr>\n",
       "    <tr>\n",
       "      <th>10.80310</th>\n",
       "      <td>-3.380000e-07</td>\n",
       "      <td>1.190000e-07</td>\n",
       "      <td>3.320000e-08</td>\n",
       "      <td>0.000000e+00</td>\n",
       "      <td>2.470000e-07</td>\n",
       "      <td>2.450000e-08</td>\n",
       "      <td>5.630000e-08</td>\n",
       "      <td>-1.210000e-06</td>\n",
       "      <td>-3.040000e-07</td>\n",
       "      <td>-1.130000e-07</td>\n",
       "      <td>5.040000e-07</td>\n",
       "      <td>-4.480000e-07</td>\n",
       "      <td>-6.530000e-07</td>\n",
       "      <td>-3.410000e-07</td>\n",
       "      <td>6.240000e-09</td>\n",
       "      <td>-1.950000e-07</td>\n",
       "      <td>-1.350000e-07</td>\n",
       "    </tr>\n",
       "    <tr>\n",
       "      <th>10.80280</th>\n",
       "      <td>-7.320000e-07</td>\n",
       "      <td>4.000000e-08</td>\n",
       "      <td>8.600000e-08</td>\n",
       "      <td>0.000000e+00</td>\n",
       "      <td>1.340000e-07</td>\n",
       "      <td>1.360000e-07</td>\n",
       "      <td>8.130000e-09</td>\n",
       "      <td>-6.220000e-07</td>\n",
       "      <td>-2.390000e-08</td>\n",
       "      <td>-7.170000e-08</td>\n",
       "      <td>2.700000e-07</td>\n",
       "      <td>-2.010000e-07</td>\n",
       "      <td>-3.000000e-07</td>\n",
       "      <td>-1.560000e-09</td>\n",
       "      <td>-8.300000e-08</td>\n",
       "      <td>-3.330000e-08</td>\n",
       "      <td>-2.650000e-09</td>\n",
       "    </tr>\n",
       "    <tr>\n",
       "      <th>...</th>\n",
       "      <td>...</td>\n",
       "      <td>...</td>\n",
       "      <td>...</td>\n",
       "      <td>...</td>\n",
       "      <td>...</td>\n",
       "      <td>...</td>\n",
       "      <td>...</td>\n",
       "      <td>...</td>\n",
       "      <td>...</td>\n",
       "      <td>...</td>\n",
       "      <td>...</td>\n",
       "      <td>...</td>\n",
       "      <td>...</td>\n",
       "      <td>...</td>\n",
       "      <td>...</td>\n",
       "      <td>...</td>\n",
       "      <td>...</td>\n",
       "    </tr>\n",
       "    <tr>\n",
       "      <th>-1.18206</th>\n",
       "      <td>4.360000e-07</td>\n",
       "      <td>3.410000e-07</td>\n",
       "      <td>-3.930000e-08</td>\n",
       "      <td>3.820000e-08</td>\n",
       "      <td>-4.880000e-08</td>\n",
       "      <td>5.000000e-08</td>\n",
       "      <td>6.990000e-08</td>\n",
       "      <td>-8.740000e-08</td>\n",
       "      <td>-6.170000e-08</td>\n",
       "      <td>9.160000e-08</td>\n",
       "      <td>-4.570000e-07</td>\n",
       "      <td>-3.750000e-08</td>\n",
       "      <td>-4.660000e-07</td>\n",
       "      <td>0.000000e+00</td>\n",
       "      <td>1.420000e-07</td>\n",
       "      <td>-2.110000e-07</td>\n",
       "      <td>9.050000e-08</td>\n",
       "    </tr>\n",
       "    <tr>\n",
       "      <th>-1.18242</th>\n",
       "      <td>1.030000e-08</td>\n",
       "      <td>5.120000e-07</td>\n",
       "      <td>1.160000e-07</td>\n",
       "      <td>1.720000e-07</td>\n",
       "      <td>1.930000e-07</td>\n",
       "      <td>2.740000e-07</td>\n",
       "      <td>-4.370000e-08</td>\n",
       "      <td>-1.390000e-07</td>\n",
       "      <td>6.790000e-08</td>\n",
       "      <td>4.480000e-08</td>\n",
       "      <td>-2.980000e-07</td>\n",
       "      <td>2.090000e-07</td>\n",
       "      <td>-4.420000e-07</td>\n",
       "      <td>0.000000e+00</td>\n",
       "      <td>1.120000e-07</td>\n",
       "      <td>-3.470000e-07</td>\n",
       "      <td>1.270000e-07</td>\n",
       "    </tr>\n",
       "    <tr>\n",
       "      <th>-1.18279</th>\n",
       "      <td>-1.450000e-06</td>\n",
       "      <td>4.780000e-07</td>\n",
       "      <td>-1.660000e-07</td>\n",
       "      <td>2.070000e-07</td>\n",
       "      <td>3.010000e-07</td>\n",
       "      <td>1.830000e-07</td>\n",
       "      <td>-7.680000e-08</td>\n",
       "      <td>-2.140000e-07</td>\n",
       "      <td>-7.970000e-08</td>\n",
       "      <td>-1.380000e-08</td>\n",
       "      <td>-1.260000e-07</td>\n",
       "      <td>8.120000e-07</td>\n",
       "      <td>-1.750000e-07</td>\n",
       "      <td>0.000000e+00</td>\n",
       "      <td>1.710000e-07</td>\n",
       "      <td>-6.170000e-07</td>\n",
       "      <td>8.230000e-08</td>\n",
       "    </tr>\n",
       "    <tr>\n",
       "      <th>-1.18315</th>\n",
       "      <td>-2.050000e-06</td>\n",
       "      <td>6.370000e-07</td>\n",
       "      <td>-3.050000e-07</td>\n",
       "      <td>1.480000e-07</td>\n",
       "      <td>1.320000e-07</td>\n",
       "      <td>1.170000e-07</td>\n",
       "      <td>-1.550000e-07</td>\n",
       "      <td>-4.730000e-07</td>\n",
       "      <td>-1.540000e-07</td>\n",
       "      <td>-4.690000e-08</td>\n",
       "      <td>-1.430000e-07</td>\n",
       "      <td>1.280000e-06</td>\n",
       "      <td>-1.170000e-07</td>\n",
       "      <td>0.000000e+00</td>\n",
       "      <td>2.980000e-07</td>\n",
       "      <td>-5.270000e-07</td>\n",
       "      <td>-7.550000e-08</td>\n",
       "    </tr>\n",
       "    <tr>\n",
       "      <th>-1.18352</th>\n",
       "      <td>-1.230000e-06</td>\n",
       "      <td>7.070000e-07</td>\n",
       "      <td>-8.230000e-08</td>\n",
       "      <td>-1.520000e-08</td>\n",
       "      <td>3.500000e-08</td>\n",
       "      <td>1.720000e-07</td>\n",
       "      <td>-3.400000e-07</td>\n",
       "      <td>-8.600000e-07</td>\n",
       "      <td>-1.850000e-07</td>\n",
       "      <td>3.360000e-09</td>\n",
       "      <td>-1.860000e-07</td>\n",
       "      <td>1.220000e-06</td>\n",
       "      <td>-2.520000e-07</td>\n",
       "      <td>0.000000e+00</td>\n",
       "      <td>6.870000e-07</td>\n",
       "      <td>-3.160000e-07</td>\n",
       "      <td>-3.140000e-07</td>\n",
       "    </tr>\n",
       "  </tbody>\n",
       "</table>\n",
       "<p>32768 rows × 17 columns</p>\n",
       "</div>"
      ],
      "text/plain": [
       "Sample                1             2             3             4  \\\n",
       "Group                 H             H             H             H   \n",
       " 10.80420 -7.130000e-07  1.310000e-07 -2.640000e-07  0.000000e+00   \n",
       " 10.80390 -6.600000e-07  6.710000e-07  5.180000e-08  0.000000e+00   \n",
       " 10.80350 -6.280000e-07  6.260000e-07  1.980000e-07  0.000000e+00   \n",
       " 10.80310 -3.380000e-07  1.190000e-07  3.320000e-08  0.000000e+00   \n",
       " 10.80280 -7.320000e-07  4.000000e-08  8.600000e-08  0.000000e+00   \n",
       "...                 ...           ...           ...           ...   \n",
       "-1.18206   4.360000e-07  3.410000e-07 -3.930000e-08  3.820000e-08   \n",
       "-1.18242   1.030000e-08  5.120000e-07  1.160000e-07  1.720000e-07   \n",
       "-1.18279  -1.450000e-06  4.780000e-07 -1.660000e-07  2.070000e-07   \n",
       "-1.18315  -2.050000e-06  6.370000e-07 -3.050000e-07  1.480000e-07   \n",
       "-1.18352  -1.230000e-06  7.070000e-07 -8.230000e-08 -1.520000e-08   \n",
       "\n",
       "Sample                5             6             7             8  \\\n",
       "Group                 H             H             H             H   \n",
       " 10.80420 -5.740000e-07 -3.410000e-07 -6.220000e-07 -1.280000e-06   \n",
       " 10.80390 -4.260000e-08 -2.810000e-07 -4.660000e-07 -1.470000e-06   \n",
       " 10.80350  3.710000e-07 -8.090000e-08 -1.400000e-07 -1.500000e-06   \n",
       " 10.80310  2.470000e-07  2.450000e-08  5.630000e-08 -1.210000e-06   \n",
       " 10.80280  1.340000e-07  1.360000e-07  8.130000e-09 -6.220000e-07   \n",
       "...                 ...           ...           ...           ...   \n",
       "-1.18206  -4.880000e-08  5.000000e-08  6.990000e-08 -8.740000e-08   \n",
       "-1.18242   1.930000e-07  2.740000e-07 -4.370000e-08 -1.390000e-07   \n",
       "-1.18279   3.010000e-07  1.830000e-07 -7.680000e-08 -2.140000e-07   \n",
       "-1.18315   1.320000e-07  1.170000e-07 -1.550000e-07 -4.730000e-07   \n",
       "-1.18352   3.500000e-08  1.720000e-07 -3.400000e-07 -8.600000e-07   \n",
       "\n",
       "Sample                9            10            11            12  \\\n",
       "Group                 N             N             N             N   \n",
       " 10.80420 -5.330000e-07 -3.290000e-07 -1.730000e-07 -1.140000e-06   \n",
       " 10.80390 -7.810000e-07 -1.860000e-07 -1.680000e-08 -9.650000e-07   \n",
       " 10.80350 -6.430000e-07 -1.110000e-07  3.380000e-07 -7.090000e-07   \n",
       " 10.80310 -3.040000e-07 -1.130000e-07  5.040000e-07 -4.480000e-07   \n",
       " 10.80280 -2.390000e-08 -7.170000e-08  2.700000e-07 -2.010000e-07   \n",
       "...                 ...           ...           ...           ...   \n",
       "-1.18206  -6.170000e-08  9.160000e-08 -4.570000e-07 -3.750000e-08   \n",
       "-1.18242   6.790000e-08  4.480000e-08 -2.980000e-07  2.090000e-07   \n",
       "-1.18279  -7.970000e-08 -1.380000e-08 -1.260000e-07  8.120000e-07   \n",
       "-1.18315  -1.540000e-07 -4.690000e-08 -1.430000e-07  1.280000e-06   \n",
       "-1.18352  -1.850000e-07  3.360000e-09 -1.860000e-07  1.220000e-06   \n",
       "\n",
       "Sample               13            14            15            16  \\\n",
       "Group                 N             N             N             N   \n",
       " 10.80420 -1.830000e-06 -1.230000e-06  5.410000e-07 -7.560000e-07   \n",
       " 10.80390 -1.240000e-06 -1.080000e-06  3.480000e-07 -6.360000e-07   \n",
       " 10.80350 -8.500000e-07 -8.010000e-07  1.590000e-07 -4.130000e-07   \n",
       " 10.80310 -6.530000e-07 -3.410000e-07  6.240000e-09 -1.950000e-07   \n",
       " 10.80280 -3.000000e-07 -1.560000e-09 -8.300000e-08 -3.330000e-08   \n",
       "...                 ...           ...           ...           ...   \n",
       "-1.18206  -4.660000e-07  0.000000e+00  1.420000e-07 -2.110000e-07   \n",
       "-1.18242  -4.420000e-07  0.000000e+00  1.120000e-07 -3.470000e-07   \n",
       "-1.18279  -1.750000e-07  0.000000e+00  1.710000e-07 -6.170000e-07   \n",
       "-1.18315  -1.170000e-07  0.000000e+00  2.980000e-07 -5.270000e-07   \n",
       "-1.18352  -2.520000e-07  0.000000e+00  6.870000e-07 -3.160000e-07   \n",
       "\n",
       "Sample               17  \n",
       "Group                 N  \n",
       " 10.80420  2.350000e-08  \n",
       " 10.80390 -5.540000e-08  \n",
       " 10.80350 -1.830000e-07  \n",
       " 10.80310 -1.350000e-07  \n",
       " 10.80280 -2.650000e-09  \n",
       "...                 ...  \n",
       "-1.18206   9.050000e-08  \n",
       "-1.18242   1.270000e-07  \n",
       "-1.18279   8.230000e-08  \n",
       "-1.18315  -7.550000e-08  \n",
       "-1.18352  -3.140000e-07  \n",
       "\n",
       "[32768 rows x 17 columns]"
      ]
     },
     "execution_count": 20,
     "metadata": {},
     "output_type": "execute_result"
    }
   ],
   "source": [
    "f_df"
   ]
  },
  {
   "cell_type": "code",
   "execution_count": 21,
   "metadata": {},
   "outputs": [],
   "source": [
    "f_colorlist = [colormap[c] for c in f_df.columns.get_level_values('Group')]\n",
    "f_y = np.array([g == 'N' for g in f_df.columns.get_level_values('Group')], dtype=int)"
   ]
  },
  {
   "cell_type": "code",
   "execution_count": 22,
   "metadata": {},
   "outputs": [
    {
     "data": {
      "text/plain": [
       "PLSRegression(scale=False)"
      ]
     },
     "execution_count": 22,
     "metadata": {},
     "output_type": "execute_result"
    }
   ],
   "source": [
    "from sklearn.cross_decomposition import PLSRegression\n",
    "\n",
    "f_plsr = PLSRegression(n_components=2, scale=False)\n",
    "f_plsr.fit(f_df.values.T, f_y)"
   ]
  },
  {
   "cell_type": "code",
   "execution_count": 23,
   "metadata": {},
   "outputs": [
    {
     "data": {
      "image/png": "[encoded data removed]",
      "text/plain": [
       "<Figure size 432x432 with 1 Axes>"
      ]
     },
     "metadata": {},
     "output_type": "display_data"
    }
   ],
   "source": [
    "f_scores = pd.DataFrame(f_plsr.x_scores_)\n",
    "f_scores.index = f_df.columns\n",
    "\n",
    "ax = f_scores.plot(x=0, y=1, kind='scatter', s=50, alpha=0.7,\n",
    "                   c=f_colorlist, figsize=(6, 6))\n",
    "ax.set_xlabel('Score on LV 1')\n",
    "ax.set_ylabel('Score on LV 2')\n",
    "\n",
    "for n, (x, y) in enumerate(f_scores.values):\n",
    "    label = f_scores.index.values[n][0]\n",
    "    ax.text(x, y, label)"
   ]
  },
  {
   "cell_type": "code",
   "execution_count": 24,
   "metadata": {},
   "outputs": [],
   "source": [
    "samples_to_filter = ['85','101']\n",
    "filter_ = [s not in samples_to_filter for s in df.columns.get_level_values('Sample')]\n",
    "ff_df = df.iloc[:, filter_ ]"
   ]
  },
  {
   "cell_type": "code",
   "execution_count": 25,
   "metadata": {},
   "outputs": [
    {
     "data": {
      "text/plain": [
       "[True,\n",
       " True,\n",
       " True,\n",
       " True,\n",
       " True,\n",
       " True,\n",
       " True,\n",
       " True,\n",
       " True,\n",
       " True,\n",
       " True,\n",
       " True,\n",
       " True,\n",
       " True,\n",
       " True,\n",
       " True,\n",
       " True]"
      ]
     },
     "execution_count": 25,
     "metadata": {},
     "output_type": "execute_result"
    }
   ],
   "source": [
    "filter_"
   ]
  },
  {
   "cell_type": "code",
   "execution_count": 26,
   "metadata": {},
   "outputs": [
    {
     "data": {
      "text/html": [
       "<div>\n",
       "<style scoped>\n",
       "    .dataframe tbody tr th:only-of-type {\n",
       "        vertical-align: middle;\n",
       "    }\n",
       "\n",
       "    .dataframe tbody tr th {\n",
       "        vertical-align: top;\n",
       "    }\n",
       "\n",
       "    .dataframe thead tr th {\n",
       "        text-align: left;\n",
       "    }\n",
       "</style>\n",
       "<table border=\"1\" class=\"dataframe\">\n",
       "  <thead>\n",
       "    <tr>\n",
       "      <th>Sample</th>\n",
       "      <th>1</th>\n",
       "      <th>2</th>\n",
       "      <th>3</th>\n",
       "      <th>4</th>\n",
       "      <th>5</th>\n",
       "      <th>6</th>\n",
       "      <th>7</th>\n",
       "      <th>8</th>\n",
       "      <th>9</th>\n",
       "      <th>10</th>\n",
       "      <th>11</th>\n",
       "      <th>12</th>\n",
       "      <th>13</th>\n",
       "      <th>14</th>\n",
       "      <th>15</th>\n",
       "      <th>16</th>\n",
       "      <th>17</th>\n",
       "    </tr>\n",
       "    <tr>\n",
       "      <th>Group</th>\n",
       "      <th>H</th>\n",
       "      <th>H</th>\n",
       "      <th>H</th>\n",
       "      <th>H</th>\n",
       "      <th>H</th>\n",
       "      <th>H</th>\n",
       "      <th>H</th>\n",
       "      <th>H</th>\n",
       "      <th>N</th>\n",
       "      <th>N</th>\n",
       "      <th>N</th>\n",
       "      <th>N</th>\n",
       "      <th>N</th>\n",
       "      <th>N</th>\n",
       "      <th>N</th>\n",
       "      <th>N</th>\n",
       "      <th>N</th>\n",
       "    </tr>\n",
       "  </thead>\n",
       "  <tbody>\n",
       "    <tr>\n",
       "      <th>10.80420</th>\n",
       "      <td>-7.130000e-07</td>\n",
       "      <td>1.310000e-07</td>\n",
       "      <td>-2.640000e-07</td>\n",
       "      <td>0.000000e+00</td>\n",
       "      <td>-5.740000e-07</td>\n",
       "      <td>-3.410000e-07</td>\n",
       "      <td>-6.220000e-07</td>\n",
       "      <td>-1.280000e-06</td>\n",
       "      <td>-5.330000e-07</td>\n",
       "      <td>-3.290000e-07</td>\n",
       "      <td>-1.730000e-07</td>\n",
       "      <td>-1.140000e-06</td>\n",
       "      <td>-1.830000e-06</td>\n",
       "      <td>-1.230000e-06</td>\n",
       "      <td>5.410000e-07</td>\n",
       "      <td>-7.560000e-07</td>\n",
       "      <td>2.350000e-08</td>\n",
       "    </tr>\n",
       "    <tr>\n",
       "      <th>10.80390</th>\n",
       "      <td>-6.600000e-07</td>\n",
       "      <td>6.710000e-07</td>\n",
       "      <td>5.180000e-08</td>\n",
       "      <td>0.000000e+00</td>\n",
       "      <td>-4.260000e-08</td>\n",
       "      <td>-2.810000e-07</td>\n",
       "      <td>-4.660000e-07</td>\n",
       "      <td>-1.470000e-06</td>\n",
       "      <td>-7.810000e-07</td>\n",
       "      <td>-1.860000e-07</td>\n",
       "      <td>-1.680000e-08</td>\n",
       "      <td>-9.650000e-07</td>\n",
       "      <td>-1.240000e-06</td>\n",
       "      <td>-1.080000e-06</td>\n",
       "      <td>3.480000e-07</td>\n",
       "      <td>-6.360000e-07</td>\n",
       "      <td>-5.540000e-08</td>\n",
       "    </tr>\n",
       "    <tr>\n",
       "      <th>10.80350</th>\n",
       "      <td>-6.280000e-07</td>\n",
       "      <td>6.260000e-07</td>\n",
       "      <td>1.980000e-07</td>\n",
       "      <td>0.000000e+00</td>\n",
       "      <td>3.710000e-07</td>\n",
       "      <td>-8.090000e-08</td>\n",
       "      <td>-1.400000e-07</td>\n",
       "      <td>-1.500000e-06</td>\n",
       "      <td>-6.430000e-07</td>\n",
       "      <td>-1.110000e-07</td>\n",
       "      <td>3.380000e-07</td>\n",
       "      <td>-7.090000e-07</td>\n",
       "      <td>-8.500000e-07</td>\n",
       "      <td>-8.010000e-07</td>\n",
       "      <td>1.590000e-07</td>\n",
       "      <td>-4.130000e-07</td>\n",
       "      <td>-1.830000e-07</td>\n",
       "    </tr>\n",
       "    <tr>\n",
       "      <th>10.80310</th>\n",
       "      <td>-3.380000e-07</td>\n",
       "      <td>1.190000e-07</td>\n",
       "      <td>3.320000e-08</td>\n",
       "      <td>0.000000e+00</td>\n",
       "      <td>2.470000e-07</td>\n",
       "      <td>2.450000e-08</td>\n",
       "      <td>5.630000e-08</td>\n",
       "      <td>-1.210000e-06</td>\n",
       "      <td>-3.040000e-07</td>\n",
       "      <td>-1.130000e-07</td>\n",
       "      <td>5.040000e-07</td>\n",
       "      <td>-4.480000e-07</td>\n",
       "      <td>-6.530000e-07</td>\n",
       "      <td>-3.410000e-07</td>\n",
       "      <td>6.240000e-09</td>\n",
       "      <td>-1.950000e-07</td>\n",
       "      <td>-1.350000e-07</td>\n",
       "    </tr>\n",
       "    <tr>\n",
       "      <th>10.80280</th>\n",
       "      <td>-7.320000e-07</td>\n",
       "      <td>4.000000e-08</td>\n",
       "      <td>8.600000e-08</td>\n",
       "      <td>0.000000e+00</td>\n",
       "      <td>1.340000e-07</td>\n",
       "      <td>1.360000e-07</td>\n",
       "      <td>8.130000e-09</td>\n",
       "      <td>-6.220000e-07</td>\n",
       "      <td>-2.390000e-08</td>\n",
       "      <td>-7.170000e-08</td>\n",
       "      <td>2.700000e-07</td>\n",
       "      <td>-2.010000e-07</td>\n",
       "      <td>-3.000000e-07</td>\n",
       "      <td>-1.560000e-09</td>\n",
       "      <td>-8.300000e-08</td>\n",
       "      <td>-3.330000e-08</td>\n",
       "      <td>-2.650000e-09</td>\n",
       "    </tr>\n",
       "    <tr>\n",
       "      <th>...</th>\n",
       "      <td>...</td>\n",
       "      <td>...</td>\n",
       "      <td>...</td>\n",
       "      <td>...</td>\n",
       "      <td>...</td>\n",
       "      <td>...</td>\n",
       "      <td>...</td>\n",
       "      <td>...</td>\n",
       "      <td>...</td>\n",
       "      <td>...</td>\n",
       "      <td>...</td>\n",
       "      <td>...</td>\n",
       "      <td>...</td>\n",
       "      <td>...</td>\n",
       "      <td>...</td>\n",
       "      <td>...</td>\n",
       "      <td>...</td>\n",
       "    </tr>\n",
       "    <tr>\n",
       "      <th>-1.18206</th>\n",
       "      <td>4.360000e-07</td>\n",
       "      <td>3.410000e-07</td>\n",
       "      <td>-3.930000e-08</td>\n",
       "      <td>3.820000e-08</td>\n",
       "      <td>-4.880000e-08</td>\n",
       "      <td>5.000000e-08</td>\n",
       "      <td>6.990000e-08</td>\n",
       "      <td>-8.740000e-08</td>\n",
       "      <td>-6.170000e-08</td>\n",
       "      <td>9.160000e-08</td>\n",
       "      <td>-4.570000e-07</td>\n",
       "      <td>-3.750000e-08</td>\n",
       "      <td>-4.660000e-07</td>\n",
       "      <td>0.000000e+00</td>\n",
       "      <td>1.420000e-07</td>\n",
       "      <td>-2.110000e-07</td>\n",
       "      <td>9.050000e-08</td>\n",
       "    </tr>\n",
       "    <tr>\n",
       "      <th>-1.18242</th>\n",
       "      <td>1.030000e-08</td>\n",
       "      <td>5.120000e-07</td>\n",
       "      <td>1.160000e-07</td>\n",
       "      <td>1.720000e-07</td>\n",
       "      <td>1.930000e-07</td>\n",
       "      <td>2.740000e-07</td>\n",
       "      <td>-4.370000e-08</td>\n",
       "      <td>-1.390000e-07</td>\n",
       "      <td>6.790000e-08</td>\n",
       "      <td>4.480000e-08</td>\n",
       "      <td>-2.980000e-07</td>\n",
       "      <td>2.090000e-07</td>\n",
       "      <td>-4.420000e-07</td>\n",
       "      <td>0.000000e+00</td>\n",
       "      <td>1.120000e-07</td>\n",
       "      <td>-3.470000e-07</td>\n",
       "      <td>1.270000e-07</td>\n",
       "    </tr>\n",
       "    <tr>\n",
       "      <th>-1.18279</th>\n",
       "      <td>-1.450000e-06</td>\n",
       "      <td>4.780000e-07</td>\n",
       "      <td>-1.660000e-07</td>\n",
       "      <td>2.070000e-07</td>\n",
       "      <td>3.010000e-07</td>\n",
       "      <td>1.830000e-07</td>\n",
       "      <td>-7.680000e-08</td>\n",
       "      <td>-2.140000e-07</td>\n",
       "      <td>-7.970000e-08</td>\n",
       "      <td>-1.380000e-08</td>\n",
       "      <td>-1.260000e-07</td>\n",
       "      <td>8.120000e-07</td>\n",
       "      <td>-1.750000e-07</td>\n",
       "      <td>0.000000e+00</td>\n",
       "      <td>1.710000e-07</td>\n",
       "      <td>-6.170000e-07</td>\n",
       "      <td>8.230000e-08</td>\n",
       "    </tr>\n",
       "    <tr>\n",
       "      <th>-1.18315</th>\n",
       "      <td>-2.050000e-06</td>\n",
       "      <td>6.370000e-07</td>\n",
       "      <td>-3.050000e-07</td>\n",
       "      <td>1.480000e-07</td>\n",
       "      <td>1.320000e-07</td>\n",
       "      <td>1.170000e-07</td>\n",
       "      <td>-1.550000e-07</td>\n",
       "      <td>-4.730000e-07</td>\n",
       "      <td>-1.540000e-07</td>\n",
       "      <td>-4.690000e-08</td>\n",
       "      <td>-1.430000e-07</td>\n",
       "      <td>1.280000e-06</td>\n",
       "      <td>-1.170000e-07</td>\n",
       "      <td>0.000000e+00</td>\n",
       "      <td>2.980000e-07</td>\n",
       "      <td>-5.270000e-07</td>\n",
       "      <td>-7.550000e-08</td>\n",
       "    </tr>\n",
       "    <tr>\n",
       "      <th>-1.18352</th>\n",
       "      <td>-1.230000e-06</td>\n",
       "      <td>7.070000e-07</td>\n",
       "      <td>-8.230000e-08</td>\n",
       "      <td>-1.520000e-08</td>\n",
       "      <td>3.500000e-08</td>\n",
       "      <td>1.720000e-07</td>\n",
       "      <td>-3.400000e-07</td>\n",
       "      <td>-8.600000e-07</td>\n",
       "      <td>-1.850000e-07</td>\n",
       "      <td>3.360000e-09</td>\n",
       "      <td>-1.860000e-07</td>\n",
       "      <td>1.220000e-06</td>\n",
       "      <td>-2.520000e-07</td>\n",
       "      <td>0.000000e+00</td>\n",
       "      <td>6.870000e-07</td>\n",
       "      <td>-3.160000e-07</td>\n",
       "      <td>-3.140000e-07</td>\n",
       "    </tr>\n",
       "  </tbody>\n",
       "</table>\n",
       "<p>32768 rows × 17 columns</p>\n",
       "</div>"
      ],
      "text/plain": [
       "Sample                1             2             3             4  \\\n",
       "Group                 H             H             H             H   \n",
       " 10.80420 -7.130000e-07  1.310000e-07 -2.640000e-07  0.000000e+00   \n",
       " 10.80390 -6.600000e-07  6.710000e-07  5.180000e-08  0.000000e+00   \n",
       " 10.80350 -6.280000e-07  6.260000e-07  1.980000e-07  0.000000e+00   \n",
       " 10.80310 -3.380000e-07  1.190000e-07  3.320000e-08  0.000000e+00   \n",
       " 10.80280 -7.320000e-07  4.000000e-08  8.600000e-08  0.000000e+00   \n",
       "...                 ...           ...           ...           ...   \n",
       "-1.18206   4.360000e-07  3.410000e-07 -3.930000e-08  3.820000e-08   \n",
       "-1.18242   1.030000e-08  5.120000e-07  1.160000e-07  1.720000e-07   \n",
       "-1.18279  -1.450000e-06  4.780000e-07 -1.660000e-07  2.070000e-07   \n",
       "-1.18315  -2.050000e-06  6.370000e-07 -3.050000e-07  1.480000e-07   \n",
       "-1.18352  -1.230000e-06  7.070000e-07 -8.230000e-08 -1.520000e-08   \n",
       "\n",
       "Sample                5             6             7             8  \\\n",
       "Group                 H             H             H             H   \n",
       " 10.80420 -5.740000e-07 -3.410000e-07 -6.220000e-07 -1.280000e-06   \n",
       " 10.80390 -4.260000e-08 -2.810000e-07 -4.660000e-07 -1.470000e-06   \n",
       " 10.80350  3.710000e-07 -8.090000e-08 -1.400000e-07 -1.500000e-06   \n",
       " 10.80310  2.470000e-07  2.450000e-08  5.630000e-08 -1.210000e-06   \n",
       " 10.80280  1.340000e-07  1.360000e-07  8.130000e-09 -6.220000e-07   \n",
       "...                 ...           ...           ...           ...   \n",
       "-1.18206  -4.880000e-08  5.000000e-08  6.990000e-08 -8.740000e-08   \n",
       "-1.18242   1.930000e-07  2.740000e-07 -4.370000e-08 -1.390000e-07   \n",
       "-1.18279   3.010000e-07  1.830000e-07 -7.680000e-08 -2.140000e-07   \n",
       "-1.18315   1.320000e-07  1.170000e-07 -1.550000e-07 -4.730000e-07   \n",
       "-1.18352   3.500000e-08  1.720000e-07 -3.400000e-07 -8.600000e-07   \n",
       "\n",
       "Sample                9            10            11            12  \\\n",
       "Group                 N             N             N             N   \n",
       " 10.80420 -5.330000e-07 -3.290000e-07 -1.730000e-07 -1.140000e-06   \n",
       " 10.80390 -7.810000e-07 -1.860000e-07 -1.680000e-08 -9.650000e-07   \n",
       " 10.80350 -6.430000e-07 -1.110000e-07  3.380000e-07 -7.090000e-07   \n",
       " 10.80310 -3.040000e-07 -1.130000e-07  5.040000e-07 -4.480000e-07   \n",
       " 10.80280 -2.390000e-08 -7.170000e-08  2.700000e-07 -2.010000e-07   \n",
       "...                 ...           ...           ...           ...   \n",
       "-1.18206  -6.170000e-08  9.160000e-08 -4.570000e-07 -3.750000e-08   \n",
       "-1.18242   6.790000e-08  4.480000e-08 -2.980000e-07  2.090000e-07   \n",
       "-1.18279  -7.970000e-08 -1.380000e-08 -1.260000e-07  8.120000e-07   \n",
       "-1.18315  -1.540000e-07 -4.690000e-08 -1.430000e-07  1.280000e-06   \n",
       "-1.18352  -1.850000e-07  3.360000e-09 -1.860000e-07  1.220000e-06   \n",
       "\n",
       "Sample               13            14            15            16  \\\n",
       "Group                 N             N             N             N   \n",
       " 10.80420 -1.830000e-06 -1.230000e-06  5.410000e-07 -7.560000e-07   \n",
       " 10.80390 -1.240000e-06 -1.080000e-06  3.480000e-07 -6.360000e-07   \n",
       " 10.80350 -8.500000e-07 -8.010000e-07  1.590000e-07 -4.130000e-07   \n",
       " 10.80310 -6.530000e-07 -3.410000e-07  6.240000e-09 -1.950000e-07   \n",
       " 10.80280 -3.000000e-07 -1.560000e-09 -8.300000e-08 -3.330000e-08   \n",
       "...                 ...           ...           ...           ...   \n",
       "-1.18206  -4.660000e-07  0.000000e+00  1.420000e-07 -2.110000e-07   \n",
       "-1.18242  -4.420000e-07  0.000000e+00  1.120000e-07 -3.470000e-07   \n",
       "-1.18279  -1.750000e-07  0.000000e+00  1.710000e-07 -6.170000e-07   \n",
       "-1.18315  -1.170000e-07  0.000000e+00  2.980000e-07 -5.270000e-07   \n",
       "-1.18352  -2.520000e-07  0.000000e+00  6.870000e-07 -3.160000e-07   \n",
       "\n",
       "Sample               17  \n",
       "Group                 N  \n",
       " 10.80420  2.350000e-08  \n",
       " 10.80390 -5.540000e-08  \n",
       " 10.80350 -1.830000e-07  \n",
       " 10.80310 -1.350000e-07  \n",
       " 10.80280 -2.650000e-09  \n",
       "...                 ...  \n",
       "-1.18206   9.050000e-08  \n",
       "-1.18242   1.270000e-07  \n",
       "-1.18279   8.230000e-08  \n",
       "-1.18315  -7.550000e-08  \n",
       "-1.18352  -3.140000e-07  \n",
       "\n",
       "[32768 rows x 17 columns]"
      ]
     },
     "execution_count": 26,
     "metadata": {},
     "output_type": "execute_result"
    }
   ],
   "source": [
    "ff_df"
   ]
  },
  {
   "cell_type": "markdown",
   "metadata": {},
   "source": [
    "source [here](https://www.mfitzp.com/tutorials/partial-least-squares-discriminant-analysis-plsda/)"
   ]
  },
  {
   "cell_type": "markdown",
   "metadata": {},
   "source": [
    "# PLS Discriminant Analysis for binary classification in Python"
   ]
  },
  {
   "cell_type": "code",
   "execution_count": 27,
   "metadata": {},
   "outputs": [],
   "source": [
    "import numpy as np\n",
    "import pandas as pd\n",
    "import matplotlib.pyplot as plt\n",
    "\n",
    "from scipy.signal import savgol_filter\n",
    "\n",
    "from sklearn.cross_decomposition import PLSRegression\n",
    "from sklearn.model_selection import KFold, cross_val_predict, train_test_split\n",
    "from sklearn.metrics import accuracy_score"
   ]
  },
  {
   "cell_type": "markdown",
   "metadata": {},
   "source": [
    "- The data set for this tutorial is a bunch of NIR spectra from samples of milk powder. Milk powder and coconut milk powder were mixed in different proportions and NIR spectra were acquired. The data set is freely available for download in our Github repo.\n",
    "\n",
    "- The data set contains 11 different classes, corresponding to samples going from 100% milk powder to 0% milk powder (that is 100% coconut milk powder) in decrements of 10%. For the sake of running a binary classification, we are going to discard all mixes except the 5th and the 6th, corresponding to the 60/40 and 50/50 ratio of milk and coconut milk powder respectively."
   ]
  },
  {
   "cell_type": "code",
   "execution_count": 28,
   "metadata": {},
   "outputs": [],
   "source": [
    "# Load data into a Pandas dataframe\n",
    "data = pd.read_csv('./Data/milk-powder.csv')\n",
    "data.columns\n",
    "data.labels.value_counts() # 1 ~ 11: 20 each"
   ]
  },
  {
   "cell_type": "code",
   "execution_count": 29,
   "metadata": {},
   "outputs": [],
   "source": [
    "# Extact first and last label in a new dataframe\n",
    "binary_data = data[(data['labels'] == 5) | (data['labels'] == 6)] # (40, 603)"
   ]
  },
  {
   "cell_type": "code",
   "execution_count": 30,
   "metadata": {},
   "outputs": [],
   "source": [
    "# Read data into a numpy array and apply simple smoothing\n",
    "X_binary = savgol_filter(binary_data.values[:,2:], 15, polyorder = 3, deriv=0)\n",
    "# Read categorical variables\n",
    "y_binary = binary_data[\"labels\"].values"
   ]
  },
  {
   "cell_type": "code",
   "execution_count": 31,
   "metadata": {},
   "outputs": [],
   "source": [
    "# Map variables to 0 and 1\n",
    "y_binary = (y_binary == 6).astype('uint8')"
   ]
  },
  {
   "cell_type": "code",
   "execution_count": 32,
   "metadata": {},
   "outputs": [],
   "source": [
    "# DEfine the PLS regression object\n",
    "pls_binary = PLSRegression(n_components=2)\n",
    "# Fit and transform the data\n",
    "X_pls = pls_binary.fit_transform(X_binary, y_binary)[0]"
   ]
  },
  {
   "cell_type": "code",
   "execution_count": 33,
   "metadata": {},
   "outputs": [
    {
     "data": {
      "image/png": "[encoded data removed]",
      "text/plain": [
       "<Figure size 864x720 with 1 Axes>"
      ]
     },
     "metadata": {},
     "output_type": "display_data"
    }
   ],
   "source": [
    "labplot = [\"60/40 ratio\", \"50/50 ratio\"]\n",
    "# Scatter plot\n",
    "unique = list(set(y_binary))\n",
    "colors = [plt.cm.jet(float(i)/max(unique)) for i in unique]\n",
    " \n",
    "with plt.style.context(('ggplot')):\n",
    "    plt.figure(figsize=(12,10))\n",
    "    for i, u in enumerate(unique):\n",
    "        col = np.expand_dims(np.array(colors[i]), axis=0)\n",
    "        xi = [X_pls[j,0] for j in range(len(X_pls[:,0])) if y_binary[j] == u]\n",
    "        yi = [X_pls[j,1] for j in range(len(X_pls[:,1])) if y_binary[j] == u]\n",
    "        plt.scatter(xi, yi, c=col, s=100, edgecolors='k',label=str(u))\n",
    " \n",
    "    plt.xlabel('Latent Variable 1')\n",
    "    plt.ylabel('Latent Variable 2')\n",
    "    plt.legend(labplot,loc='lower left')\n",
    "    plt.title('PLS cross-decomposition')\n",
    "    plt.show()"
   ]
  },
  {
   "cell_type": "code",
   "execution_count": 34,
   "metadata": {},
   "outputs": [],
   "source": [
    "# Test-train split\n",
    "X_train, X_test, y_train, y_test = train_test_split(X_binary, y_binary, test_size=0.2, random_state=19)"
   ]
  },
  {
   "cell_type": "code",
   "execution_count": 35,
   "metadata": {},
   "outputs": [],
   "source": [
    "# Define the PLS object\n",
    "pls_binary = PLSRegression(n_components=2)"
   ]
  },
  {
   "cell_type": "code",
   "execution_count": 36,
   "metadata": {},
   "outputs": [
    {
     "data": {
      "text/plain": [
       "PLSRegression()"
      ]
     },
     "execution_count": 36,
     "metadata": {},
     "output_type": "execute_result"
    }
   ],
   "source": [
    "# Fit the training set\n",
    "pls_binary.fit(X_train, y_train)"
   ]
  },
  {
   "cell_type": "code",
   "execution_count": 37,
   "metadata": {},
   "outputs": [],
   "source": [
    "# Predictions: these won't generally be integer numbers\n",
    "y_pred = pls_binary.predict(X_test)[:,0]"
   ]
  },
  {
   "cell_type": "code",
   "execution_count": 38,
   "metadata": {},
   "outputs": [
    {
     "data": {
      "text/plain": [
       "array([1, 0, 0, 0, 0, 1, 0, 0], dtype=uint8)"
      ]
     },
     "execution_count": 38,
     "metadata": {},
     "output_type": "execute_result"
    }
   ],
   "source": [
    "# \"Force\" binary prediction by thresholding\n",
    "#binary_prediction = (pls_binary.predict(X_test)[:,0] &gt; 0.5).astype('uint8')\n",
    "# invalid syntax for code up there\n",
    "binary_prediction = (pls_binary.predict(X_test)[:,0]).astype('uint8')\n",
    "binary_prediction"
   ]
  },
  {
   "cell_type": "code",
   "execution_count": 39,
   "metadata": {},
   "outputs": [
    {
     "name": "stdout",
     "output_type": "stream",
     "text": [
      "[1 0 0 0 0 1 0 0] [1 1 0 0 0 1 0 0]\n"
     ]
    }
   ],
   "source": [
    "print(binary_prediction, y_test)"
   ]
  },
  {
   "cell_type": "code",
   "execution_count": 40,
   "metadata": {},
   "outputs": [],
   "source": [
    "def pls_da(X_train,y_train, X_test):\n",
    "    \n",
    "    # Define the PLS object for binary classification\n",
    "    plsda = PLSRegression(n_components=2)\n",
    "    \n",
    "    # Fit the training set\n",
    "    plsda.fit(X_train, y_train)\n",
    "    \n",
    "    # Binary prediction on the test set, done with thresholding\n",
    "    #binary_prediction = (pls_binary.predict(X_test)[:,0] &gt; 0.5).astype('uint8')\n",
    "    binary_prediction = (pls_binary.predict(X_test)[:,0]).astype('uint8')\n",
    "    \n",
    "    return binary_prediction"
   ]
  },
  {
   "cell_type": "code",
   "execution_count": 41,
   "metadata": {},
   "outputs": [
    {
     "name": "stdout",
     "output_type": "stream",
     "text": [
      "Average accuracy on 10 splits:  0.7\n"
     ]
    }
   ],
   "source": [
    "accuracy = []\n",
    "cval = KFold(n_splits=10, shuffle=True, random_state=19)\n",
    "for train, test in cval.split(X_binary):\n",
    "    \n",
    "    y_pred = pls_da(X_binary[train,:], y_binary[train], X_binary[test,:])\n",
    "    \n",
    "    accuracy.append(accuracy_score(y_binary[test], y_pred))\n",
    " \n",
    "print(\"Average accuracy on 10 splits: \", np.array(accuracy).mean())"
   ]
  },
  {
   "cell_type": "markdown",
   "metadata": {},
   "source": [
    "Source [here](https://nirpyresearch.com/pls-discriminant-analysis-binary-classification-python/)"
   ]
  },
  {
   "cell_type": "markdown",
   "metadata": {},
   "source": [
    "# Partial Least Squares Discriminant Analysis"
   ]
  },
  {
   "cell_type": "code",
   "execution_count": 42,
   "metadata": {},
   "outputs": [],
   "source": [
    "import numpy as np\n",
    "import matplotlib.pyplot as plt\n",
    "import pandas as pd\n",
    "\n",
    "from sklearn.cross_decomposition import PLSRegression\n",
    "from sklearn.decomposition import PCA\n",
    "from sklearn.preprocessing import StandardScaler"
   ]
  },
  {
   "cell_type": "code",
   "execution_count": 43,
   "metadata": {},
   "outputs": [],
   "source": [
    "# READING DATA\n",
    "df = pd.read_csv('./Data/seeds.csv')"
   ]
  },
  {
   "cell_type": "code",
   "execution_count": 44,
   "metadata": {},
   "outputs": [
    {
     "data": {
      "text/html": [
       "<div>\n",
       "<style scoped>\n",
       "    .dataframe tbody tr th:only-of-type {\n",
       "        vertical-align: middle;\n",
       "    }\n",
       "\n",
       "    .dataframe tbody tr th {\n",
       "        vertical-align: top;\n",
       "    }\n",
       "\n",
       "    .dataframe thead th {\n",
       "        text-align: right;\n",
       "    }\n",
       "</style>\n",
       "<table border=\"1\" class=\"dataframe\">\n",
       "  <thead>\n",
       "    <tr style=\"text-align: right;\">\n",
       "      <th></th>\n",
       "      <th>Area</th>\n",
       "      <th>Perimeter</th>\n",
       "      <th>Compactness</th>\n",
       "      <th>Kernel.Length</th>\n",
       "      <th>Kernel.Width</th>\n",
       "      <th>Asymmetry.Coeff</th>\n",
       "      <th>Kernel.Groove</th>\n",
       "      <th>Type</th>\n",
       "      <th>Name</th>\n",
       "    </tr>\n",
       "  </thead>\n",
       "  <tbody>\n",
       "    <tr>\n",
       "      <th>0</th>\n",
       "      <td>15.26</td>\n",
       "      <td>14.84</td>\n",
       "      <td>0.8710</td>\n",
       "      <td>5.763</td>\n",
       "      <td>3.312</td>\n",
       "      <td>2.221</td>\n",
       "      <td>5.220</td>\n",
       "      <td>1</td>\n",
       "      <td>Kama</td>\n",
       "    </tr>\n",
       "    <tr>\n",
       "      <th>1</th>\n",
       "      <td>14.88</td>\n",
       "      <td>14.57</td>\n",
       "      <td>0.8811</td>\n",
       "      <td>5.554</td>\n",
       "      <td>3.333</td>\n",
       "      <td>1.018</td>\n",
       "      <td>4.956</td>\n",
       "      <td>1</td>\n",
       "      <td>Kama</td>\n",
       "    </tr>\n",
       "    <tr>\n",
       "      <th>2</th>\n",
       "      <td>14.29</td>\n",
       "      <td>14.09</td>\n",
       "      <td>0.9050</td>\n",
       "      <td>5.291</td>\n",
       "      <td>3.337</td>\n",
       "      <td>2.699</td>\n",
       "      <td>4.825</td>\n",
       "      <td>1</td>\n",
       "      <td>Kama</td>\n",
       "    </tr>\n",
       "    <tr>\n",
       "      <th>3</th>\n",
       "      <td>13.84</td>\n",
       "      <td>13.94</td>\n",
       "      <td>0.8955</td>\n",
       "      <td>5.324</td>\n",
       "      <td>3.379</td>\n",
       "      <td>2.259</td>\n",
       "      <td>4.805</td>\n",
       "      <td>1</td>\n",
       "      <td>Kama</td>\n",
       "    </tr>\n",
       "    <tr>\n",
       "      <th>4</th>\n",
       "      <td>16.14</td>\n",
       "      <td>14.99</td>\n",
       "      <td>0.9034</td>\n",
       "      <td>5.658</td>\n",
       "      <td>3.562</td>\n",
       "      <td>1.355</td>\n",
       "      <td>5.175</td>\n",
       "      <td>1</td>\n",
       "      <td>Kama</td>\n",
       "    </tr>\n",
       "  </tbody>\n",
       "</table>\n",
       "</div>"
      ],
      "text/plain": [
       "    Area  Perimeter  Compactness  Kernel.Length  Kernel.Width  \\\n",
       "0  15.26      14.84       0.8710          5.763         3.312   \n",
       "1  14.88      14.57       0.8811          5.554         3.333   \n",
       "2  14.29      14.09       0.9050          5.291         3.337   \n",
       "3  13.84      13.94       0.8955          5.324         3.379   \n",
       "4  16.14      14.99       0.9034          5.658         3.562   \n",
       "\n",
       "   Asymmetry.Coeff  Kernel.Groove  Type  Name  \n",
       "0            2.221          5.220     1  Kama  \n",
       "1            1.018          4.956     1  Kama  \n",
       "2            2.699          4.825     1  Kama  \n",
       "3            2.259          4.805     1  Kama  \n",
       "4            1.355          5.175     1  Kama  "
      ]
     },
     "execution_count": 44,
     "metadata": {},
     "output_type": "execute_result"
    }
   ],
   "source": [
    "df.head()"
   ]
  },
  {
   "cell_type": "code",
   "execution_count": 45,
   "metadata": {},
   "outputs": [
    {
     "data": {
      "text/plain": [
       "(199, 9)"
      ]
     },
     "execution_count": 45,
     "metadata": {},
     "output_type": "execute_result"
    }
   ],
   "source": [
    "df.shape"
   ]
  },
  {
   "cell_type": "code",
   "execution_count": 46,
   "metadata": {},
   "outputs": [],
   "source": [
    "X = df.iloc[:,0:7].values"
   ]
  },
  {
   "cell_type": "code",
   "execution_count": 47,
   "metadata": {},
   "outputs": [
    {
     "data": {
      "text/plain": [
       "(199, 7)"
      ]
     },
     "execution_count": 47,
     "metadata": {},
     "output_type": "execute_result"
    }
   ],
   "source": [
    "X.shape"
   ]
  },
  {
   "cell_type": "code",
   "execution_count": 48,
   "metadata": {},
   "outputs": [],
   "source": [
    "y_categorical = df['Name'].unique()\n",
    "classes = df['Type']"
   ]
  },
  {
   "cell_type": "code",
   "execution_count": 49,
   "metadata": {},
   "outputs": [],
   "source": [
    "# Plot settings\n",
    "cols = ['blue','orange','green']\n",
    "mks = ['o','^','p']\n",
    "colorlist = [cols[i-1] for i in classes]\n",
    "markerlist = [mks[i-1] for i in classes]\n",
    "\n",
    "# Making the dummy Y response matrix\n",
    "y = np.zeros(shape=(df.shape[0], 3))\n",
    "for i in range(df.shape[0]):\n",
    "    y[i, classes[i] - 1] = 1"
   ]
  },
  {
   "cell_type": "code",
   "execution_count": 50,
   "metadata": {},
   "outputs": [],
   "source": [
    "plsr = PLSRegression(n_components=2, scale=False) # <1>\n",
    "plsr.fit(X, y)\n",
    "scores = plsr.x_scores_"
   ]
  },
  {
   "cell_type": "code",
   "execution_count": 51,
   "metadata": {},
   "outputs": [],
   "source": [
    "# PCA wants a normalized Matrix\n",
    "X_p = StandardScaler().fit_transform(X)\n",
    "pca = PCA(n_components=2)\n",
    "principalComponents = pca.fit_transform(X_p)"
   ]
  },
  {
   "cell_type": "code",
   "execution_count": 52,
   "metadata": {},
   "outputs": [
    {
     "data": {
      "text/plain": [
       "<matplotlib.legend.Legend at 0x1bff3286898>"
      ]
     },
     "execution_count": 52,
     "metadata": {},
     "output_type": "execute_result"
    },
    {
     "data": {
      "image/png": "[encoded data removed]",
      "text/plain": [
       "<Figure size 792x360 with 2 Axes>"
      ]
     },
     "metadata": {},
     "output_type": "display_data"
    }
   ],
   "source": [
    "fig = plt.figure(figsize = (11, 5))\n",
    "\n",
    "ax0 = fig.add_subplot(121)\n",
    "for i in range(len(y_categorical)):\n",
    "    indx = df.loc[df['Name'] == y_categorical[i]].index\n",
    "    ax0.scatter(scores[indx,0], scores[indx,1], marker = mks[i], label = y_categorical[i])\n",
    "\n",
    "ax0.set_xlabel('Scores on LV 1')\n",
    "ax0.set_ylabel('Scores on LV 2')\n",
    "ax0.set_title('PLS-DA')\n",
    "ax0.legend(loc = 'upper right')\n",
    "\n",
    "ax1 = fig.add_subplot(122)\n",
    "for i in range(len(y_categorical)):\n",
    "    indx = df.loc[df['Name'] == y_categorical[i]].index\n",
    "    ax1.scatter(principalComponents[indx, 0], principalComponents[indx, 1], marker = mks[i], label = y_categorical[i])\n",
    "\n",
    "ax1.set_xlabel('Component 1')\n",
    "ax1.set_ylabel('Component 2')\n",
    "ax1.set_title('PCA')\n",
    "ax1.legend(loc = 'upper right')"
   ]
  },
  {
   "cell_type": "code",
   "execution_count": 53,
   "metadata": {},
   "outputs": [],
   "source": [
    "X_train, X_test, y_train, y_test = train_test_split(X, y, test_size=0.1)"
   ]
  },
  {
   "cell_type": "code",
   "execution_count": 54,
   "metadata": {},
   "outputs": [
    {
     "data": {
      "text/plain": [
       "PLSRegression(scale=False)"
      ]
     },
     "execution_count": 54,
     "metadata": {},
     "output_type": "execute_result"
    }
   ],
   "source": [
    "plsr = PLSRegression(n_components=2, scale=False) \n",
    "plsr.fit(X_train, y_train)"
   ]
  },
  {
   "cell_type": "code",
   "execution_count": 55,
   "metadata": {},
   "outputs": [],
   "source": [
    "ypred = plsr.predict(X_test)"
   ]
  },
  {
   "cell_type": "code",
   "execution_count": 56,
   "metadata": {},
   "outputs": [
    {
     "data": {
      "text/plain": [
       "(20, 3)"
      ]
     },
     "execution_count": 56,
     "metadata": {},
     "output_type": "execute_result"
    }
   ],
   "source": [
    "ypred.shape"
   ]
  },
  {
   "cell_type": "markdown",
   "metadata": {},
   "source": [
    "Source [here](https://data-farmers.github.io/2019-06-14-Partial-Least-Squares-Discriminant-Analysis/)"
   ]
  },
  {
   "cell_type": "code",
   "execution_count": 57,
   "metadata": {},
   "outputs": [],
   "source": [
    "#ypred_pd = pd.DataFrame(ypred, columns = ['A','B','C'])"
   ]
  },
  {
   "cell_type": "code",
   "execution_count": 58,
   "metadata": {},
   "outputs": [],
   "source": [
    "#ypred_pd.head()"
   ]
  },
  {
   "cell_type": "code",
   "execution_count": 59,
   "metadata": {},
   "outputs": [],
   "source": [
    "# markers = ['o','^','p']\n",
    "# names = df['Name'].unique()\n",
    "\n",
    "# fig = plt.figure(figsize = (18, 6))\n",
    "\n",
    "\n",
    "# # SUBPLOT 1\n",
    "# ax0 = fig.add_subplot(131, projection='3d')\n",
    "\n",
    "# for i in range(3):\n",
    "#     ax0.scatter(ypred_pd['A'],\n",
    "#                 ypred_pd['B'], \n",
    "#                 ypred_pd['C'], \n",
    "#                 marker = markers[i], label = names[i])\n",
    "\n",
    "# ax0.set_xlabel(\"A\")\n",
    "# ax0.set_ylabel(\"B\")\n",
    "# ax0.set_zlabel(\"C\")\n",
    "# ax0.set_title(\"Raw data\")\n",
    "# ax0.legend()"
   ]
  },
  {
   "cell_type": "code",
   "execution_count": 60,
   "metadata": {},
   "outputs": [],
   "source": [
    "# plt.scatter(ypred_pd['A'], ypred_pd['B'])\n",
    "# plt.show()"
   ]
  }
 ],
 "metadata": {
  "kernelspec": {
   "display_name": "Python 3",
   "language": "python",
   "name": "python3"
  },
  "language_info": {
   "codemirror_mode": {
    "name": "ipython",
    "version": 3
   },
   "file_extension": ".py",
   "mimetype": "text/x-python",
   "name": "python",
   "nbconvert_exporter": "python",
   "pygments_lexer": "ipython3",
   "version": "3.6.13"
  },
  "varInspector": {
   "cols": {
    "lenName": 16,
    "lenType": 16,
    "lenVar": 40
   },
   "kernels_config": {
    "python": {
     "delete_cmd_postfix": "",
     "delete_cmd_prefix": "del ",
     "library": "var_list.py",
     "varRefreshCmd": "print(var_dic_list())"
    },
    "r": {
     "delete_cmd_postfix": ") ",
     "delete_cmd_prefix": "rm(",
     "library": "var_list.r",
     "varRefreshCmd": "cat(var_dic_list()) "
    }
   },
   "types_to_exclude": [
    "module",
    "function",
    "builtin_function_or_method",
    "instance",
    "_Feature"
   ],
   "window_display": false
  }
 },
 "nbformat": 4,
 "nbformat_minor": 4
}
