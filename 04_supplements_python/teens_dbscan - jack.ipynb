{
 "cells": [
  {
   "cell_type": "code",
   "execution_count": 1,
   "id": "229a92ac",
   "metadata": {},
   "outputs": [],
   "source": [
    "### 4.3.1.1 青少年市場區隔案例 by DBSCAN\n",
    "## ------------------------------------------------------------------------\n",
    "import numpy as np\n",
    "import pandas as pd\n",
    "teens = pd.read_csv(\"./snsdata.csv\")"
   ]
  },
  {
   "cell_type": "code",
   "execution_count": 2,
   "id": "e3986cd7",
   "metadata": {},
   "outputs": [
    {
     "name": "stdout",
     "output_type": "stream",
     "text": [
      "(30000, 40)\n"
     ]
    }
   ],
   "source": [
    "# 文件詞項矩陣前面加上入學年、性別、年齡與朋友數等欄位\n",
    "print(teens.shape) # 30000 * (4 + 36 terms by NLP)"
   ]
  },
  {
   "cell_type": "code",
   "execution_count": 3,
   "id": "748a225f",
   "metadata": {},
   "outputs": [
    {
     "name": "stdout",
     "output_type": "stream",
     "text": [
      "gradyear          int64\n",
      "gender           object\n",
      "age             float64\n",
      "friends           int64\n",
      "basketball        int64\n",
      "football          int64\n",
      "soccer            int64\n",
      "softball          int64\n",
      "volleyball        int64\n",
      "swimming          int64\n",
      "cheerleading      int64\n",
      "baseball          int64\n",
      "tennis            int64\n",
      "sports            int64\n",
      "cute              int64\n",
      "sex               int64\n",
      "sexy              int64\n",
      "hot               int64\n",
      "kissed            int64\n",
      "dance             int64\n",
      "band              int64\n",
      "marching          int64\n",
      "music             int64\n",
      "rock              int64\n",
      "god               int64\n",
      "church            int64\n",
      "jesus             int64\n",
      "bible             int64\n",
      "hair              int64\n",
      "dress             int64\n",
      "blonde            int64\n",
      "mall              int64\n",
      "shopping          int64\n",
      "clothes           int64\n",
      "hollister         int64\n",
      "abercrombie       int64\n",
      "die               int64\n",
      "death             int64\n",
      "drunk             int64\n",
      "drugs             int64\n",
      "dtype: object\n"
     ]
    }
   ],
   "source": [
    "# 留意gradyear 的資料型別\n",
    "print(teens.dtypes)"
   ]
  },
  {
   "cell_type": "code",
   "execution_count": 4,
   "id": "e359ae7c",
   "metadata": {},
   "outputs": [
    {
     "name": "stdout",
     "output_type": "stream",
     "text": [
      "gradyear       object\n",
      "gender         object\n",
      "age           float64\n",
      "friends         int64\n",
      "basketball      int64\n",
      "dtype: object\n"
     ]
    }
   ],
   "source": [
    "# gradyear 更新為字串str 型別\n",
    "teens['gradyear'] = teens['gradyear'].astype('str')\n",
    "# 除了資料型別外，ftypes 還報導了屬性向量是稀疏還是稠密的\n",
    "# print(teens.ftypes.head()) # deprecated after 1.0.0\n",
    "print(teens.dtypes.head())"
   ]
  },
  {
   "cell_type": "code",
   "execution_count": 5,
   "id": "0e50adcd",
   "metadata": {},
   "outputs": [
    {
     "name": "stdout",
     "output_type": "stream",
     "text": [
      "       gradyear gender           age       friends    basketball  \\\n",
      "count     30000  27276  24914.000000  30000.000000  30000.000000   \n",
      "unique        4      2           NaN           NaN           NaN   \n",
      "top        2006      F           NaN           NaN           NaN   \n",
      "freq       7500  22054           NaN           NaN           NaN   \n",
      "mean        NaN    NaN     17.993950     30.179467      0.267333   \n",
      "std         NaN    NaN      7.858054     36.530877      0.804708   \n",
      "min         NaN    NaN      3.086000      0.000000      0.000000   \n",
      "25%         NaN    NaN     16.312000      3.000000      0.000000   \n",
      "50%         NaN    NaN     17.287000     20.000000      0.000000   \n",
      "75%         NaN    NaN     18.259000     44.000000      0.000000   \n",
      "max         NaN    NaN    106.927000    830.000000     24.000000   \n",
      "\n",
      "            football        soccer      softball    volleyball     swimming  \\\n",
      "count   30000.000000  30000.000000  30000.000000  30000.000000  30000.00000   \n",
      "unique           NaN           NaN           NaN           NaN          NaN   \n",
      "top              NaN           NaN           NaN           NaN          NaN   \n",
      "freq             NaN           NaN           NaN           NaN          NaN   \n",
      "mean        0.252300      0.222767      0.161200      0.143133      0.13440   \n",
      "std         0.705357      0.917226      0.739707      0.639943      0.51699   \n",
      "min         0.000000      0.000000      0.000000      0.000000      0.00000   \n",
      "25%         0.000000      0.000000      0.000000      0.000000      0.00000   \n",
      "50%         0.000000      0.000000      0.000000      0.000000      0.00000   \n",
      "75%         0.000000      0.000000      0.000000      0.000000      0.00000   \n",
      "max        15.000000     27.000000     17.000000     14.000000     31.00000   \n",
      "\n",
      "        ...        blonde          mall      shopping      clothes  \\\n",
      "count   ...  30000.000000  30000.000000  30000.000000  30000.00000   \n",
      "unique  ...           NaN           NaN           NaN          NaN   \n",
      "top     ...           NaN           NaN           NaN          NaN   \n",
      "freq    ...           NaN           NaN           NaN          NaN   \n",
      "mean    ...      0.098933      0.257367      0.353000      0.14850   \n",
      "std     ...      1.942319      0.695758      0.724391      0.47264   \n",
      "min     ...      0.000000      0.000000      0.000000      0.00000   \n",
      "25%     ...      0.000000      0.000000      0.000000      0.00000   \n",
      "50%     ...      0.000000      0.000000      0.000000      0.00000   \n",
      "75%     ...      0.000000      0.000000      1.000000      0.00000   \n",
      "max     ...    327.000000     12.000000     11.000000      8.00000   \n",
      "\n",
      "           hollister   abercrombie           die         death         drunk  \\\n",
      "count   30000.000000  30000.000000  30000.000000  30000.000000  30000.000000   \n",
      "unique           NaN           NaN           NaN           NaN           NaN   \n",
      "top              NaN           NaN           NaN           NaN           NaN   \n",
      "freq             NaN           NaN           NaN           NaN           NaN   \n",
      "mean        0.069867      0.051167      0.184100      0.114233      0.087967   \n",
      "std         0.346779      0.279555      0.624516      0.436796      0.399125   \n",
      "min         0.000000      0.000000      0.000000      0.000000      0.000000   \n",
      "25%         0.000000      0.000000      0.000000      0.000000      0.000000   \n",
      "50%         0.000000      0.000000      0.000000      0.000000      0.000000   \n",
      "75%         0.000000      0.000000      0.000000      0.000000      0.000000   \n",
      "max         9.000000      8.000000     22.000000     14.000000      8.000000   \n",
      "\n",
      "               drugs  \n",
      "count   30000.000000  \n",
      "unique           NaN  \n",
      "top              NaN  \n",
      "freq             NaN  \n",
      "mean        0.060433  \n",
      "std         0.345522  \n",
      "min         0.000000  \n",
      "25%         0.000000  \n",
      "50%         0.000000  \n",
      "75%         0.000000  \n",
      "max        16.000000  \n",
      "\n",
      "[11 rows x 40 columns]\n"
     ]
    }
   ],
   "source": [
    "# 各變數敘述統計值(報表過寬，只呈現部份結果)\n",
    "print(teens.describe(include='all'))"
   ]
  },
  {
   "cell_type": "code",
   "execution_count": 6,
   "id": "ab122ae1",
   "metadata": {},
   "outputs": [
    {
     "name": "stdout",
     "output_type": "stream",
     "text": [
      "gradyear         0\n",
      "gender        2724\n",
      "age           5086\n",
      "friends          0\n",
      "basketball       0\n",
      "dtype: int64\n"
     ]
    }
   ],
   "source": [
    "# 各欄位遺缺值統計(只有gender 與age 有遺缺)(注意！此處並未進行遺缺值處理)\n",
    "print(teens.isnull().sum().head())"
   ]
  },
  {
   "cell_type": "code",
   "execution_count": 7,
   "id": "2235b56b",
   "metadata": {},
   "outputs": [],
   "source": [
    "# 各詞頻變數標準化建模\n",
    "from sklearn.preprocessing import StandardScaler"
   ]
  },
  {
   "cell_type": "code",
   "execution_count": 8,
   "id": "c8bd1cd2",
   "metadata": {},
   "outputs": [],
   "source": [
    "sc = StandardScaler() # Object-oriented programming paradigm"
   ]
  },
  {
   "cell_type": "code",
   "execution_count": 9,
   "id": "2de139ae",
   "metadata": {},
   "outputs": [],
   "source": [
    "# 配適與轉換接續完成函數\n",
    "teens_z = sc.fit_transform(teens.iloc[:,4:])\n",
    "# 錯誤用法！Python的類別函數不可使用泛函式編程語法\n",
    "# teens_z = StandardScaler(teens.iloc[:,4:]) # > scikit-learn 0.23.2 可以！"
   ]
  },
  {
   "cell_type": "code",
   "execution_count": 10,
   "id": "75e7e11c",
   "metadata": {},
   "outputs": [],
   "source": [
    "# scikit-learn下preprocessing模組的scale()函數可用泛函式編程語法\n",
    "from sklearn.preprocessing import scale\n",
    "teens_z = scale(teens.iloc[:,4:])"
   ]
  },
  {
   "cell_type": "code",
   "execution_count": 11,
   "id": "a081d4ac",
   "metadata": {},
   "outputs": [
    {
     "name": "stdout",
     "output_type": "stream",
     "text": [
      "<class 'numpy.ndarray'>\n"
     ]
    }
   ],
   "source": [
    "# 資料導向程式設計經常輸出與輸入不同調(DataFrame 入ndarray 出)\n",
    "print(type(teens_z))"
   ]
  },
  {
   "cell_type": "code",
   "execution_count": 12,
   "id": "0b524d86",
   "metadata": {},
   "outputs": [
    {
     "name": "stdout",
     "output_type": "stream",
     "text": [
      "                  0             1             2\n",
      "count  3.000000e+04  3.000000e+04  3.000000e+04\n",
      "mean   5.494864e-17  1.136868e-17 -9.687066e-17\n",
      "std    1.000017e+00  1.000017e+00  1.000017e+00\n",
      "min   -2.014763e-01 -1.830317e-01 -2.947932e-01\n",
      "25%   -2.014763e-01 -1.830317e-01 -2.947932e-01\n",
      "50%   -2.014763e-01 -1.830317e-01 -2.947932e-01\n",
      "75%   -2.014763e-01 -1.830317e-01 -2.947932e-01\n",
      "max    2.575205e+01  2.843431e+01  3.493308e+01\n"
     ]
    }
   ],
   "source": [
    "# 轉為資料框物件取用describe() 方法確認標準化結果\n",
    "print(pd.DataFrame(teens_z[:,30:33]).describe())\n",
    "# mean 5.494864e-17  1.136868e-17 -9.687066e-17 可能數字上會有差異，這說明二進位制的計算機的數值運算不穩定性(numerical instability)"
   ]
  },
  {
   "cell_type": "code",
   "execution_count": 13,
   "id": "5bfb11dc",
   "metadata": {},
   "outputs": [],
   "source": [
    "# Python DBSCAN集群\n",
    "from sklearn.cluster import DBSCAN\n",
    "mdl = DBSCAN(eps=5, min_samples=5) # More computation time than k-means and for larger 'eps' and 'min_samples'.\n",
    "# eps=3.8, min_samples=10"
   ]
  },
  {
   "cell_type": "code",
   "execution_count": 14,
   "id": "4c1c6eda",
   "metadata": {},
   "outputs": [
    {
     "name": "stdout",
     "output_type": "stream",
     "text": [
      "['_check_feature_names', '_check_n_features', '_estimator_type', '_get_default_requests', '_get_metadata_request']\n"
     ]
    }
   ],
   "source": [
    "# 配適前空模的屬性與方法\n",
    "pre = dir(mdl)\n",
    "# 空模的幾個屬性與方法\n",
    "print(pre[31:36])"
   ]
  },
  {
   "cell_type": "code",
   "execution_count": 15,
   "id": "c04d33a4",
   "metadata": {},
   "outputs": [
    {
     "name": "stdout",
     "output_type": "stream",
     "text": [
      "DBSCAN fitting spent 16.809983491897583 seconds\n"
     ]
    }
   ],
   "source": [
    "# 以標準化文件詞項矩陣配適集群模型\n",
    "import time\n",
    "start = time.time()\n",
    "mdl.fit(teens_z)\n",
    "end = time.time()\n",
    "print(\"DBSCAN fitting spent {} seconds\".format(end - start))"
   ]
  },
  {
   "cell_type": "code",
   "execution_count": 16,
   "id": "53c17bbd",
   "metadata": {},
   "outputs": [
    {
     "name": "stdout",
     "output_type": "stream",
     "text": [
      "['get_metadata_routing', 'get_params', 'labels_', 'leaf_size', 'metric']\n"
     ]
    }
   ],
   "source": [
    "# 配適後實模的屬性與方法\n",
    "post = dir(mdl)\n",
    "# 實模的幾個屬性與方法\n",
    "print(post[51:56])"
   ]
  },
  {
   "cell_type": "code",
   "execution_count": 17,
   "id": "696ce64b",
   "metadata": {},
   "outputs": [
    {
     "name": "stdout",
     "output_type": "stream",
     "text": [
      "['core_sample_indices_', 'components_', 'labels_', 'n_features_in_']\n"
     ]
    }
   ],
   "source": [
    "# 實模與空模屬性和方法的差異(前或後有下底線_)\n",
    "print(list(set(post) - set(pre)))"
   ]
  },
  {
   "cell_type": "code",
   "execution_count": 18,
   "id": "96dd6793",
   "metadata": {},
   "outputs": [
    {
     "name": "stdout",
     "output_type": "stream",
     "text": [
      "(30000,)\n"
     ]
    }
   ],
   "source": [
    "# res.labels_ 為30,000 名訓練樣本的歸群標籤\n",
    "# import sys\n",
    "# np.set_printoptions(threshold=sys.maxsize)\n",
    "print(mdl.labels_.shape)"
   ]
  },
  {
   "cell_type": "code",
   "execution_count": 19,
   "id": "9902a133",
   "metadata": {},
   "outputs": [
    {
     "name": "stdout",
     "output_type": "stream",
     "text": [
      " 0    27602\n",
      "-1     2349\n",
      " 1       30\n",
      " 3        9\n",
      " 4        6\n",
      " 2        4\n",
      "Name: count, dtype: int64\n"
     ]
    }
   ],
   "source": [
    "# 各群人數分佈(思考numpy下如何做！) 317群\n",
    "print(pd.Series(mdl.labels_).value_counts())"
   ]
  },
  {
   "cell_type": "code",
   "execution_count": 20,
   "id": "2cb1719d",
   "metadata": {},
   "outputs": [
    {
     "data": {
      "text/plain": [
       "array([    0,     2,     3, ..., 29997, 29998, 29999], dtype=int64)"
      ]
     },
     "execution_count": 20,
     "metadata": {},
     "output_type": "execute_result"
    }
   ],
   "source": [
    "# 核心樣本點的編號\n",
    "dir(mdl)\n",
    "mdl.core_sample_indices_"
   ]
  },
  {
   "cell_type": "code",
   "execution_count": 21,
   "id": "ca4908e1",
   "metadata": {},
   "outputs": [
    {
     "name": "stdout",
     "output_type": "stream",
     "text": [
      "[ 0 -1  0  0  0  0  0  0  0  0]\n"
     ]
    }
   ],
   "source": [
    "# 前10 個樣本的群編號\n",
    "print (mdl.labels_[:10])"
   ]
  },
  {
   "cell_type": "code",
   "execution_count": 22,
   "id": "1aeac26d",
   "metadata": {},
   "outputs": [
    {
     "name": "stdout",
     "output_type": "stream",
     "text": [
      "(26845, 36)\n",
      "[[-0.33221726 -0.35769737 -0.2428741  ... -0.26153016 -0.22040264\n",
      "  -0.1749076 ]\n",
      " [-0.33221726  1.06004883 -0.2428741  ...  2.02790809 -0.22040264\n",
      "  -0.1749076 ]\n",
      " [-0.33221726 -0.35769737 -0.2428741  ... -0.26153016 -0.22040264\n",
      "  -0.1749076 ]\n",
      " ...\n",
      " [-0.33221726  1.06004883 -0.2428741  ... -0.26153016 -0.22040264\n",
      "  -0.1749076 ]\n",
      " [-0.33221726 -0.35769737 -0.2428741  ... -0.26153016 -0.22040264\n",
      "  -0.1749076 ]\n",
      " [ 2.15319868 -0.35769737 -0.2428741  ... -0.26153016 -0.22040264\n",
      "  -0.1749076 ]]\n"
     ]
    }
   ],
   "source": [
    "# 26845核心樣本點的特徵數值\n",
    "print(mdl.components_.shape)\n",
    "print(mdl.components_)"
   ]
  },
  {
   "cell_type": "code",
   "execution_count": 23,
   "id": "793912a7",
   "metadata": {},
   "outputs": [
    {
     "name": "stdout",
     "output_type": "stream",
     "text": [
      "   basketball  football    soccer  softball  volleyball  swimming  \\\n",
      "0   -0.067351 -0.057116 -0.040716 -0.044054   -0.047713 -0.041606   \n",
      "1    2.277469  2.714086  2.264729 -0.172864   -0.171581  0.062414   \n",
      "2   -0.021540 -0.357697 -0.242874 -0.217928    0.166997 -0.259971   \n",
      "3    1.324727  1.217576  0.847388  1.284194   -0.050040 -0.045048   \n",
      "4   -0.332217 -0.121406  0.120547  0.232709    0.036775 -0.259971   \n",
      "\n",
      "   cheerleading  baseball    tennis    sports  ...    blonde      mall  \\\n",
      "0     -0.043412 -0.044608 -0.032138 -0.066861  ... -0.021241 -0.068519   \n",
      "1      2.709122  3.568471 -0.104458  0.056679  ...  1.888358 -0.130364   \n",
      "2     -0.207327 -0.201131 -0.168939 -0.297123  ... -0.050937 -0.369915   \n",
      "3      1.736972  1.715616 -0.168939  1.353955  ...  0.463920  1.227092   \n",
      "4     -0.207327 -0.201131 -0.168939 -0.297123  ... -0.050937 -0.369915   \n",
      "\n",
      "   shopping   clothes  hollister  abercrombie       die     death     drunk  \\\n",
      "0 -0.064194 -0.089064  -0.069002    -0.069245 -0.067499 -0.060389 -0.065271   \n",
      "1 -0.073166 -0.314198  -0.105352    -0.183032 -0.134667  0.120043 -0.220403   \n",
      "2 -0.487314 -0.314198  -0.201476    -0.183032  0.505840  0.310829 -0.220403   \n",
      "3 -0.180538  3.682333   0.118938     0.214431 -0.116875 -0.007148  0.057989   \n",
      "4 -0.027150 -0.314198  -0.201476    -0.183032 -0.027915  0.501616 -0.220403   \n",
      "\n",
      "      drugs  \n",
      "0 -0.076658  \n",
      "1 -0.078433  \n",
      "2  0.548648  \n",
      "3 -0.174908  \n",
      "4 -0.174908  \n",
      "\n",
      "[5 rows x 36 columns]\n"
     ]
    }
   ],
   "source": [
    "# 把dbscan分群結果加入dataframe\n",
    "##### 以下請同學練習如何修改\n",
    "# 轉換成pandas 資料框，給予群編號與字詞名稱，方便結果詮釋\n",
    "cen = pd.DataFrame(columns=teens.iloc[:,4:].columns)\n",
    "for i in range(5):\n",
    "    cen.loc[len(cen)] = teens_z[np.where(mdl.labels_ == i)[0]].mean(axis=0)\n",
    "#cen = pd.DataFrame(res.cluster_centers_, index = range(5),\n",
    "#columns = teens.iloc[:,4:].columns)\n",
    "print(cen)"
   ]
  },
  {
   "cell_type": "code",
   "execution_count": 24,
   "id": "d1d4b40f",
   "metadata": {},
   "outputs": [],
   "source": [
    "# 每次歸群結果的釋義會有不同\n",
    "# Princesses: 1\n",
    "# Criminals: 4\n",
    "# Basket Cases: 0\n",
    "# Athletes: 3\n",
    "# Brains: 2\n",
    "cluster = {0:'Basket Cases',1:'Princesses',2:'Brains',3:'Athletes',4:'Criminals'}"
   ]
  },
  {
   "cell_type": "code",
   "execution_count": 25,
   "id": "c72c7619",
   "metadata": {},
   "outputs": [
    {
     "data": {
      "image/png": "[encoded data removed]",
      "text/plain": [
       "<Figure size 640x480 with 1 Axes>"
      ]
     },
     "metadata": {},
     "output_type": "display_data"
    }
   ],
   "source": [
    "# 各群中心座標矩陣轉置後繪圖\n",
    "ax = cen.T.plot() # seaborn, ggplot or pandas ?\n",
    "# 低階繪圖設定x 軸刻度位置\n",
    "ax.set_xticks(list(range(36)))\n",
    "# 低階繪圖設定x 軸刻度說明文字\n",
    "ax.set_xticklabels(list(cen.T.index), rotation=90)\n",
    "ax.legend(['0:Basket Cases','1:Princesses','2:Brains','3:Athletes','4:Criminals'])\n",
    "fig = ax.get_figure()\n",
    "fig.tight_layout()\n",
    "fig.savefig('sns_lineplot.png')\n",
    "# fig.savefig('./_img/sns_lineplot.png')"
   ]
  },
  {
   "cell_type": "code",
   "execution_count": 26,
   "id": "4f8dfca9",
   "metadata": {},
   "outputs": [],
   "source": [
    "# 以下為課本/講義沒有的補充程式碼，主要在進行事後(建模後)的分析\n",
    "# 添加群編號於原資料表後\n",
    "teens = pd.concat([teens, pd.Series(mdl.labels_).rename('cluster')], axis=1)"
   ]
  },
  {
   "cell_type": "code",
   "execution_count": 27,
   "id": "9e868bfe",
   "metadata": {},
   "outputs": [
    {
     "data": {
      "text/html": [
       "<div>\n",
       "<style scoped>\n",
       "    .dataframe tbody tr th:only-of-type {\n",
       "        vertical-align: middle;\n",
       "    }\n",
       "\n",
       "    .dataframe tbody tr th {\n",
       "        vertical-align: top;\n",
       "    }\n",
       "\n",
       "    .dataframe thead th {\n",
       "        text-align: right;\n",
       "    }\n",
       "</style>\n",
       "<table border=\"1\" class=\"dataframe\">\n",
       "  <thead>\n",
       "    <tr style=\"text-align: right;\">\n",
       "      <th></th>\n",
       "      <th>gender</th>\n",
       "      <th>age</th>\n",
       "      <th>friends</th>\n",
       "      <th>cluster</th>\n",
       "    </tr>\n",
       "  </thead>\n",
       "  <tbody>\n",
       "    <tr>\n",
       "      <th>0</th>\n",
       "      <td>M</td>\n",
       "      <td>18.982</td>\n",
       "      <td>7</td>\n",
       "      <td>0</td>\n",
       "    </tr>\n",
       "    <tr>\n",
       "      <th>1</th>\n",
       "      <td>F</td>\n",
       "      <td>18.801</td>\n",
       "      <td>0</td>\n",
       "      <td>-1</td>\n",
       "    </tr>\n",
       "    <tr>\n",
       "      <th>2</th>\n",
       "      <td>M</td>\n",
       "      <td>18.335</td>\n",
       "      <td>69</td>\n",
       "      <td>0</td>\n",
       "    </tr>\n",
       "    <tr>\n",
       "      <th>3</th>\n",
       "      <td>F</td>\n",
       "      <td>18.875</td>\n",
       "      <td>0</td>\n",
       "      <td>0</td>\n",
       "    </tr>\n",
       "    <tr>\n",
       "      <th>4</th>\n",
       "      <td>NaN</td>\n",
       "      <td>18.995</td>\n",
       "      <td>10</td>\n",
       "      <td>0</td>\n",
       "    </tr>\n",
       "  </tbody>\n",
       "</table>\n",
       "</div>"
      ],
      "text/plain": [
       "  gender     age  friends  cluster\n",
       "0      M  18.982        7        0\n",
       "1      F  18.801        0       -1\n",
       "2      M  18.335       69        0\n",
       "3      F  18.875        0        0\n",
       "4    NaN  18.995       10        0"
      ]
     },
     "execution_count": 27,
     "metadata": {},
     "output_type": "execute_result"
    }
   ],
   "source": [
    "# 抓集群未使用的三個變量(剛才歸群時未用，但事後分析確有助於了解各群的異同，以及歸群結果的品質)\n",
    "teens[['gender','age','friends','cluster']][0:5]"
   ]
  },
  {
   "cell_type": "code",
   "execution_count": 28,
   "id": "0951856f",
   "metadata": {},
   "outputs": [
    {
     "data": {
      "text/html": [
       "<div>\n",
       "<style scoped>\n",
       "    .dataframe tbody tr th:only-of-type {\n",
       "        vertical-align: middle;\n",
       "    }\n",
       "\n",
       "    .dataframe tbody tr th {\n",
       "        vertical-align: top;\n",
       "    }\n",
       "\n",
       "    .dataframe thead th {\n",
       "        text-align: right;\n",
       "    }\n",
       "</style>\n",
       "<table border=\"1\" class=\"dataframe\">\n",
       "  <thead>\n",
       "    <tr style=\"text-align: right;\">\n",
       "      <th></th>\n",
       "      <th>age</th>\n",
       "    </tr>\n",
       "    <tr>\n",
       "      <th>cluster</th>\n",
       "      <th></th>\n",
       "    </tr>\n",
       "  </thead>\n",
       "  <tbody>\n",
       "    <tr>\n",
       "      <th>-1</th>\n",
       "      <td>17.745795</td>\n",
       "    </tr>\n",
       "    <tr>\n",
       "      <th>0</th>\n",
       "      <td>18.018013</td>\n",
       "    </tr>\n",
       "    <tr>\n",
       "      <th>1</th>\n",
       "      <td>16.840960</td>\n",
       "    </tr>\n",
       "    <tr>\n",
       "      <th>2</th>\n",
       "      <td>15.899667</td>\n",
       "    </tr>\n",
       "    <tr>\n",
       "      <th>3</th>\n",
       "      <td>16.454111</td>\n",
       "    </tr>\n",
       "    <tr>\n",
       "      <th>4</th>\n",
       "      <td>17.136200</td>\n",
       "    </tr>\n",
       "  </tbody>\n",
       "</table>\n",
       "</div>"
      ],
      "text/plain": [
       "               age\n",
       "cluster           \n",
       "-1       17.745795\n",
       " 0       18.018013\n",
       " 1       16.840960\n",
       " 2       15.899667\n",
       " 3       16.454111\n",
       " 4       17.136200"
      ]
     },
     "execution_count": 28,
     "metadata": {},
     "output_type": "execute_result"
    }
   ],
   "source": [
    "# 各群平均年齡(群組與摘要也！)\n",
    "teens.groupby('cluster').aggregate({'age': np.mean}) # 同儕間年齡差異不大！"
   ]
  },
  {
   "cell_type": "code",
   "execution_count": 29,
   "id": "2b8dc956",
   "metadata": {},
   "outputs": [
    {
     "data": {
      "text/plain": [
       "gender\n",
       "F      22054\n",
       "M       5222\n",
       "NaN     2724\n",
       "Name: count, dtype: int64"
      ]
     },
     "execution_count": 29,
     "metadata": {},
     "output_type": "execute_result"
    }
   ],
   "source": [
    "# 新增是否為女生欄位'female'\n",
    "teens.gender.value_counts()\n",
    "teens.gender.value_counts(dropna = False)"
   ]
  },
  {
   "cell_type": "code",
   "execution_count": 30,
   "id": "2a26bc91",
   "metadata": {},
   "outputs": [],
   "source": [
    "# Equivalent of R/ifelse in Python/Pandas? Compare string columns? (https://stackoverflow.com/questions/35666272/equivalent-of-r-ifelse-in-python-pandas-compare-string-columns#)\n",
    "def if_this_else_that(x, list_of_checks, yes_label, no_label):\n",
    "    if x in list_of_checks:\n",
    "        res = yes_label\n",
    "    else: \n",
    "        res = no_label\n",
    "    return(res)"
   ]
  },
  {
   "cell_type": "code",
   "execution_count": 31,
   "id": "34a44fd1",
   "metadata": {},
   "outputs": [],
   "source": [
    "teens['female'] = teens['gender'].apply(lambda x: if_this_else_that(x, ['F'], True, False))"
   ]
  },
  {
   "cell_type": "code",
   "execution_count": 32,
   "id": "1fd023dd",
   "metadata": {},
   "outputs": [
    {
     "data": {
      "text/html": [
       "<div>\n",
       "<style scoped>\n",
       "    .dataframe tbody tr th:only-of-type {\n",
       "        vertical-align: middle;\n",
       "    }\n",
       "\n",
       "    .dataframe tbody tr th {\n",
       "        vertical-align: top;\n",
       "    }\n",
       "\n",
       "    .dataframe thead th {\n",
       "        text-align: right;\n",
       "    }\n",
       "</style>\n",
       "<table border=\"1\" class=\"dataframe\">\n",
       "  <thead>\n",
       "    <tr style=\"text-align: right;\">\n",
       "      <th></th>\n",
       "      <th>gender</th>\n",
       "      <th>female</th>\n",
       "    </tr>\n",
       "  </thead>\n",
       "  <tbody>\n",
       "    <tr>\n",
       "      <th>0</th>\n",
       "      <td>M</td>\n",
       "      <td>False</td>\n",
       "    </tr>\n",
       "    <tr>\n",
       "      <th>1</th>\n",
       "      <td>F</td>\n",
       "      <td>True</td>\n",
       "    </tr>\n",
       "    <tr>\n",
       "      <th>2</th>\n",
       "      <td>M</td>\n",
       "      <td>False</td>\n",
       "    </tr>\n",
       "    <tr>\n",
       "      <th>3</th>\n",
       "      <td>F</td>\n",
       "      <td>True</td>\n",
       "    </tr>\n",
       "    <tr>\n",
       "      <th>4</th>\n",
       "      <td>NaN</td>\n",
       "      <td>False</td>\n",
       "    </tr>\n",
       "    <tr>\n",
       "      <th>5</th>\n",
       "      <td>F</td>\n",
       "      <td>True</td>\n",
       "    </tr>\n",
       "    <tr>\n",
       "      <th>6</th>\n",
       "      <td>F</td>\n",
       "      <td>True</td>\n",
       "    </tr>\n",
       "    <tr>\n",
       "      <th>7</th>\n",
       "      <td>M</td>\n",
       "      <td>False</td>\n",
       "    </tr>\n",
       "    <tr>\n",
       "      <th>8</th>\n",
       "      <td>F</td>\n",
       "      <td>True</td>\n",
       "    </tr>\n",
       "    <tr>\n",
       "      <th>9</th>\n",
       "      <td>F</td>\n",
       "      <td>True</td>\n",
       "    </tr>\n",
       "    <tr>\n",
       "      <th>10</th>\n",
       "      <td>F</td>\n",
       "      <td>True</td>\n",
       "    </tr>\n",
       "    <tr>\n",
       "      <th>11</th>\n",
       "      <td>F</td>\n",
       "      <td>True</td>\n",
       "    </tr>\n",
       "    <tr>\n",
       "      <th>12</th>\n",
       "      <td>F</td>\n",
       "      <td>True</td>\n",
       "    </tr>\n",
       "    <tr>\n",
       "      <th>13</th>\n",
       "      <td>NaN</td>\n",
       "      <td>False</td>\n",
       "    </tr>\n",
       "    <tr>\n",
       "      <th>14</th>\n",
       "      <td>F</td>\n",
       "      <td>True</td>\n",
       "    </tr>\n",
       "    <tr>\n",
       "      <th>15</th>\n",
       "      <td>NaN</td>\n",
       "      <td>False</td>\n",
       "    </tr>\n",
       "    <tr>\n",
       "      <th>16</th>\n",
       "      <td>NaN</td>\n",
       "      <td>False</td>\n",
       "    </tr>\n",
       "    <tr>\n",
       "      <th>17</th>\n",
       "      <td>F</td>\n",
       "      <td>True</td>\n",
       "    </tr>\n",
       "    <tr>\n",
       "      <th>18</th>\n",
       "      <td>F</td>\n",
       "      <td>True</td>\n",
       "    </tr>\n",
       "    <tr>\n",
       "      <th>19</th>\n",
       "      <td>F</td>\n",
       "      <td>True</td>\n",
       "    </tr>\n",
       "  </tbody>\n",
       "</table>\n",
       "</div>"
      ],
      "text/plain": [
       "   gender  female\n",
       "0       M   False\n",
       "1       F    True\n",
       "2       M   False\n",
       "3       F    True\n",
       "4     NaN   False\n",
       "5       F    True\n",
       "6       F    True\n",
       "7       M   False\n",
       "8       F    True\n",
       "9       F    True\n",
       "10      F    True\n",
       "11      F    True\n",
       "12      F    True\n",
       "13    NaN   False\n",
       "14      F    True\n",
       "15    NaN   False\n",
       "16    NaN   False\n",
       "17      F    True\n",
       "18      F    True\n",
       "19      F    True"
      ]
     },
     "execution_count": 32,
     "metadata": {},
     "output_type": "execute_result"
    }
   ],
   "source": [
    "teens[['gender', 'female']].head(n=20)"
   ]
  },
  {
   "cell_type": "code",
   "execution_count": 33,
   "id": "b077d408",
   "metadata": {},
   "outputs": [
    {
     "data": {
      "text/plain": [
       "22054"
      ]
     },
     "execution_count": 33,
     "metadata": {},
     "output_type": "execute_result"
    }
   ],
   "source": [
    "teens.female.sum() # 22054"
   ]
  },
  {
   "cell_type": "code",
   "execution_count": 34,
   "id": "3b967c49",
   "metadata": {},
   "outputs": [
    {
     "data": {
      "text/html": [
       "<div>\n",
       "<style scoped>\n",
       "    .dataframe tbody tr th:only-of-type {\n",
       "        vertical-align: middle;\n",
       "    }\n",
       "\n",
       "    .dataframe tbody tr th {\n",
       "        vertical-align: top;\n",
       "    }\n",
       "\n",
       "    .dataframe thead th {\n",
       "        text-align: right;\n",
       "    }\n",
       "</style>\n",
       "<table border=\"1\" class=\"dataframe\">\n",
       "  <thead>\n",
       "    <tr style=\"text-align: right;\">\n",
       "      <th></th>\n",
       "      <th>female</th>\n",
       "    </tr>\n",
       "    <tr>\n",
       "      <th>cluster</th>\n",
       "      <th></th>\n",
       "    </tr>\n",
       "  </thead>\n",
       "  <tbody>\n",
       "    <tr>\n",
       "      <th>-1</th>\n",
       "      <td>0.838655</td>\n",
       "    </tr>\n",
       "    <tr>\n",
       "      <th>0</th>\n",
       "      <td>0.726179</td>\n",
       "    </tr>\n",
       "    <tr>\n",
       "      <th>1</th>\n",
       "      <td>0.833333</td>\n",
       "    </tr>\n",
       "    <tr>\n",
       "      <th>2</th>\n",
       "      <td>1.000000</td>\n",
       "    </tr>\n",
       "    <tr>\n",
       "      <th>3</th>\n",
       "      <td>0.666667</td>\n",
       "    </tr>\n",
       "    <tr>\n",
       "      <th>4</th>\n",
       "      <td>0.833333</td>\n",
       "    </tr>\n",
       "  </tbody>\n",
       "</table>\n",
       "</div>"
      ],
      "text/plain": [
       "           female\n",
       "cluster          \n",
       "-1       0.838655\n",
       " 0       0.726179\n",
       " 1       0.833333\n",
       " 2       1.000000\n",
       " 3       0.666667\n",
       " 4       0.833333"
      ]
     },
     "execution_count": 34,
     "metadata": {},
     "output_type": "execute_result"
    }
   ],
   "source": [
    "# 各群女生人數比例(群組與摘要也！)\n",
    "teens.groupby('cluster').aggregate({'female': np.mean})"
   ]
  },
  {
   "cell_type": "code",
   "execution_count": 35,
   "id": "4aaa1843",
   "metadata": {},
   "outputs": [
    {
     "data": {
      "text/html": [
       "<div>\n",
       "<style scoped>\n",
       "    .dataframe tbody tr th:only-of-type {\n",
       "        vertical-align: middle;\n",
       "    }\n",
       "\n",
       "    .dataframe tbody tr th {\n",
       "        vertical-align: top;\n",
       "    }\n",
       "\n",
       "    .dataframe thead th {\n",
       "        text-align: right;\n",
       "    }\n",
       "</style>\n",
       "<table border=\"1\" class=\"dataframe\">\n",
       "  <thead>\n",
       "    <tr style=\"text-align: right;\">\n",
       "      <th></th>\n",
       "      <th>friends</th>\n",
       "    </tr>\n",
       "    <tr>\n",
       "      <th>cluster</th>\n",
       "      <th></th>\n",
       "    </tr>\n",
       "  </thead>\n",
       "  <tbody>\n",
       "    <tr>\n",
       "      <th>-1</th>\n",
       "      <td>38.544913</td>\n",
       "    </tr>\n",
       "    <tr>\n",
       "      <th>0</th>\n",
       "      <td>29.461996</td>\n",
       "    </tr>\n",
       "    <tr>\n",
       "      <th>1</th>\n",
       "      <td>37.600000</td>\n",
       "    </tr>\n",
       "    <tr>\n",
       "      <th>2</th>\n",
       "      <td>28.750000</td>\n",
       "    </tr>\n",
       "    <tr>\n",
       "      <th>3</th>\n",
       "      <td>32.444444</td>\n",
       "    </tr>\n",
       "    <tr>\n",
       "      <th>4</th>\n",
       "      <td>16.166667</td>\n",
       "    </tr>\n",
       "  </tbody>\n",
       "</table>\n",
       "</div>"
      ],
      "text/plain": [
       "           friends\n",
       "cluster           \n",
       "-1       38.544913\n",
       " 0       29.461996\n",
       " 1       37.600000\n",
       " 2       28.750000\n",
       " 3       32.444444\n",
       " 4       16.166667"
      ]
     },
     "execution_count": 35,
     "metadata": {},
     "output_type": "execute_result"
    }
   ],
   "source": [
    "# 各群朋友數(群組與摘要也！)\n",
    "teens.groupby('cluster').aggregate({'friends': np.mean})"
   ]
  },
  {
   "cell_type": "code",
   "execution_count": null,
   "id": "454be348",
   "metadata": {},
   "outputs": [],
   "source": []
  }
 ],
 "metadata": {
  "kernelspec": {
   "display_name": "Python 3 (ipykernel)",
   "language": "python",
   "name": "python3"
  },
  "language_info": {
   "codemirror_mode": {
    "name": "ipython",
    "version": 3
   },
   "file_extension": ".py",
   "mimetype": "text/x-python",
   "name": "python",
   "nbconvert_exporter": "python",
   "pygments_lexer": "ipython3",
   "version": "3.10.13"
  }
 },
 "nbformat": 4,
 "nbformat_minor": 5
}
