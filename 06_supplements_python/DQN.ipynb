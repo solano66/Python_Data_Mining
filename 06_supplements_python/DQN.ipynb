{
 "cells": [
  {
   "cell_type": "markdown",
   "metadata": {},
   "source": [
    "# Deep Q-learning with Experience Replay & Target Network\n",
    "### Deep Reinforcement Learning *in Action*"
   ]
  },
  {
   "cell_type": "markdown",
   "metadata": {},
   "source": [
    "##### Listing 3.1 Creating a Gridworld game"
   ]
  },
  {
   "cell_type": "code",
   "execution_count": 1,
   "metadata": {},
   "outputs": [],
   "source": [
    "from Gridworld import Gridworld\n",
    "game = Gridworld(size=4, mode='static')"
   ]
  },
  {
   "cell_type": "code",
   "execution_count": 2,
   "metadata": {},
   "outputs": [
    {
     "data": {
      "text/plain": [
       "array([['+', '-', ' ', 'P'],\n",
       "       [' ', 'W', ' ', ' '],\n",
       "       [' ', ' ', ' ', ' '],\n",
       "       [' ', ' ', ' ', ' ']], dtype='<U2')"
      ]
     },
     "execution_count": 2,
     "metadata": {},
     "output_type": "execute_result"
    }
   ],
   "source": [
    "game.display() # Initial state, P: Player, +: goal, -: pit, and W: wall"
   ]
  },
  {
   "cell_type": "code",
   "execution_count": 3,
   "metadata": {},
   "outputs": [
    {
     "data": {
      "text/plain": [
       "array([['+', '-', ' ', ' '],\n",
       "       [' ', 'W', ' ', 'P'],\n",
       "       [' ', ' ', ' ', ' '],\n",
       "       [' ', ' ', ' ', ' ']], dtype='<U2')"
      ]
     },
     "execution_count": 3,
     "metadata": {},
     "output_type": "execute_result"
    }
   ],
   "source": [
    "game.makeMove('d') # Down\n",
    "game.display()"
   ]
  },
  {
   "cell_type": "code",
   "execution_count": 4,
   "metadata": {},
   "outputs": [
    {
     "data": {
      "text/plain": [
       "array([['+', '-', ' ', ' '],\n",
       "       [' ', 'W', ' ', ' '],\n",
       "       [' ', ' ', ' ', ' '],\n",
       "       [' ', ' ', 'P', ' ']], dtype='<U2')"
      ]
     },
     "execution_count": 4,
     "metadata": {},
     "output_type": "execute_result"
    }
   ],
   "source": [
    "game.makeMove('d') # Down\n",
    "game.makeMove('d') # Down\n",
    "game.makeMove('l') # Left\n",
    "game.display() # Final state after three moves"
   ]
  },
  {
   "cell_type": "code",
   "execution_count": 5,
   "metadata": {},
   "outputs": [
    {
     "data": {
      "text/plain": [
       "-1"
      ]
     },
     "execution_count": 5,
     "metadata": {},
     "output_type": "execute_result"
    }
   ],
   "source": [
    "game.reward() # Reward of the last move, not cumulative returns !"
   ]
  },
  {
   "cell_type": "code",
   "execution_count": 6,
   "metadata": {},
   "outputs": [
    {
     "data": {
      "text/plain": [
       "array([[[0, 0, 0, 0],\n",
       "        [0, 0, 0, 0],\n",
       "        [0, 0, 0, 0],\n",
       "        [0, 0, 1, 0]],\n",
       "\n",
       "       [[1, 0, 0, 0],\n",
       "        [0, 0, 0, 0],\n",
       "        [0, 0, 0, 0],\n",
       "        [0, 0, 0, 0]],\n",
       "\n",
       "       [[0, 1, 0, 0],\n",
       "        [0, 0, 0, 0],\n",
       "        [0, 0, 0, 0],\n",
       "        [0, 0, 0, 0]],\n",
       "\n",
       "       [[0, 0, 0, 0],\n",
       "        [0, 1, 0, 0],\n",
       "        [0, 0, 0, 0],\n",
       "        [0, 0, 0, 0]]], dtype=uint8)"
      ]
     },
     "execution_count": 6,
     "metadata": {},
     "output_type": "execute_result"
    }
   ],
   "source": [
    "game.board.render_np() # P: Player, +: goal, -: pit, and W: wall (game.board returns <GridBoard.GridBoard at 0x7fa910e63760>)"
   ]
  },
  {
   "cell_type": "markdown",
   "metadata": {},
   "source": [
    "So the state is encoded as a 4 x 4 x 4 tensor with 64 **binary** elements later."
   ]
  },
  {
   "cell_type": "markdown",
   "metadata": {},
   "source": [
    "##### Listing 3.2 Neural network Q function"
   ]
  },
  {
   "cell_type": "code",
   "execution_count": 7,
   "metadata": {},
   "outputs": [
    {
     "name": "stdout",
     "output_type": "stream",
     "text": [
      "[Parameter containing:\n",
      "tensor([[-0.0144,  0.1173, -0.0384,  ..., -0.0874,  0.0897, -0.0252],\n",
      "        [-0.1097, -0.0604, -0.0634,  ..., -0.1200, -0.0458,  0.1247],\n",
      "        [-0.0520, -0.0114,  0.0559,  ..., -0.0396, -0.1033, -0.0117],\n",
      "        ...,\n",
      "        [ 0.0400,  0.0317, -0.1155,  ..., -0.0093,  0.0701,  0.0046],\n",
      "        [-0.0545, -0.0518, -0.1072,  ...,  0.1217,  0.0874, -0.0085],\n",
      "        [-0.1110, -0.0955,  0.0584,  ...,  0.0248, -0.0310,  0.0478]],\n",
      "       requires_grad=True), Parameter containing:\n",
      "tensor([-0.0462, -0.0267,  0.1178, -0.0555, -0.0967, -0.0268,  0.0817,  0.0044,\n",
      "        -0.0459,  0.0627, -0.0265,  0.0277,  0.0516, -0.0468, -0.0679, -0.0899,\n",
      "        -0.0416, -0.1231, -0.0165,  0.0712, -0.0095, -0.0418,  0.0654,  0.0714,\n",
      "         0.0435,  0.0560, -0.0742, -0.0294,  0.0755,  0.0947,  0.0343, -0.1019,\n",
      "         0.1149,  0.0398, -0.1202,  0.0069,  0.0454,  0.0101,  0.0499,  0.1235,\n",
      "        -0.0095,  0.1006, -0.0942,  0.1148, -0.0317,  0.0964, -0.0979, -0.0024,\n",
      "         0.0994,  0.0455, -0.0711,  0.0783, -0.0432,  0.0151, -0.0658, -0.0393,\n",
      "         0.0640,  0.1017,  0.1224, -0.1059, -0.1075, -0.1034, -0.0315, -0.1102,\n",
      "        -0.0465,  0.0977, -0.0654,  0.0833, -0.0308,  0.0762, -0.0324, -0.0204,\n",
      "        -0.0766, -0.0829, -0.0064, -0.0579, -0.0874, -0.0358, -0.0363,  0.0554,\n",
      "        -0.0664, -0.0067, -0.1225, -0.0689, -0.0204, -0.1218,  0.0637, -0.0534,\n",
      "         0.0606, -0.0353,  0.0035,  0.0589, -0.0855,  0.0801,  0.1079, -0.0252,\n",
      "        -0.1063,  0.1101,  0.0809, -0.1058,  0.1241, -0.1214,  0.1227,  0.0839,\n",
      "         0.0328,  0.0829, -0.0165,  0.1087, -0.0519,  0.0671, -0.0540,  0.1004,\n",
      "         0.0269,  0.0513, -0.0657, -0.1009, -0.0692, -0.0961, -0.0030, -0.0170,\n",
      "        -0.0721,  0.0694,  0.0433,  0.0260,  0.0933, -0.1222,  0.1102, -0.1223,\n",
      "        -0.1029,  0.1148,  0.0646,  0.0190,  0.0128, -0.0088,  0.0729,  0.0637,\n",
      "        -0.0012, -0.0911,  0.1145, -0.0830, -0.0675, -0.0139,  0.1106,  0.0635,\n",
      "         0.0124,  0.0727, -0.0365, -0.0876,  0.0898, -0.0873],\n",
      "       requires_grad=True), Parameter containing:\n",
      "tensor([[-0.0127,  0.0258,  0.0308,  ...,  0.0623, -0.0582, -0.0547],\n",
      "        [-0.0108,  0.0021, -0.0811,  ...,  0.0522, -0.0347, -0.0416],\n",
      "        [ 0.0235,  0.0400, -0.0200,  ...,  0.0221,  0.0325,  0.0179],\n",
      "        ...,\n",
      "        [-0.0329, -0.0523,  0.0453,  ...,  0.0551, -0.0651,  0.0122],\n",
      "        [-0.0770, -0.0342, -0.0132,  ...,  0.0134,  0.0319, -0.0041],\n",
      "        [-0.0116, -0.0394,  0.0484,  ..., -0.0774,  0.0412,  0.0345]],\n",
      "       requires_grad=True), Parameter containing:\n",
      "tensor([-0.0587, -0.0664,  0.0533,  0.0072, -0.0796, -0.0131, -0.0029, -0.0389,\n",
      "         0.0574, -0.0605, -0.0593,  0.0261,  0.0599, -0.0288,  0.0066,  0.0569,\n",
      "        -0.0705,  0.0111,  0.0226,  0.0586,  0.0220,  0.0706,  0.0775, -0.0241,\n",
      "         0.0482,  0.0573,  0.0526, -0.0556, -0.0701, -0.0090,  0.0038, -0.0090,\n",
      "        -0.0742,  0.0091, -0.0619, -0.0707,  0.0316, -0.0731,  0.0097,  0.0232,\n",
      "         0.0018,  0.0400, -0.0780,  0.0208, -0.0065,  0.0288, -0.0513, -0.0296,\n",
      "         0.0479,  0.0365, -0.0804, -0.0381,  0.0060, -0.0422, -0.0807,  0.0358,\n",
      "        -0.0786, -0.0746,  0.0460, -0.0722, -0.0042, -0.0011,  0.0719,  0.0282,\n",
      "         0.0390,  0.0589,  0.0435,  0.0313, -0.0625,  0.0596,  0.0500, -0.0003,\n",
      "         0.0034, -0.0042,  0.0555,  0.0770,  0.0796,  0.0322, -0.0786,  0.0532,\n",
      "        -0.0350, -0.0718,  0.0731, -0.0314,  0.0156, -0.0510, -0.0064,  0.0260,\n",
      "        -0.0198,  0.0463, -0.0513,  0.0506, -0.0523, -0.0030,  0.0076, -0.0213,\n",
      "        -0.0002,  0.0649,  0.0581,  0.0778], requires_grad=True), Parameter containing:\n",
      "tensor([[ 0.0293, -0.0431, -0.0790,  0.0657, -0.0959, -0.0087, -0.0691, -0.0988,\n",
      "          0.0057, -0.0812, -0.0439, -0.0757,  0.0529, -0.0367,  0.0686,  0.0753,\n",
      "          0.0528, -0.0734,  0.0445,  0.0048, -0.0457,  0.0788,  0.0954,  0.0197,\n",
      "         -0.0197, -0.0874,  0.0978, -0.0220,  0.0419, -0.0367, -0.0455, -0.0279,\n",
      "          0.0810,  0.0639, -0.0091,  0.0231,  0.0165, -0.0440,  0.0379,  0.0359,\n",
      "          0.0703,  0.0214,  0.0862, -0.0486,  0.0977, -0.0586, -0.0747,  0.0278,\n",
      "          0.0103, -0.0202, -0.0779,  0.0931, -0.0711,  0.0364, -0.0496,  0.0802,\n",
      "         -0.0798,  0.0617,  0.0266, -0.0812, -0.0185,  0.0945,  0.0438,  0.0287,\n",
      "          0.0075, -0.0168,  0.0808, -0.0569,  0.0364, -0.0523, -0.0634, -0.0219,\n",
      "         -0.0012, -0.0429,  0.0417, -0.0408, -0.0602,  0.0896,  0.0109, -0.0737,\n",
      "         -0.0169,  0.0612, -0.0353,  0.0381,  0.0063, -0.0326,  0.0340, -0.0301,\n",
      "         -0.0449,  0.0256,  0.0044,  0.0670, -0.0631, -0.0302, -0.0934,  0.0490,\n",
      "          0.0938, -0.0916, -0.0186, -0.0589],\n",
      "        [ 0.0515,  0.0379, -0.0929, -0.0874,  0.0547,  0.0625,  0.0507,  0.0333,\n",
      "         -0.0821,  0.0209, -0.0921, -0.0596, -0.0924,  0.0828, -0.0001,  0.0684,\n",
      "         -0.0989, -0.0736,  0.0922, -0.0315,  0.0101,  0.0732, -0.0848, -0.0169,\n",
      "         -0.0094,  0.0750, -0.0012, -0.0570, -0.0489, -0.0014, -0.0836, -0.0232,\n",
      "         -0.0137, -0.0122,  0.0467,  0.0375,  0.0633, -0.0718,  0.0600, -0.0203,\n",
      "          0.0201,  0.0133, -0.0183,  0.0400,  0.0226,  0.0610, -0.0553,  0.0457,\n",
      "          0.0558, -0.0848,  0.0210,  0.0195,  0.0895, -0.0812, -0.0067, -0.0395,\n",
      "          0.0064, -0.0661,  0.0296, -0.0368, -0.0337, -0.0574, -0.0934, -0.0624,\n",
      "          0.0182,  0.0652, -0.0586, -0.0267, -0.0472, -0.0270,  0.0081, -0.0484,\n",
      "         -0.0560,  0.0434,  0.0053,  0.0477, -0.0789, -0.0537, -0.0069,  0.0227,\n",
      "          0.0362,  0.0178, -0.0515,  0.0012,  0.0856,  0.0011, -0.0371, -0.0462,\n",
      "         -0.0754, -0.0781,  0.0163,  0.0874, -0.0245,  0.0172,  0.0406, -0.0145,\n",
      "          0.0403,  0.0875, -0.0022, -0.0236],\n",
      "        [ 0.0638,  0.0004, -0.0311,  0.0242,  0.0149, -0.0921,  0.0324,  0.0993,\n",
      "         -0.0602, -0.0355,  0.0647, -0.0612,  0.0358,  0.0838, -0.0113,  0.0822,\n",
      "          0.0706,  0.0563, -0.0460, -0.0820, -0.0481, -0.0626,  0.0238, -0.0908,\n",
      "          0.0079, -0.0547, -0.0789,  0.0152, -0.0893,  0.0865, -0.0906,  0.0644,\n",
      "          0.0977,  0.0963,  0.0664,  0.0468,  0.0370,  0.0102,  0.0184,  0.0597,\n",
      "          0.0465,  0.0350, -0.0425, -0.0662, -0.0634, -0.0083,  0.0641, -0.0942,\n",
      "          0.0622, -0.0264, -0.0848,  0.0358,  0.0497, -0.0821,  0.0476,  0.0742,\n",
      "          0.0444, -0.0365,  0.0852,  0.0101, -0.0566, -0.0241,  0.0055, -0.0138,\n",
      "          0.0160, -0.0672,  0.0154, -0.0399, -0.0011,  0.0319,  0.0504,  0.0374,\n",
      "         -0.0716, -0.0761, -0.0778, -0.0620,  0.0661, -0.0606,  0.0926,  0.0903,\n",
      "         -0.0903,  0.0737,  0.0236,  0.0713,  0.0968, -0.0124, -0.0090, -0.0895,\n",
      "          0.0229,  0.0898, -0.0537,  0.0498,  0.0134, -0.0107,  0.0796,  0.0272,\n",
      "         -0.0853, -0.0796,  0.0222, -0.0592],\n",
      "        [-0.0466, -0.0088, -0.0352, -0.0506,  0.0907, -0.0301, -0.0077,  0.0197,\n",
      "          0.0077,  0.0951, -0.0115, -0.0862,  0.0531,  0.0551, -0.0165,  0.0490,\n",
      "         -0.0673,  0.0055,  0.0326, -0.0271,  0.0485,  0.0728,  0.0457,  0.0137,\n",
      "          0.0364, -0.0433,  0.0494,  0.0824, -0.0645,  0.0712, -0.0015, -0.0662,\n",
      "          0.0019, -0.0496,  0.0128,  0.0778, -0.0966,  0.0562,  0.0885,  0.0041,\n",
      "         -0.0040, -0.0980,  0.0371,  0.0799, -0.0335,  0.0037,  0.0681, -0.0216,\n",
      "         -0.0737, -0.0363,  0.0044,  0.0007, -0.0677,  0.0905,  0.0177,  0.0296,\n",
      "          0.0666, -0.0161, -0.0110,  0.0285, -0.0787, -0.0636, -0.0133,  0.0297,\n",
      "         -0.0842,  0.0349, -0.0324,  0.0089, -0.0278,  0.0710,  0.0371, -0.0344,\n",
      "          0.0594, -0.0798,  0.0835,  0.0011,  0.0996, -0.0330,  0.0851,  0.0203,\n",
      "          0.0758,  0.0066,  0.0974, -0.0723, -0.0811,  0.0540,  0.0790, -0.0274,\n",
      "         -0.0338,  0.0349, -0.0485,  0.0052,  0.0643,  0.0056, -0.0011,  0.0416,\n",
      "          0.0700, -0.0136,  0.0465,  0.0825]], requires_grad=True), Parameter containing:\n",
      "tensor([-0.0922,  0.0987, -0.0660,  0.0957], requires_grad=True)]\n"
     ]
    }
   ],
   "source": [
    "import numpy as np\n",
    "import torch # conda install -c pytorch pytorch --y; pip install torch torchvision torchaudio\n",
    "# from Gridworld import Gridworld\n",
    "# from Gridworld import Gridworld\n",
    "from IPython.display import clear_output\n",
    "import random\n",
    "from matplotlib import pylab as plt\n",
    "\n",
    "l1 = 64 # number of neurons of first/input layer (can we change this? no.)\n",
    "l2 = 150\n",
    "l3 = 100\n",
    "l4 = 4 # number of neurons of last/output layer (can we change this? no.)\n",
    "\n",
    "model = torch.nn.Sequential(\n",
    "    torch.nn.Linear(l1, l2), # Linear() is similar to Dense() in TensorFlow/Keras\n",
    "    torch.nn.ReLU(),\n",
    "    torch.nn.Linear(l2, l3),\n",
    "    torch.nn.ReLU(),\n",
    "    torch.nn.Linear(l3,l4)\n",
    ")\n",
    "loss_fn = torch.nn.MSELoss()\n",
    "learning_rate = 1e-3\n",
    "optimizer = torch.optim.Adam(model.parameters(), lr=learning_rate)\n",
    "\n",
    "gamma = 0.9 # discount factor\n",
    "epsilon = 1.0 # initial probability of epsilon-greedy policy\n",
    "learning_rate = 1e-3\n",
    "optimizer = torch.optim.Adam(model.parameters(), lr=learning_rate)\n",
    "print(list(model.parameters()))\n",
    "# gamma = 0.9\n",
    "# epsilon = 1.0"
   ]
  },
  {
   "cell_type": "markdown",
   "metadata": {},
   "source": [
    "##### Listing 3.3 Q-learning: Main training loop"
   ]
  },
  {
   "cell_type": "code",
   "execution_count": 8,
   "metadata": {},
   "outputs": [],
   "source": [
    "action_set = { # Actions are defined as a Python dict\n",
    "    0: 'u',\n",
    "    1: 'd',\n",
    "    2: 'l',\n",
    "    3: 'r',\n",
    "}"
   ]
  },
  {
   "cell_type": "code",
   "execution_count": 9,
   "metadata": {},
   "outputs": [
    {
     "data": {
      "text/plain": [
       "array([[0, 0, 0, 0, 0, 0, 0, 0, 0, 0, 0, 0, 0, 0, 1, 0, 1, 0, 0, 0, 0, 0,\n",
       "        0, 0, 0, 0, 0, 0, 0, 0, 0, 0, 0, 1, 0, 0, 0, 0, 0, 0, 0, 0, 0, 0,\n",
       "        0, 0, 0, 0, 0, 0, 0, 0, 0, 1, 0, 0, 0, 0, 0, 0, 0, 0, 0, 0]],\n",
       "      dtype=uint8)"
      ]
     },
     "execution_count": 9,
     "metadata": {},
     "output_type": "execute_result"
    }
   ],
   "source": [
    "state_ = game.board.render_np().reshape(1,64)\n",
    "state_"
   ]
  },
  {
   "cell_type": "code",
   "execution_count": 10,
   "metadata": {},
   "outputs": [
    {
     "data": {
      "text/plain": [
       "array([[0.0590166 , 0.04553698, 0.09871443, 0.05815886, 0.08886598,\n",
       "        0.08014663, 0.03276272, 0.07475603, 0.04614493, 0.01543842,\n",
       "        0.04203269, 0.09463135, 0.01200851, 0.02264867, 1.02744608,\n",
       "        0.04747698, 1.02595831, 0.08316596, 0.03310732, 0.02543412,\n",
       "        0.04110256, 0.07094245, 0.0301277 , 0.01924865, 0.02747886,\n",
       "        0.04837692, 0.01889665, 0.03147302, 0.09574263, 0.04811584,\n",
       "        0.01000398, 0.08623596, 0.02808369, 1.07370893, 0.04594605,\n",
       "        0.04112956, 0.0625919 , 0.09580226, 0.00420572, 0.05229918,\n",
       "        0.08669314, 0.05971006, 0.03935752, 0.05067393, 0.03894047,\n",
       "        0.02592717, 0.07982727, 0.07166601, 0.01228952, 0.05804874,\n",
       "        0.05859117, 0.05612746, 0.03471845, 1.03010055, 0.02041444,\n",
       "        0.04283683, 0.02931166, 0.01245444, 0.02782873, 0.07402798,\n",
       "        0.08224205, 0.03033345, 0.04101942, 0.04858191]])"
      ]
     },
     "execution_count": 10,
     "metadata": {},
     "output_type": "execute_result"
    }
   ],
   "source": [
    "state_ = game.board.render_np().reshape(1,64) + np.random.rand(1,64)/10.0\n",
    "state_"
   ]
  },
  {
   "cell_type": "code",
   "execution_count": 11,
   "metadata": {},
   "outputs": [
    {
     "name": "stdout",
     "output_type": "stream",
     "text": [
      "The action is 0.\n",
      "The new state is tensor([[1.0636, 0.0628, 0.0277, 0.0858, 0.0894, 0.0386, 0.0256, 0.0701, 0.0520,\n",
      "         0.0657, 0.0042, 0.0425, 0.0655, 0.0945, 0.0516, 0.0866, 1.0160, 0.0636,\n",
      "         0.0536, 0.0041, 0.0986, 0.0293, 0.0224, 0.0643, 0.0529, 0.0514, 0.0836,\n",
      "         0.0091, 0.0372, 0.0814, 0.0778, 0.0292, 0.0130, 1.0756, 0.0609, 0.0645,\n",
      "         0.0220, 0.0819, 0.0842, 0.0806, 0.0719, 0.0858, 0.0411, 0.0214, 0.0170,\n",
      "         0.0596, 0.0329, 0.0350, 0.0681, 0.0129, 0.0554, 0.0097, 0.0239, 1.0326,\n",
      "         0.0229, 0.0859, 0.0793, 0.0995, 0.0647, 0.0259, 0.0239, 0.0390, 0.0931,\n",
      "         0.0250]]).\n",
      "The loss of epoch 999 is 0.00037416620762087405\n"
     ]
    }
   ],
   "source": [
    "epochs = 1000\n",
    "losses = [] #A\n",
    "for i in range(epochs): #B: episodes\n",
    "    game = Gridworld(size=4, mode='static') #C: initialize the game\n",
    "    state_ = game.board.render_np().reshape(1,64) + np.random.rand(1,64)/10.0 #D: Why noises are added to state? Prevent dead neurons because the ReLU is not differentiable on zero and most of the elements in state are zeros. Also help with overfitting.\n",
    "    state1 = torch.from_numpy(state_).float() #E: from numpy to tensor in pytorch\n",
    "    status = 1 #F: Game is still in progress\n",
    "    while(status == 1): #G\n",
    "        qval = model(state1) #H: prediction, remember always input Tensor, not ndarray\n",
    "        qval_ = qval.data.numpy() # from tensor in pytorch to numpy\n",
    "        if (random.random() < epsilon): #I: epsilon-greedy policy, the epsilon will be decreased later\n",
    "            action_ = np.random.randint(0,4) # Exploration: randomly choose actions (at the beginning)\n",
    "        else:\n",
    "            action_ = np.argmax(qval_) # Exploitation: choose action by Q values (near the end of 1000 epoches or episodes)\n",
    "        print(\"The action is {}.\".format(action_))\n",
    "        action = action_set[action_] #J: from integer to string (actions)\n",
    "        game.makeMove(action) #K: just do it !\n",
    "        state2_ = game.board.render_np().reshape(1,64) + np.random.rand(1,64)/10.0\n",
    "        state2 = torch.from_numpy(state2_).float() #L\n",
    "        print(\"The new state is {}.\".format(state2))\n",
    "        reward = game.reward()\n",
    "        with torch.no_grad(): # No need to create the computational graph for state2, this will save memory\n",
    "            newQ = model(state2.reshape(1,64)) # Calculate new Q values of new state under each action\n",
    "        maxQ = torch.max(newQ) #M: Maximum action values of new state (the second term in TD target)\n",
    "        if reward == -1: #N: the episode is not over\n",
    "            Y = reward + (gamma * maxQ) # This is TD target\n",
    "        else:\n",
    "            Y = reward # the episode ends\n",
    "        Y = torch.Tensor([Y]).detach() # TD target (Why detach the Y node from the graph ? Because it is just used as data and not as a computational graph node.)\n",
    "        X = qval.squeeze()[action_] #O: Prediction\n",
    "        loss = loss_fn(X, Y) #P: TD error\n",
    "        print(\"The loss of epoch {0} is {1}\".format(i, loss.item())) # Print the intermediate training results\n",
    "        clear_output(wait=True)\n",
    "        optimizer.zero_grad() # Reset the gradient to be zero after one step forward\n",
    "        loss.backward() # Find the gradients\n",
    "        losses.append(loss.item())\n",
    "        optimizer.step() # Update model parameters\n",
    "        state1 = state2 # Set new state to be the old state\n",
    "        if reward != -1: #Q\n",
    "            status = 0 # Episode is over\n",
    "    if epsilon > 0.1: #R: lower limit of epsilon\n",
    "        epsilon -= (1/epochs) # Decreases the epsilon value per epoch (epsilon = epsilon - 1/epochs)\n"
   ]
  },
  {
   "cell_type": "code",
   "execution_count": 12,
   "metadata": {},
   "outputs": [
    {
     "data": {
      "text/plain": [
       "17071"
      ]
     },
     "execution_count": 12,
     "metadata": {},
     "output_type": "execute_result"
    }
   ],
   "source": [
    "len(losses) # Steps for all epochs"
   ]
  },
  {
   "cell_type": "code",
   "execution_count": 13,
   "metadata": {},
   "outputs": [
    {
     "data": {
      "text/plain": [
       "Text(0, 0.5, 'Loss')"
      ]
     },
     "execution_count": 13,
     "metadata": {},
     "output_type": "execute_result"
    },
    {
     "data": {
      "image/png": "[encoded data removed]",
      "text/plain": [
       "<Figure size 720x504 with 1 Axes>"
      ]
     },
     "metadata": {
      "needs_background": "light"
     },
     "output_type": "display_data"
    }
   ],
   "source": [
    "#### The loss plot for Q-learning algorithm\n",
    "plt.figure(figsize=(10,7))\n",
    "plt.plot(losses)\n",
    "plt.xlabel(\"Steps (for all epochs)\",fontsize=22)\n",
    "plt.ylabel(\"Loss\",fontsize=22)"
   ]
  },
  {
   "cell_type": "markdown",
   "metadata": {},
   "source": [
    "Very noisy at the begining of training !"
   ]
  },
  {
   "cell_type": "markdown",
   "metadata": {},
   "source": [
    "##### PyTorch Automatic Differentiation Review"
   ]
  },
  {
   "cell_type": "code",
   "execution_count": 14,
   "metadata": {},
   "outputs": [],
   "source": [
    "m = torch.Tensor([2.0])\n",
    "m.requires_grad=True\n",
    "b = torch.Tensor([1.0])\n",
    "b.requires_grad=True\n",
    "def linear_model(x,m,b):\n",
    "    y = m @ x + b\n",
    "    return y"
   ]
  },
  {
   "cell_type": "code",
   "execution_count": 15,
   "metadata": {},
   "outputs": [],
   "source": [
    "#with torch.no_grad():\n",
    "y = linear_model(torch.Tensor([4]),m,b)"
   ]
  },
  {
   "cell_type": "code",
   "execution_count": 16,
   "metadata": {},
   "outputs": [
    {
     "data": {
      "text/plain": [
       "tensor([9.], grad_fn=<AddBackward0>)"
      ]
     },
     "execution_count": 16,
     "metadata": {},
     "output_type": "execute_result"
    }
   ],
   "source": [
    "y"
   ]
  },
  {
   "cell_type": "code",
   "execution_count": 17,
   "metadata": {},
   "outputs": [
    {
     "data": {
      "text/plain": [
       "<AddBackward0 at 0x7f7b10980eb8>"
      ]
     },
     "execution_count": 17,
     "metadata": {},
     "output_type": "execute_result"
    }
   ],
   "source": [
    "y.grad_fn"
   ]
  },
  {
   "cell_type": "code",
   "execution_count": 18,
   "metadata": {},
   "outputs": [],
   "source": [
    "y.backward()"
   ]
  },
  {
   "cell_type": "code",
   "execution_count": 19,
   "metadata": {},
   "outputs": [
    {
     "data": {
      "text/plain": [
       "tensor([4.])"
      ]
     },
     "execution_count": 19,
     "metadata": {},
     "output_type": "execute_result"
    }
   ],
   "source": [
    "m.grad"
   ]
  },
  {
   "cell_type": "markdown",
   "metadata": {},
   "source": [
    "##### Listing 3.4 Testing the Q-network"
   ]
  },
  {
   "cell_type": "code",
   "execution_count": 20,
   "metadata": {},
   "outputs": [],
   "source": [
    "def test_model(model, mode='static', display=True):\n",
    "    i = 0\n",
    "    test_game = Gridworld(mode=mode)\n",
    "    state_ = test_game.board.render_np().reshape(1,64) + np.random.rand(1,64)/10.0\n",
    "    state = torch.from_numpy(state_).float()\n",
    "    if display:\n",
    "        print(\"Initial State:\")\n",
    "        print(test_game.display())\n",
    "    status = 1\n",
    "    while(status == 1): #A\n",
    "        qval = model(state)\n",
    "        qval_ = qval.data.numpy()\n",
    "        action_ = np.argmax(qval_) #B Takes the action with the highest Q value\n",
    "        action = action_set[action_]\n",
    "        if display:\n",
    "            print('Move #: %s; Taking action: %s' % (i, action))\n",
    "        test_game.makeMove(action)\n",
    "        state_ = test_game.board.render_np().reshape(1,64) + np.random.rand(1,64)/10.0\n",
    "        state = torch.from_numpy(state_).float()\n",
    "        if display:\n",
    "            print(test_game.display())\n",
    "        reward = test_game.reward()\n",
    "        if reward != -1:\n",
    "            if reward > 0:\n",
    "                status = 2\n",
    "                if display:\n",
    "                    print(\"Game won! Reward: %s\" % (reward,))\n",
    "            else:\n",
    "                status = 0\n",
    "                if display:\n",
    "                    print(\"Game LOST. Reward: %s\" % (reward,))\n",
    "        i += 1\n",
    "        if (i > 15):\n",
    "            if display:\n",
    "                print(\"Game lost; too many moves.\")\n",
    "            break\n",
    "    \n",
    "    win = True if status == 2 else False\n",
    "    return win"
   ]
  },
  {
   "cell_type": "code",
   "execution_count": 21,
   "metadata": {},
   "outputs": [
    {
     "name": "stdout",
     "output_type": "stream",
     "text": [
      "Initial State:\n",
      "[['+' '-' ' ' 'P']\n",
      " [' ' 'W' ' ' ' ']\n",
      " [' ' ' ' ' ' ' ']\n",
      " [' ' ' ' ' ' ' ']]\n",
      "Move #: 0; Taking action: d\n",
      "[['+' '-' ' ' ' ']\n",
      " [' ' 'W' ' ' 'P']\n",
      " [' ' ' ' ' ' ' ']\n",
      " [' ' ' ' ' ' ' ']]\n",
      "Move #: 1; Taking action: d\n",
      "[['+' '-' ' ' ' ']\n",
      " [' ' 'W' ' ' ' ']\n",
      " [' ' ' ' ' ' 'P']\n",
      " [' ' ' ' ' ' ' ']]\n",
      "Move #: 2; Taking action: l\n",
      "[['+' '-' ' ' ' ']\n",
      " [' ' 'W' ' ' ' ']\n",
      " [' ' ' ' 'P' ' ']\n",
      " [' ' ' ' ' ' ' ']]\n",
      "Move #: 3; Taking action: l\n",
      "[['+' '-' ' ' ' ']\n",
      " [' ' 'W' ' ' ' ']\n",
      " [' ' 'P' ' ' ' ']\n",
      " [' ' ' ' ' ' ' ']]\n",
      "Move #: 4; Taking action: l\n",
      "[['+' '-' ' ' ' ']\n",
      " [' ' 'W' ' ' ' ']\n",
      " ['P' ' ' ' ' ' ']\n",
      " [' ' ' ' ' ' ' ']]\n",
      "Move #: 5; Taking action: u\n",
      "[['+' '-' ' ' ' ']\n",
      " ['P' 'W' ' ' ' ']\n",
      " [' ' ' ' ' ' ' ']\n",
      " [' ' ' ' ' ' ' ']]\n",
      "Move #: 6; Taking action: u\n",
      "[['+' '-' ' ' ' ']\n",
      " [' ' 'W' ' ' ' ']\n",
      " [' ' ' ' ' ' ' ']\n",
      " [' ' ' ' ' ' ' ']]\n",
      "Game won! Reward: 10\n"
     ]
    },
    {
     "data": {
      "text/plain": [
       "True"
      ]
     },
     "execution_count": 21,
     "metadata": {},
     "output_type": "execute_result"
    }
   ],
   "source": [
    "test_model(model) # mode is defaulted as 'static'"
   ]
  },
  {
   "cell_type": "code",
   "execution_count": 22,
   "metadata": {},
   "outputs": [
    {
     "name": "stdout",
     "output_type": "stream",
     "text": [
      "Initial State:\n",
      "[[' ' ' ' ' ' ' ']\n",
      " [' ' ' ' 'P' ' ']\n",
      " ['W' ' ' ' ' ' ']\n",
      " ['-' ' ' '+' ' ']]\n",
      "Move #: 0; Taking action: d\n",
      "[[' ' ' ' ' ' ' ']\n",
      " [' ' ' ' ' ' ' ']\n",
      " ['W' ' ' 'P' ' ']\n",
      " ['-' ' ' '+' ' ']]\n",
      "Move #: 1; Taking action: l\n",
      "[[' ' ' ' ' ' ' ']\n",
      " [' ' ' ' ' ' ' ']\n",
      " ['W' 'P' ' ' ' ']\n",
      " ['-' ' ' '+' ' ']]\n",
      "Move #: 2; Taking action: l\n",
      "[[' ' ' ' ' ' ' ']\n",
      " [' ' ' ' ' ' ' ']\n",
      " ['W' 'P' ' ' ' ']\n",
      " ['-' ' ' '+' ' ']]\n",
      "Move #: 3; Taking action: l\n",
      "[[' ' ' ' ' ' ' ']\n",
      " [' ' ' ' ' ' ' ']\n",
      " ['W' 'P' ' ' ' ']\n",
      " ['-' ' ' '+' ' ']]\n",
      "Move #: 4; Taking action: l\n",
      "[[' ' ' ' ' ' ' ']\n",
      " [' ' ' ' ' ' ' ']\n",
      " ['W' 'P' ' ' ' ']\n",
      " ['-' ' ' '+' ' ']]\n",
      "Move #: 5; Taking action: l\n",
      "[[' ' ' ' ' ' ' ']\n",
      " [' ' ' ' ' ' ' ']\n",
      " ['W' 'P' ' ' ' ']\n",
      " ['-' ' ' '+' ' ']]\n",
      "Move #: 6; Taking action: l\n",
      "[[' ' ' ' ' ' ' ']\n",
      " [' ' ' ' ' ' ' ']\n",
      " ['W' 'P' ' ' ' ']\n",
      " ['-' ' ' '+' ' ']]\n",
      "Move #: 7; Taking action: l\n",
      "[[' ' ' ' ' ' ' ']\n",
      " [' ' ' ' ' ' ' ']\n",
      " ['W' 'P' ' ' ' ']\n",
      " ['-' ' ' '+' ' ']]\n",
      "Move #: 8; Taking action: l\n",
      "[[' ' ' ' ' ' ' ']\n",
      " [' ' ' ' ' ' ' ']\n",
      " ['W' 'P' ' ' ' ']\n",
      " ['-' ' ' '+' ' ']]\n",
      "Move #: 9; Taking action: l\n",
      "[[' ' ' ' ' ' ' ']\n",
      " [' ' ' ' ' ' ' ']\n",
      " ['W' 'P' ' ' ' ']\n",
      " ['-' ' ' '+' ' ']]\n",
      "Move #: 10; Taking action: l\n",
      "[[' ' ' ' ' ' ' ']\n",
      " [' ' ' ' ' ' ' ']\n",
      " ['W' 'P' ' ' ' ']\n",
      " ['-' ' ' '+' ' ']]\n",
      "Move #: 11; Taking action: l\n",
      "[[' ' ' ' ' ' ' ']\n",
      " [' ' ' ' ' ' ' ']\n",
      " ['W' 'P' ' ' ' ']\n",
      " ['-' ' ' '+' ' ']]\n",
      "Move #: 12; Taking action: l\n",
      "[[' ' ' ' ' ' ' ']\n",
      " [' ' ' ' ' ' ' ']\n",
      " ['W' 'P' ' ' ' ']\n",
      " ['-' ' ' '+' ' ']]\n",
      "Move #: 13; Taking action: l\n",
      "[[' ' ' ' ' ' ' ']\n",
      " [' ' ' ' ' ' ' ']\n",
      " ['W' 'P' ' ' ' ']\n",
      " ['-' ' ' '+' ' ']]\n",
      "Move #: 14; Taking action: l\n",
      "[[' ' ' ' ' ' ' ']\n",
      " [' ' ' ' ' ' ' ']\n",
      " ['W' 'P' ' ' ' ']\n",
      " ['-' ' ' '+' ' ']]\n",
      "Move #: 15; Taking action: l\n",
      "[[' ' ' ' ' ' ' ']\n",
      " [' ' ' ' ' ' ' ']\n",
      " ['W' 'P' ' ' ' ']\n",
      " ['-' ' ' '+' ' ']]\n",
      "Game lost; too many moves.\n"
     ]
    },
    {
     "data": {
      "text/plain": [
       "False"
      ]
     },
     "execution_count": 22,
     "metadata": {},
     "output_type": "execute_result"
    }
   ],
   "source": [
    "test_model(model, 'random') # Targets are not stationary."
   ]
  },
  {
   "cell_type": "markdown",
   "metadata": {},
   "source": [
    "##### Listing 3.5 DQN with experience replay"
   ]
  },
  {
   "cell_type": "code",
   "execution_count": 23,
   "metadata": {},
   "outputs": [],
   "source": [
    "l1 = 64\n",
    "l2 = 150\n",
    "l3 = 100\n",
    "l4 = 4\n",
    "\n",
    "model = torch.nn.Sequential(\n",
    "    torch.nn.Linear(l1, l2),\n",
    "    torch.nn.ReLU(),\n",
    "    torch.nn.Linear(l2, l3),\n",
    "    torch.nn.ReLU(),\n",
    "    torch.nn.Linear(l3,l4)\n",
    ")\n",
    "loss_fn = torch.nn.MSELoss()\n",
    "learning_rate = 1e-3\n",
    "optimizer = torch.optim.Adam(model.parameters(), lr=learning_rate)\n",
    "\n",
    "learning_rate = 1e-3\n",
    "optimizer = torch.optim.Adam(model.parameters(), lr=learning_rate)\n",
    "\n",
    "gamma = 0.9\n",
    "epsilon = 0.3"
   ]
  },
  {
   "cell_type": "code",
   "execution_count": 24,
   "metadata": {},
   "outputs": [
    {
     "name": "stdout",
     "output_type": "stream",
     "text": [
      "4999 0.24728672206401825\n"
     ]
    }
   ],
   "source": [
    "from collections import deque\n",
    "epochs = 5000\n",
    "losses = []\n",
    "mem_size = 1000 #A Set the total size of the experience replay memory\n",
    "batch_size = 200 #B\n",
    "replay = deque(maxlen=mem_size) #C\n",
    "max_moves = 50 #D Maximum number of moves before game is over\n",
    "h = 0\n",
    "for i in range(epochs):\n",
    "    game = Gridworld(size=4, mode='random')\n",
    "    state1_ = game.board.render_np().reshape(1,64) + np.random.rand(1,64)/100.0\n",
    "    state1 = torch.from_numpy(state1_).float()\n",
    "    status = 1\n",
    "    mov = 0\n",
    "    while(status == 1): \n",
    "        mov += 1\n",
    "        qval = model(state1) #E Compute Q-values from input state in order to select action\n",
    "        qval_ = qval.data.numpy()\n",
    "        if (random.random() < epsilon): #F Select action using epsilon-greedy strategy\n",
    "            action_ = np.random.randint(0,4)\n",
    "        else:\n",
    "            action_ = np.argmax(qval_)\n",
    "        \n",
    "        action = action_set[action_]\n",
    "        game.makeMove(action)\n",
    "        state2_ = game.board.render_np().reshape(1,64) + np.random.rand(1,64)/100.0\n",
    "        state2 = torch.from_numpy(state2_).float()\n",
    "        reward = game.reward()\n",
    "        done = True if reward > 0 else False\n",
    "        exp =  (state1, action_, reward, state2, done) #G Create experience of state, reward, action and next state as a tuple\n",
    "        replay.append(exp) #H\n",
    "        state1 = state2\n",
    "        \n",
    "        if len(replay) > batch_size: #I If replay list is at least as long as minibatch size, begin minibatch training\n",
    "            minibatch = random.sample(replay, batch_size) #J Randomly sample a subset of the replay list\n",
    "            state1_batch = torch.cat([s1 for (s1,a,r,s2,d) in minibatch]) #K Separate out the components of each experience into separate minibatch tensors\n",
    "            action_batch = torch.Tensor([a for (s1,a,r,s2,d) in minibatch])\n",
    "            reward_batch = torch.Tensor([r for (s1,a,r,s2,d) in minibatch])\n",
    "            state2_batch = torch.cat([s2 for (s1,a,r,s2,d) in minibatch])\n",
    "            done_batch = torch.Tensor([d for (s1,a,r,s2,d) in minibatch])\n",
    "            \n",
    "            Q1 = model(state1_batch) #L Re-compute Q-values for minibatch of states to get gradients\n",
    "            with torch.no_grad():\n",
    "                Q2 = model(state2_batch) #M Compute Q-values for minibatch of next states but don't compute gradients\n",
    "            \n",
    "            Y = reward_batch + gamma * ((1 - done_batch) * torch.max(Q2,dim=1)[0]) #N Compute the target Q-values (TD Target) we want the DQN to learn\n",
    "            X = Q1.gather(dim=1,index=action_batch.long().unsqueeze(dim=1)).squeeze()\n",
    "            loss = loss_fn(X, Y.detach())\n",
    "            print(i, loss.item())\n",
    "            clear_output(wait=True)\n",
    "            optimizer.zero_grad()\n",
    "            loss.backward()\n",
    "            losses.append(loss.item())\n",
    "            optimizer.step()\n",
    "\n",
    "        if reward != -1 or mov > max_moves: #O If game is over, reset status and mov number\n",
    "            status = 0\n",
    "            mov = 0\n",
    "losses = np.array(losses)\n",
    "\n",
    "#A Set the total size of the experience replay memory\n",
    "#B Set the minibatch size\n",
    "#C Create the memory replay as a deque list\n",
    "#D Maximum number of moves before game is over\n",
    "#E Compute Q-values from input state in order to select action\n",
    "#F Select action using epsilon-greedy strategy\n",
    "#G Create experience of state, reward, action and next state as a tuple\n",
    "#H Add experience to experience replay list\n",
    "#I If replay list is at least as long as minibatch size, begin minibatch training\n",
    "#J Randomly sample a subset of the replay list\n",
    "#K Separate out the components of each experience into separate minibatch tensors\n",
    "#L Re-compute Q-values for minibatch of states to get gradients\n",
    "#M Compute Q-values for minibatch of next states but don't compute gradients\n",
    "#N Compute the target Q-values (TD Target) we want the DQN to learn\n",
    "#O If game is over, reset status and mov number"
   ]
  },
  {
   "cell_type": "code",
   "execution_count": 25,
   "metadata": {},
   "outputs": [],
   "source": [
    "def running_mean(x,N=50):\n",
    "    c = x.shape[0] - N\n",
    "    y = np.zeros(c)\n",
    "    conv = np.ones(N)\n",
    "    for i in range(c):\n",
    "        y[i] = (x[i:i+N] @ conv)/N\n",
    "    return y"
   ]
  },
  {
   "cell_type": "code",
   "execution_count": 26,
   "metadata": {},
   "outputs": [
    {
     "data": {
      "text/plain": [
       "Text(0, 0.5, 'Loss')"
      ]
     },
     "execution_count": 26,
     "metadata": {},
     "output_type": "execute_result"
    },
    {
     "data": {
      "image/png": "[encoded data removed]",
      "text/plain": [
       "<Figure size 720x504 with 1 Axes>"
      ]
     },
     "metadata": {
      "needs_background": "light"
     },
     "output_type": "display_data"
    }
   ],
   "source": [
    "plt.figure(figsize=(10,7))\n",
    "plt.plot(losses)\n",
    "plt.xlabel(\"Epochs\",fontsize=22)\n",
    "plt.ylabel(\"Loss\",fontsize=22)"
   ]
  },
  {
   "cell_type": "markdown",
   "metadata": {},
   "source": [
    "Testing the performance with experience replay"
   ]
  },
  {
   "cell_type": "code",
   "execution_count": 27,
   "metadata": {},
   "outputs": [
    {
     "name": "stdout",
     "output_type": "stream",
     "text": [
      "Games played: 1000, # of wins: 903\n",
      "Win percentage: 90.3%\n"
     ]
    }
   ],
   "source": [
    "max_games = 1000\n",
    "wins = 0\n",
    "for i in range(max_games):\n",
    "    win = test_model(model, mode='random', display=False)\n",
    "    if win:\n",
    "        wins += 1\n",
    "win_perc = float(wins) / float(max_games)\n",
    "print(\"Games played: {0}, # of wins: {1}\".format(max_games,wins))\n",
    "print(\"Win percentage: {}%\".format(100.0*win_perc))"
   ]
  },
  {
   "cell_type": "code",
   "execution_count": 28,
   "metadata": {},
   "outputs": [
    {
     "name": "stdout",
     "output_type": "stream",
     "text": [
      "Initial State:\n",
      "[[' ' '+' ' ' ' ']\n",
      " [' ' '-' ' ' ' ']\n",
      " [' ' 'P' ' ' 'W']\n",
      " [' ' ' ' ' ' ' ']]\n",
      "Move #: 0; Taking action: l\n",
      "[[' ' '+' ' ' ' ']\n",
      " [' ' '-' ' ' ' ']\n",
      " ['P' ' ' ' ' 'W']\n",
      " [' ' ' ' ' ' ' ']]\n",
      "Move #: 1; Taking action: u\n",
      "[[' ' '+' ' ' ' ']\n",
      " ['P' '-' ' ' ' ']\n",
      " [' ' ' ' ' ' 'W']\n",
      " [' ' ' ' ' ' ' ']]\n",
      "Move #: 2; Taking action: u\n",
      "[['P' '+' ' ' ' ']\n",
      " [' ' '-' ' ' ' ']\n",
      " [' ' ' ' ' ' 'W']\n",
      " [' ' ' ' ' ' ' ']]\n",
      "Move #: 3; Taking action: r\n",
      "[[' ' '+' ' ' ' ']\n",
      " [' ' '-' ' ' ' ']\n",
      " [' ' ' ' ' ' 'W']\n",
      " [' ' ' ' ' ' ' ']]\n",
      "Game won! Reward: 10\n"
     ]
    },
    {
     "data": {
      "text/plain": [
       "True"
      ]
     },
     "execution_count": 28,
     "metadata": {},
     "output_type": "execute_result"
    }
   ],
   "source": [
    "test_model(model, mode='random')"
   ]
  },
  {
   "cell_type": "markdown",
   "metadata": {},
   "source": [
    "##### Listing 3.7 Target Network (Improving stability with a target network)"
   ]
  },
  {
   "cell_type": "code",
   "execution_count": 29,
   "metadata": {},
   "outputs": [],
   "source": [
    "import copy\n",
    "\n",
    "l1 = 64\n",
    "l2 = 150\n",
    "l3 = 100\n",
    "l4 = 4\n",
    "\n",
    "\n",
    "model = torch.nn.Sequential(\n",
    "    torch.nn.Linear(l1, l2),\n",
    "    torch.nn.ReLU(),\n",
    "    torch.nn.Linear(l2, l3),\n",
    "    torch.nn.ReLU(),\n",
    "    torch.nn.Linear(l3,l4)\n",
    ")\n",
    "\n",
    "model2 = copy.deepcopy(model) #A\n",
    "model2.load_state_dict(model.state_dict()) #B\n",
    "\n",
    "loss_fn = torch.nn.MSELoss()\n",
    "learning_rate = 1e-3\n",
    "optimizer = torch.optim.Adam(model.parameters(), lr=learning_rate)\n",
    "\n",
    "gamma = 0.9\n",
    "epsilon = 0.3"
   ]
  },
  {
   "cell_type": "code",
   "execution_count": 30,
   "metadata": {},
   "outputs": [
    {
     "name": "stdout",
     "output_type": "stream",
     "text": [
      "4999 0.17092835903167725\n"
     ]
    }
   ],
   "source": [
    "from collections import deque\n",
    "epochs = 5000\n",
    "losses = []\n",
    "mem_size = 1000\n",
    "batch_size = 200\n",
    "replay = deque(maxlen=mem_size)\n",
    "max_moves = 50\n",
    "h = 0\n",
    "sync_freq = 500 # A: Sets the update frequency for synchronizing the target model parameters to the main DQN\n",
    "j=0\n",
    "for i in range(epochs):\n",
    "    game = Gridworld(size=4, mode='random')\n",
    "    state1_ = game.board.render_np().reshape(1,64) + np.random.rand(1,64)/100.0\n",
    "    state1 = torch.from_numpy(state1_).float()\n",
    "    status = 1\n",
    "    mov = 0\n",
    "    while(status == 1): \n",
    "        j+=1\n",
    "        mov += 1\n",
    "        qval = model(state1)\n",
    "        qval_ = qval.data.numpy()\n",
    "        if (random.random() < epsilon):\n",
    "            action_ = np.random.randint(0,4)\n",
    "        else:\n",
    "            action_ = np.argmax(qval_)\n",
    "        \n",
    "        action = action_set[action_]\n",
    "        game.makeMove(action)\n",
    "        state2_ = game.board.render_np().reshape(1,64) + np.random.rand(1,64)/100.0\n",
    "        state2 = torch.from_numpy(state2_).float()\n",
    "        reward = game.reward()\n",
    "        done = True if reward > 0 else False\n",
    "        exp =  (state1, action_, reward, state2, done)\n",
    "        replay.append(exp) #H\n",
    "        state1 = state2\n",
    "        \n",
    "        if len(replay) > batch_size:\n",
    "            minibatch = random.sample(replay, batch_size)\n",
    "            state1_batch = torch.cat([s1 for (s1,a,r,s2,d) in minibatch])\n",
    "            action_batch = torch.Tensor([a for (s1,a,r,s2,d) in minibatch])\n",
    "            reward_batch = torch.Tensor([r for (s1,a,r,s2,d) in minibatch])\n",
    "            state2_batch = torch.cat([s2 for (s1,a,r,s2,d) in minibatch])\n",
    "            done_batch = torch.Tensor([d for (s1,a,r,s2,d) in minibatch])\n",
    "            Q1 = model(state1_batch) \n",
    "            with torch.no_grad():\n",
    "                Q2 = model2(state2_batch) #B Use the target network to get the maiximum Q-value for the next state\n",
    "            \n",
    "            Y = reward_batch + gamma * ((1-done_batch) * torch.max(Q2,dim=1)[0])\n",
    "            X = Q1.gather(dim=1,index=action_batch.long().unsqueeze(dim=1)).squeeze()\n",
    "            loss = loss_fn(X, Y.detach())\n",
    "            print(i, loss.item())\n",
    "            clear_output(wait=True)\n",
    "            optimizer.zero_grad()\n",
    "            loss.backward()\n",
    "            losses.append(loss.item())\n",
    "            optimizer.step()\n",
    "            \n",
    "            if j % sync_freq == 0: #C Copy the main model parameters to the target network\n",
    "                model2.load_state_dict(model.state_dict())\n",
    "        if reward != -1 or mov > max_moves:\n",
    "            status = 0\n",
    "            mov = 0\n",
    "        \n",
    "losses = np.array(losses)\n",
    "\n",
    "#A Set the update frequency for synchronizing the target model parameters to the main DQN\n",
    "#B Use the target network to get the maiximum Q-value for the next state\n",
    "#C Copy the main model parameters to the target network"
   ]
  },
  {
   "cell_type": "code",
   "execution_count": 31,
   "metadata": {},
   "outputs": [
    {
     "data": {
      "text/plain": [
       "Text(0, 0.5, 'Loss')"
      ]
     },
     "execution_count": 31,
     "metadata": {},
     "output_type": "execute_result"
    },
    {
     "data": {
      "image/png": "[encoded data removed]",
      "text/plain": [
       "<Figure size 720x504 with 1 Axes>"
      ]
     },
     "metadata": {
      "needs_background": "light"
     },
     "output_type": "display_data"
    }
   ],
   "source": [
    "plt.figure(figsize=(10,7))\n",
    "plt.plot(losses)\n",
    "plt.xlabel(\"Epochs\",fontsize=22)\n",
    "plt.ylabel(\"Loss\",fontsize=22)"
   ]
  },
  {
   "cell_type": "code",
   "execution_count": 32,
   "metadata": {},
   "outputs": [
    {
     "name": "stdout",
     "output_type": "stream",
     "text": [
      "Games played: 1000, # of wins: 940\n",
      "Win percentage: 94.0%\n"
     ]
    }
   ],
   "source": [
    "max_games = 1000\n",
    "wins = 0\n",
    "for i in range(max_games):\n",
    "    win = test_model(model, mode='random', display=False)\n",
    "    if win:\n",
    "        wins += 1\n",
    "win_perc = float(wins) / float(max_games)\n",
    "print(\"Games played: {0}, # of wins: {1}\".format(max_games,wins))\n",
    "print(\"Win percentage: {}%\".format(100.0*win_perc))"
   ]
  },
  {
   "cell_type": "markdown",
   "metadata": {},
   "source": [
    "#### Reference:\n",
    "\n",
    "- Brown, Brandon and Zai, Alexander (2020), Deep Reinforcement Learning in Action, Manning."
   ]
  }
 ],
 "metadata": {
  "kernelspec": {
   "display_name": "tf1",
   "language": "python",
   "name": "python3"
  },
  "language_info": {
   "codemirror_mode": {
    "name": "ipython",
    "version": 3
   },
   "file_extension": ".py",
   "mimetype": "text/x-python",
   "name": "python",
   "nbconvert_exporter": "python",
   "pygments_lexer": "ipython3",
   "version": "3.6.13"
  },
  "varInspector": {
   "cols": {
    "lenName": 16,
    "lenType": 16,
    "lenVar": 40
   },
   "kernels_config": {
    "python": {
     "delete_cmd_postfix": "",
     "delete_cmd_prefix": "del ",
     "library": "var_list.py",
     "varRefreshCmd": "print(var_dic_list())"
    },
    "r": {
     "delete_cmd_postfix": ") ",
     "delete_cmd_prefix": "rm(",
     "library": "var_list.r",
     "varRefreshCmd": "cat(var_dic_list()) "
    }
   },
   "types_to_exclude": [
    "module",
    "function",
    "builtin_function_or_method",
    "instance",
    "_Feature"
   ],
   "window_display": false
  }
 },
 "nbformat": 4,
 "nbformat_minor": 4
}
