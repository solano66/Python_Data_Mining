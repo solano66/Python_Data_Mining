{
 "cells": [
  {
   "cell_type": "markdown",
   "metadata": {},
   "source": [
    "# 薈萃式學習 Ensemble Learning"
   ]
  },
  {
   "cell_type": "markdown",
   "metadata": {},
   "source": [
    "#### Prof. Ching-Shih Tsou (Ph.D.) (鄒慶士教授, Ph.D.) at the Institute of Information and Decision Sciences/Center for Applications of Data Science (CADS), National Taipei University of Business (國立臺北商業大學資訊與決策科學研究所教授兼資料科學應用研究中心主任); the Chinese Academy of R Software (CARS) (中華R軟體學會創會理事長) and the Data Science and Business Applications Association of Taiwan (DSBA) (臺灣資料科學與商業應用協會創會理事長)"
   ]
  },
  {
   "cell_type": "markdown",
   "metadata": {},
   "source": [
    "## 大綱\n",
    "\n",
    "> 資料載入與前處理\n",
    "\n",
    "> 基於超參數最佳化的Gradient Boosting的銷售預測模型\n",
    "\n",
    "> 拔靴集成法Bagging與隨機森林Random Forest的集成模型\n",
    "\n",
    "> 類神經網路與深度學習的學習方式\n"
   ]
  },
  {
   "cell_type": "markdown",
   "metadata": {},
   "source": [
    "## 資料載入與前處理 Loading and preprocessing the data"
   ]
  },
  {
   "cell_type": "markdown",
   "metadata": {},
   "source": [
    "- scikit-learn除了許多機器學習演算法外，還有許多前處理、模型調校與評估等函數"
   ]
  },
  {
   "cell_type": "markdown",
   "metadata": {},
   "source": [
    "- 商品銷售預測幾乎是每個營運部門的必備資料應用項目，無論是大型促銷活動還是單品銷售都是如此。\n",
    "在此處使用的資料集就是針對某單品做的訂單量進行預測應用。"
   ]
  },
  {
   "cell_type": "code",
   "execution_count": 1,
   "metadata": {},
   "outputs": [
    {
     "data": {
      "text/plain": [
       "'/Users/Vince/anaconda/lib/python3.6/site-packages/sklearn/__init__.py'"
      ]
     },
     "execution_count": 1,
     "metadata": {},
     "output_type": "execute_result"
    }
   ],
   "source": [
    "import sklearn\n",
    "sklearn.__file__"
   ]
  },
  {
   "cell_type": "code",
   "execution_count": 2,
   "metadata": {},
   "outputs": [
    {
     "data": {
      "text/plain": [
       "'0.19.1'"
      ]
     },
     "execution_count": 2,
     "metadata": {},
     "output_type": "execute_result"
    }
   ],
   "source": [
    "sklearn.__version__"
   ]
  },
  {
   "cell_type": "code",
   "execution_count": 3,
   "metadata": {},
   "outputs": [],
   "source": [
    "## from sklearn import datasets\n",
    "import numpy as np\n",
    "import pandas as pd\n",
    "\n",
    "from sklearn.ensemble import GradientBoostingRegressor  # 集成方法迴歸套件：梯度效能提升迴歸樹\n",
    "from sklearn.model_selection import GridSearchCV  # 載入交叉驗證套件：網格參數最佳化交叉驗證(update skleran to 0.19.1, scipy and restart Python!)\n",
    "import matplotlib.pyplot as plt  # 載入繪圖套件\n",
    "\n",
    "raw_data = pd.read_table('products_sales.txt', delimiter=',')"
   ]
  },
  {
   "cell_type": "code",
   "execution_count": 4,
   "metadata": {},
   "outputs": [
    {
     "data": {
      "text/html": [
       "<div>\n",
       "<style scoped>\n",
       "    .dataframe tbody tr th:only-of-type {\n",
       "        vertical-align: middle;\n",
       "    }\n",
       "\n",
       "    .dataframe tbody tr th {\n",
       "        vertical-align: top;\n",
       "    }\n",
       "\n",
       "    .dataframe thead th {\n",
       "        text-align: right;\n",
       "    }\n",
       "</style>\n",
       "<table border=\"1\" class=\"dataframe\">\n",
       "  <thead>\n",
       "    <tr style=\"text-align: right;\">\n",
       "      <th></th>\n",
       "      <th>limit_infor</th>\n",
       "      <th>campaign_type</th>\n",
       "      <th>campaign_level</th>\n",
       "      <th>product_level</th>\n",
       "      <th>resource_amount</th>\n",
       "      <th>email_rate</th>\n",
       "      <th>price</th>\n",
       "      <th>discount_rate</th>\n",
       "      <th>hour_resouces</th>\n",
       "      <th>campaign_fee</th>\n",
       "      <th>orders</th>\n",
       "    </tr>\n",
       "  </thead>\n",
       "  <tbody>\n",
       "    <tr>\n",
       "      <th>0</th>\n",
       "      <td>0</td>\n",
       "      <td>6</td>\n",
       "      <td>0</td>\n",
       "      <td>1</td>\n",
       "      <td>1</td>\n",
       "      <td>0.08</td>\n",
       "      <td>140.0</td>\n",
       "      <td>0.83</td>\n",
       "      <td>93</td>\n",
       "      <td>888</td>\n",
       "      <td>1981</td>\n",
       "    </tr>\n",
       "    <tr>\n",
       "      <th>1</th>\n",
       "      <td>0</td>\n",
       "      <td>0</td>\n",
       "      <td>0</td>\n",
       "      <td>1</td>\n",
       "      <td>1</td>\n",
       "      <td>0.10</td>\n",
       "      <td>144.0</td>\n",
       "      <td>0.75</td>\n",
       "      <td>150</td>\n",
       "      <td>836</td>\n",
       "      <td>986</td>\n",
       "    </tr>\n",
       "    <tr>\n",
       "      <th>2</th>\n",
       "      <td>0</td>\n",
       "      <td>1</td>\n",
       "      <td>1</td>\n",
       "      <td>1</td>\n",
       "      <td>1</td>\n",
       "      <td>0.12</td>\n",
       "      <td>149.0</td>\n",
       "      <td>0.84</td>\n",
       "      <td>86</td>\n",
       "      <td>1330</td>\n",
       "      <td>1416</td>\n",
       "    </tr>\n",
       "    <tr>\n",
       "      <th>3</th>\n",
       "      <td>0</td>\n",
       "      <td>3</td>\n",
       "      <td>1</td>\n",
       "      <td>2</td>\n",
       "      <td>1</td>\n",
       "      <td>0.12</td>\n",
       "      <td>141.0</td>\n",
       "      <td>0.82</td>\n",
       "      <td>95</td>\n",
       "      <td>2273</td>\n",
       "      <td>2368</td>\n",
       "    </tr>\n",
       "    <tr>\n",
       "      <th>4</th>\n",
       "      <td>0</td>\n",
       "      <td>0</td>\n",
       "      <td>0</td>\n",
       "      <td>1</td>\n",
       "      <td>1</td>\n",
       "      <td>0.10</td>\n",
       "      <td>146.0</td>\n",
       "      <td>0.59</td>\n",
       "      <td>73</td>\n",
       "      <td>1456</td>\n",
       "      <td>1529</td>\n",
       "    </tr>\n",
       "  </tbody>\n",
       "</table>\n",
       "</div>"
      ],
      "text/plain": [
       "   limit_infor  campaign_type  campaign_level  product_level  resource_amount  \\\n",
       "0            0              6               0              1                1   \n",
       "1            0              0               0              1                1   \n",
       "2            0              1               1              1                1   \n",
       "3            0              3               1              2                1   \n",
       "4            0              0               0              1                1   \n",
       "\n",
       "   email_rate  price  discount_rate  hour_resouces  campaign_fee  orders  \n",
       "0        0.08  140.0           0.83             93           888    1981  \n",
       "1        0.10  144.0           0.75            150           836     986  \n",
       "2        0.12  149.0           0.84             86          1330    1416  \n",
       "3        0.12  141.0           0.82             95          2273    2368  \n",
       "4        0.10  146.0           0.59             73          1456    1529  "
      ]
     },
     "execution_count": 4,
     "metadata": {},
     "output_type": "execute_result"
    }
   ],
   "source": [
    "raw_data.head()"
   ]
  },
  {
   "cell_type": "markdown",
   "metadata": {},
   "source": [
    "- 資料審查和校驗\n",
    "- 資料概覽，注意price有遺缺值，campaign_fee有異常極大值！"
   ]
  },
  {
   "cell_type": "code",
   "execution_count": 5,
   "metadata": {},
   "outputs": [
    {
     "name": "stdout",
     "output_type": "stream",
     "text": [
      "***********************Data overview:***********************\n",
      "     limit_infor  campaign_type  campaign_level  product_level  \\\n",
      "729            0              6               0              1   \n",
      "730            0              6               0              1   \n",
      "\n",
      "     resource_amount  email_rate  price  discount_rate  hour_resouces  \\\n",
      "729                8         0.8  150.0           0.87            987   \n",
      "730                9         0.8  149.0           0.84           1448   \n",
      "\n",
      "     campaign_fee  orders  \n",
      "729          2298    3285  \n",
      "730          3392    4840  \n",
      "************************Data dtypes:************************\n",
      "limit_infor          int64\n",
      "campaign_type        int64\n",
      "campaign_level       int64\n",
      "product_level        int64\n",
      "resource_amount      int64\n",
      "email_rate         float64\n",
      "price              float64\n",
      "discount_rate      float64\n",
      "hour_resouces        int64\n",
      "campaign_fee         int64\n",
      "orders               int64\n",
      "dtype: object\n",
      "*************************Data DESC:*************************\n",
      "                 count    mean     std    min     25%     50%     75%      max\n",
      "limit_infor      731.0     0.0     0.4    0.0     0.0     0.0     0.0     10.0\n",
      "campaign_type    731.0     3.0     2.0    0.0     1.0     3.0     5.0      6.0\n",
      "campaign_level   731.0     0.7     0.5    0.0     0.0     1.0     1.0      1.0\n",
      "product_level    731.0     1.4     0.5    1.0     1.0     1.0     2.0      3.0\n",
      "resource_amount  731.0     5.0     1.8    1.0     3.0     5.0     7.0      9.0\n",
      "email_rate       731.0     0.5     0.2    0.1     0.3     0.5     0.6      0.8\n",
      "price            729.0   162.8    14.3  100.0   152.0   163.0   173.0    197.0\n",
      "discount_rate    731.0     0.8     0.1    0.5     0.8     0.8     0.9      1.0\n",
      "hour_resouces    731.0   848.2   686.6    2.0   315.5   713.0  1096.0   3410.0\n",
      "campaign_fee     731.0  3696.4  1908.6   20.0  2497.0  3662.0  4795.5  33380.0\n",
      "orders           731.0  4531.1  1932.5   22.0  3199.0  4563.0  6011.5   8714.0\n"
     ]
    }
   ],
   "source": [
    "print ('{:*^60}'.format('Data overview:'))\n",
    "print (raw_data.tail(2))  # 印出原始數據後2條\n",
    "print ('{:*^60}'.format('Data dtypes:'))\n",
    "print (raw_data.dtypes)  # 印出數據類型\n",
    "print ('{:*^60}'.format('Data DESC:'))\n",
    "print (raw_data.describe().round(1).T)  # 印出原始數據基本描述性信息"
   ]
  },
  {
   "cell_type": "markdown",
   "metadata": {},
   "source": [
    "- limit_info: 是否限購 [0  1 10??]\n",
    "- campaign_type: 促銷活動類型 [0 1 2 3 4 5 6]\n",
    "- campaign_level: 促銷活動重要性 [0 1]\n",
    "- product_level: 產品重要度 [1 2 3]\n",
    "- resource_amount: 促銷資源數量\n",
    "- email_rate: 電郵促銷含該產品的比例\n",
    "- price: 單價\n",
    "- discount_rate: 折扣率\n",
    "- hour_resources: 促銷展示時數\n",
    "- campaign_fee: 產品促銷綜合費用\n",
    "- orders: 每次活動的訂單量"
   ]
  },
  {
   "cell_type": "markdown",
   "metadata": {},
   "source": [
    "- 查看值域分布與次數分配表"
   ]
  },
  {
   "cell_type": "code",
   "execution_count": 6,
   "metadata": {},
   "outputs": [
    {
     "name": "stdout",
     "output_type": "stream",
     "text": [
      "**************limit_infor unique values:[ 0  1 10]***************\n",
      "**************campaign_type unique values:[0 1 2 3 4 5 6]***************\n",
      "**************campaign_level unique values:[0 1]***************\n",
      "**************product_level unique values:[1 2 3]***************\n"
     ]
    }
   ],
   "source": [
    "col_names = ['limit_infor', 'campaign_type', 'campaign_level', 'product_level']  # 定義要查看的列column\n",
    "for col_name in col_names:  # 使用迴圈讀取每個列column\n",
    "    unque_value = np.sort(raw_data[col_name].unique())  # 獲得列的唯一值\n",
    "    print ('{:*^50}'.format('{1} unique values:{0}').format(unque_value, col_name))  # 打出"
   ]
  },
  {
   "cell_type": "code",
   "execution_count": 7,
   "metadata": {},
   "outputs": [
    {
     "name": "stdout",
     "output_type": "stream",
     "text": [
      "\n",
      "*************freq table of limit_infor :\n",
      "0     709\n",
      "1      21\n",
      "10      1\n",
      "Name: limit_infor, dtype: int64**************\n",
      "\n",
      "*************freq table of campaign_type :\n",
      "6    105\n",
      "1    105\n",
      "0    105\n",
      "5    104\n",
      "4    104\n",
      "3    104\n",
      "2    104\n",
      "Name: campaign_type, dtype: int64**************\n",
      "\n",
      "*************freq table of campaign_level :\n",
      "1    500\n",
      "0    231\n",
      "Name: campaign_level, dtype: int64**************\n",
      "\n",
      "*************freq table of product_level :\n",
      "1    463\n",
      "2    247\n",
      "3     21\n",
      "Name: product_level, dtype: int64**************\n"
     ]
    }
   ],
   "source": [
    "for col_name in col_names:  # 使用迴圈讀取每個列column\n",
    "    vc = raw_data[col_name].value_counts()  # 獲得列column的次數分配表\n",
    "    print ('\\n{:*^50}'.format('freq table of {1} :\\n{0}').format(vc, col_name))  # 印出"
   ]
  },
  {
   "cell_type": "markdown",
   "metadata": {},
   "source": [
    "- 遺缺值審查，只有price有遺缺值\n",
    "- 有兩筆觀測值具遺缺值"
   ]
  },
  {
   "cell_type": "code",
   "execution_count": 8,
   "metadata": {},
   "outputs": [
    {
     "name": "stdout",
     "output_type": "stream",
     "text": [
      "**************************NA Cols:**************************\n",
      "limit_infor        False\n",
      "campaign_type      False\n",
      "campaign_level     False\n",
      "product_level      False\n",
      "resource_amount    False\n",
      "email_rate         False\n",
      "price               True\n",
      "discount_rate      False\n",
      "hour_resouces      False\n",
      "campaign_fee       False\n",
      "orders             False\n",
      "dtype: bool\n",
      "Total number of NA lines is: 2\n"
     ]
    }
   ],
   "source": [
    "na_cols = raw_data.isnull().any(axis=0)  # 查看每一列column是否具有遺缺值\n",
    "print ('{:*^60}'.format('NA Cols:'))\n",
    "print (na_cols)  # 查看具有缺失值的列column\n",
    "na_lines = raw_data.isnull().any(axis=1)  # 查看每一行row是否具有遺缺值\n",
    "print ('Total number of NA lines is: {0}'.format(na_lines.sum()))  # 查看具有遺缺值的行row總記錄數"
   ]
  },
  {
   "cell_type": "markdown",
   "metadata": {},
   "source": [
    "- 相關性分析"
   ]
  },
  {
   "cell_type": "code",
   "execution_count": 9,
   "metadata": {},
   "outputs": [
    {
     "name": "stdout",
     "output_type": "stream",
     "text": [
      "********************Correlation Analyze:********************\n",
      "          li    ct    cl    pl    ra    er  price    dr    hr    cf  orders\n",
      "li      1.00 -0.03 -0.08 -0.04  0.05  0.04  -0.02  0.00  0.01 -0.04   -0.02\n",
      "ct     -0.03  1.00  0.04  0.03  0.01 -0.01  -0.05 -0.01  0.06  0.06    0.06\n",
      "cl     -0.08  0.04  1.00  0.06  0.05  0.05   0.02  0.02 -0.52  0.26    0.05\n",
      "pl     -0.04  0.03  0.06  1.00 -0.12 -0.12   0.59 -0.04 -0.25 -0.23   -0.30\n",
      "ra      0.05  0.01  0.05 -0.12  1.00  0.98   0.13  0.15  0.54  0.46    0.62\n",
      "er      0.04 -0.01  0.05 -0.12  0.98  1.00   0.14  0.18  0.54  0.47    0.63\n",
      "price  -0.02 -0.05  0.02  0.59  0.13  0.14   1.00  0.25 -0.08 -0.11   -0.10\n",
      "dr      0.00 -0.01  0.02 -0.04  0.15  0.18   0.25  1.00  0.17  0.19    0.23\n",
      "hr      0.01  0.06 -0.52 -0.25  0.54  0.54  -0.08  0.17  1.00  0.32    0.66\n",
      "cf     -0.04  0.06  0.26 -0.23  0.46  0.47  -0.11  0.19  0.32  1.00    0.76\n",
      "orders -0.02  0.06  0.05 -0.30  0.62  0.63  -0.10  0.23  0.66  0.76    1.00\n",
      "{'limit_infor': 'li', 'campaign_type': 'ct', 'campaign_level': 'cl', 'product_level': 'pl', 'resource_amount': 'ra', 'email_rate': 'er', 'price': 'price', 'discount_rate': 'dr', 'hour_resouces': 'hr', 'campaign_fee': 'cf', 'orders': 'orders'}\n"
     ]
    }
   ],
   "source": [
    "print ('{:*^60}'.format('Correlation Analyze:'))\n",
    "short_name = ['li', 'ct', 'cl', 'pl', 'ra', 'er', 'price', 'dr', 'hr', 'cf', 'orders']\n",
    "long_name = raw_data.columns\n",
    "name_dict = dict(zip(long_name, short_name))\n",
    "print (raw_data.corr().round(2).rename(index=name_dict, columns=name_dict))  # 輸出所有輸入特徵變量以及預測變量的相關性矩陣\n",
    "print (name_dict)"
   ]
  },
  {
   "cell_type": "markdown",
   "metadata": {},
   "source": [
    "- 數據預處理，遺缺值替換為平均值後儲存為sales_data (fill.na方法)\n",
    "- 只保留促銷值為0和1的記錄(促銷值10的紀錄只有一筆)\n",
    "- 異常值處理，將異常極大值替換為平均值 (replace方法)\n",
    "- 印出處理完成數據基本描述性信息 (describe + rename方法)"
   ]
  },
  {
   "cell_type": "code",
   "execution_count": 10,
   "metadata": {},
   "outputs": [
    {
     "name": "stdout",
     "output_type": "stream",
     "text": [
      "*********************transformed data:**********************\n",
      "        count     mean      std     min      25%      50%      75%      max\n",
      "li      730.0     0.03     0.17    0.00     0.00     0.00     0.00     1.00\n",
      "ct      730.0     3.00     2.01    0.00     1.00     3.00     5.00     6.00\n",
      "cl      730.0     0.68     0.47    0.00     0.00     1.00     1.00     1.00\n",
      "pl      730.0     1.40     0.55    1.00     1.00     1.00     2.00     3.00\n",
      "ra      730.0     4.95     1.84    1.00     3.00     5.00     7.00     9.00\n",
      "er      730.0     0.47     0.16    0.08     0.34     0.48     0.61     0.84\n",
      "price   730.0   162.82    14.26  100.00   152.00   163.00   173.00   197.00\n",
      "dr      730.0     0.81     0.08    0.49     0.77     0.82     0.87     0.98\n",
      "hr      730.0   848.51   687.03    2.00   315.25   717.00  1096.50  3410.00\n",
      "cf      730.0  3655.61  1561.27   20.00  2495.00  3660.00  4783.25  6946.00\n",
      "orders  730.0  4531.27  1933.85   22.00  3196.50  4566.00  6021.25  8714.00\n"
     ]
    }
   ],
   "source": [
    "sales_data = raw_data.fillna(raw_data['price'].mean())  # 遺缺值替換為平均值\n",
    "# sales_data = raw_data.drop('email_rate',axis=1) # 或移除遺缺值\n",
    "sales_data = sales_data[sales_data['limit_infor'].isin((0, 1))]  # 只保留促銷值為0和1的記錄\n",
    "sales_data['campaign_fee'] = sales_data['campaign_fee'].replace(33380, sales_data['campaign_fee'].mean())  # 將異常極大值替換為平均值\n",
    "print ('{:*^60}'.format('transformed data:'))\n",
    "print (sales_data.describe().round(2).T.rename(index=name_dict))  # 印出處理完成數據基本描述性信息"
   ]
  },
  {
   "cell_type": "markdown",
   "metadata": {},
   "source": [
    "- 分割資料集sales_data為屬性矩陣X和數值變數向量y"
   ]
  },
  {
   "cell_type": "code",
   "execution_count": 11,
   "metadata": {},
   "outputs": [],
   "source": [
    "X = sales_data.iloc[:, :-1]  # 分割X(從頭取到倒數第一column)\n",
    "y = sales_data.iloc[:, -1]  # 分割y(取倒數第一column)"
   ]
  },
  {
   "cell_type": "markdown",
   "metadata": {},
   "source": [
    "- 切割資料集為70%訓練集與30%測試集 Splitting data into 70% training and 30% test data:"
   ]
  },
  {
   "cell_type": "code",
   "execution_count": 12,
   "metadata": {},
   "outputs": [],
   "source": [
    "from sklearn.model_selection import train_test_split # cross_validation has been changed to model_selection\n",
    "\n",
    "X_train, X_test, y_train, y_test = train_test_split(\n",
    "         X, y, test_size=0.3, random_state=0)"
   ]
  },
  {
   "cell_type": "markdown",
   "metadata": {},
   "source": [
    "- 屬性標準化Standardizing the features:"
   ]
  },
  {
   "cell_type": "code",
   "execution_count": 13,
   "metadata": {},
   "outputs": [],
   "source": [
    "from sklearn.preprocessing import StandardScaler\n",
    "\n",
    "sc = StandardScaler()\n",
    "sc.fit(X_train) # 依X_train估計mu與sigma\n",
    "\n",
    "#sc.mean_\n",
    "#sc.scale_\n",
    "\n",
    "X_train_std = sc.transform(X_train) # 真正作轉換\n",
    "X_test_std = sc.transform(X_test)"
   ]
  },
  {
   "cell_type": "code",
   "execution_count": 14,
   "metadata": {},
   "outputs": [
    {
     "name": "stdout",
     "output_type": "stream",
     "text": [
      "StandardScaler(copy=True, with_mean=True, with_std=True)\n"
     ]
    }
   ],
   "source": [
    "print (sc)\n",
    "# print (help(sc))"
   ]
  },
  {
   "cell_type": "markdown",
   "metadata": {},
   "source": [
    "## 基於超參數最佳化的Gradient Boosting的銷售預測模型\n",
    "\n",
    "- import -> instantiate -> fit and transform"
   ]
  },
  {
   "cell_type": "code",
   "execution_count": 15,
   "metadata": {},
   "outputs": [],
   "source": [
    "model_gbr = GradientBoostingRegressor()  # 建立GradientBoostingRegressor迴歸物件\n",
    "parameters = {'loss': ['ls', 'lad', 'huber', 'quantile'],\n",
    "              'min_samples_leaf': [1, 2, 3, 4, 5],\n",
    "              'alpha': [0.1, 0.3, 0.6, 0.9]}  # 定義要優化的參數信息之字典\n",
    "#alpha float, default=0.9. The alpha-quantile of the huber loss function and the quantile loss function. Only if loss='huber' or loss='quantile'. Values must be in the range (0.0, 1.0).\n",
    "model_gs = GridSearchCV(estimator=model_gbr, param_grid=parameters, cv=5)  # 建立交叉檢驗模型對象"
   ]
  },
  {
   "cell_type": "markdown",
   "metadata": {},
   "source": [
    "- 衡量程式碼執行時間"
   ]
  },
  {
   "cell_type": "code",
   "execution_count": 16,
   "metadata": {},
   "outputs": [
    {
     "name": "stdout",
     "output_type": "stream",
     "text": [
      "58.12251806259155\n"
     ]
    }
   ],
   "source": [
    "import time\n",
    "start = time.time()\n",
    "\"the code you want to test stays here\"\n",
    "model_gs.fit(X, y)  # 訓練交叉檢驗模型(所以丟全部樣本進去)\n",
    "end = time.time()\n",
    "print(end - start) # 37.64466881752014"
   ]
  },
  {
   "cell_type": "code",
   "execution_count": 17,
   "metadata": {},
   "outputs": [
    {
     "name": "stdout",
     "output_type": "stream",
     "text": [
      "Best score is: 0.9317656782417922\n",
      "Best parameter is: {'alpha': 0.9, 'loss': 'huber', 'min_samples_leaf': 3}\n"
     ]
    }
   ],
   "source": [
    "print ('Best score is:', model_gs.best_score_)  # 獲得交叉檢驗模型得出的最佳得分\n",
    "print ('Best parameter is:', model_gs.best_params_)  # 獲得交叉檢驗模型得出的最佳參數"
   ]
  },
  {
   "cell_type": "code",
   "execution_count": 18,
   "metadata": {},
   "outputs": [
    {
     "data": {
      "text/plain": [
       "sklearn.model_selection._search.GridSearchCV"
      ]
     },
     "execution_count": 18,
     "metadata": {},
     "output_type": "execute_result"
    }
   ],
   "source": [
    "type(model_gs)"
   ]
  },
  {
   "cell_type": "code",
   "execution_count": 19,
   "metadata": {},
   "outputs": [
    {
     "data": {
      "text/plain": [
       "['__abstractmethods__',\n",
       " '__class__',\n",
       " '__delattr__',\n",
       " '__dict__',\n",
       " '__dir__',\n",
       " '__doc__',\n",
       " '__eq__',\n",
       " '__format__',\n",
       " '__ge__',\n",
       " '__getattribute__',\n",
       " '__getstate__',\n",
       " '__gt__',\n",
       " '__hash__',\n",
       " '__init__',\n",
       " '__init_subclass__',\n",
       " '__le__',\n",
       " '__lt__',\n",
       " '__module__',\n",
       " '__ne__',\n",
       " '__new__',\n",
       " '__reduce__',\n",
       " '__reduce_ex__',\n",
       " '__repr__',\n",
       " '__setattr__',\n",
       " '__setstate__',\n",
       " '__sizeof__',\n",
       " '__str__',\n",
       " '__subclasshook__',\n",
       " '__weakref__',\n",
       " '_abc_cache',\n",
       " '_abc_negative_cache',\n",
       " '_abc_negative_cache_version',\n",
       " '_abc_registry',\n",
       " '_check_is_fitted',\n",
       " '_estimator_type',\n",
       " '_get_param_iterator',\n",
       " '_get_param_names',\n",
       " 'best_estimator_',\n",
       " 'best_index_',\n",
       " 'best_params_',\n",
       " 'best_score_',\n",
       " 'classes_',\n",
       " 'cv',\n",
       " 'cv_results_',\n",
       " 'decision_function',\n",
       " 'error_score',\n",
       " 'estimator',\n",
       " 'fit',\n",
       " 'fit_params',\n",
       " 'get_params',\n",
       " 'grid_scores_',\n",
       " 'iid',\n",
       " 'inverse_transform',\n",
       " 'multimetric_',\n",
       " 'n_jobs',\n",
       " 'n_splits_',\n",
       " 'param_grid',\n",
       " 'pre_dispatch',\n",
       " 'predict',\n",
       " 'predict_log_proba',\n",
       " 'predict_proba',\n",
       " 'refit',\n",
       " 'return_train_score',\n",
       " 'score',\n",
       " 'scorer_',\n",
       " 'scoring',\n",
       " 'set_params',\n",
       " 'transform',\n",
       " 'verbose']"
      ]
     },
     "execution_count": 19,
     "metadata": {},
     "output_type": "execute_result"
    }
   ],
   "source": [
    "dir(model_gs)"
   ]
  },
  {
   "cell_type": "markdown",
   "metadata": {},
   "source": [
    "- 獲取最佳訓練模型"
   ]
  },
  {
   "cell_type": "code",
   "execution_count": 20,
   "metadata": {},
   "outputs": [
    {
     "data": {
      "text/plain": [
       "GradientBoostingRegressor(alpha=0.9, criterion='friedman_mse', init=None,\n",
       "             learning_rate=0.1, loss='huber', max_depth=3,\n",
       "             max_features=None, max_leaf_nodes=None,\n",
       "             min_impurity_decrease=0.0, min_impurity_split=None,\n",
       "             min_samples_leaf=3, min_samples_split=2,\n",
       "             min_weight_fraction_leaf=0.0, n_estimators=100,\n",
       "             presort='auto', random_state=None, subsample=1.0, verbose=0,\n",
       "             warm_start=False)"
      ]
     },
     "execution_count": 20,
     "metadata": {},
     "output_type": "execute_result"
    }
   ],
   "source": [
    "model_best = model_gs.best_estimator_  # 獲得交叉檢驗模型得出的最佳模型物件\n",
    "model_best"
   ]
  },
  {
   "cell_type": "code",
   "execution_count": 21,
   "metadata": {},
   "outputs": [
    {
     "data": {
      "image/png": "[encoded data removed]",
      "text/plain": [
       "<matplotlib.figure.Figure at 0x111f8c748>"
      ]
     },
     "metadata": {},
     "output_type": "display_data"
    }
   ],
   "source": [
    "model_best.fit(X, y)  # 訓練最佳模型\n",
    "plt.style.use(\"ggplot\")  # 應用ggplot樣式\n",
    "plt.figure()  # 建立畫布物件\n",
    "plt.plot(np.arange(X.shape[0]), y, label='true y')  # 畫出原始變量的曲線\n",
    "plt.plot(np.arange(X.shape[0]), model_best.predict(X), label='predicted y')  # 畫出預測變量的曲線\n",
    "plt.legend(loc=0)  # 設置圖例位置\n",
    "plt.show()  # 顯示圖形"
   ]
  },
  {
   "cell_type": "markdown",
   "metadata": {},
   "source": [
    "- 新資料集預測"
   ]
  },
  {
   "cell_type": "code",
   "execution_count": 22,
   "metadata": {},
   "outputs": [
    {
     "name": "stdout",
     "output_type": "stream",
     "text": [
      "*********************Predicted orders:**********************\n",
      "[779.]\n"
     ]
    }
   ],
   "source": [
    "New_X = np.array([[1, 1, 0, 1, 15, 0.5, 177, 0.66, 101, 798]])  # 要預測的新數據記錄(10個變數)\n",
    "print ('{:*^60}'.format('Predicted orders:'))\n",
    "print (model_best.predict(New_X).round(0))  # 印出預測值"
   ]
  },
  {
   "cell_type": "markdown",
   "metadata": {},
   "source": [
    "## 拔靴集成法Bagging與隨機森林Random Forest的集成模型"
   ]
  },
  {
   "cell_type": "markdown",
   "metadata": {},
   "source": [
    "> 模組載入"
   ]
  },
  {
   "cell_type": "code",
   "execution_count": 23,
   "metadata": {},
   "outputs": [],
   "source": [
    "import numpy as np  # numpy庫\n",
    "import pandas as pd  # pandas庫\n",
    "from sklearn.feature_extraction import DictVectorizer  # 數值分類轉整數分類庫\n",
    "from imblearn.over_sampling import SMOTE  # 過抽樣處理庫SMOTE\n",
    "from sklearn.model_selection import StratifiedKFold, cross_val_score  # 導入交叉檢驗算法\n",
    "from sklearn.linear_model import LogisticRegression  # 導入邏輯回歸庫\n",
    "from sklearn.ensemble import VotingClassifier, RandomForestClassifier, BaggingClassifier  # 三種集成分類庫和投票方法庫：投票分類器、隨機森林分類器、拔靴集成分類器"
   ]
  },
  {
   "cell_type": "markdown",
   "metadata": {},
   "source": [
    "> 數據審查和預處理函數\n",
    "\n",
    "- 基本狀態查看函數`set_summary`"
   ]
  },
  {
   "cell_type": "code",
   "execution_count": 25,
   "metadata": {},
   "outputs": [],
   "source": [
    "def set_summary(df):\n",
    "    '''\n",
    "    查看數據集後2條數據、數據類型、描述性統計\n",
    "    :param df: 數據框\n",
    "    :return: 無\n",
    "    '''\n",
    "    print ('{:*^60}'.format('Data overview:'))\n",
    "    print (df.tail(2))  # 打印原始數據後2條\n",
    "    print ('{:*^60}'.format('Data dtypes:'))\n",
    "    print (df.dtypes)  # 打印數據類型\n",
    "    print ('{:*^60}'.format('Data DESC:'))\n",
    "    print (df.describe().round(2).T)  # 打印原始數據基本描述性信息"
   ]
  },
  {
   "cell_type": "markdown",
   "metadata": {},
   "source": [
    "- 缺失值審查函數`na_summary`"
   ]
  },
  {
   "cell_type": "code",
   "execution_count": 26,
   "metadata": {},
   "outputs": [],
   "source": [
    "def na_summary(df):\n",
    "    '''\n",
    "    查看數據集的缺失數據列、行記錄數\n",
    "    :param df: 數據框\n",
    "    :return: 無\n",
    "    '''\n",
    "    na_cols = df.isnull().any(axis=0)  # 查看每一列是否具有缺失值\n",
    "    print ('{:*^60}'.format('NA Cols:'))\n",
    "    print (na_cols)  # 查看具有缺失值的列\n",
    "    na_lines = df.isnull().any(axis=1)  # 查看每一行是否具有缺失值\n",
    "    print ('Total number of NA lines is: {0}'.format(na_lines.sum()))  # 查看具有缺失值的行總記錄數"
   ]
  },
  {
   "cell_type": "markdown",
   "metadata": {},
   "source": [
    "- 類樣本均衡審查函數`label_samples_summary`"
   ]
  },
  {
   "cell_type": "code",
   "execution_count": 27,
   "metadata": {},
   "outputs": [],
   "source": [
    "def label_samples_summary(df):\n",
    "    '''\n",
    "    查看每個類的樣本量分布\n",
    "    :param df: 數據框\n",
    "    :return: 無\n",
    "    '''\n",
    "    print ('{:*^60}'.format('Labesl samples count:'))\n",
    "    print (df.ix[:, 1].groupby(df.ix[:, -1]).count())"
   ]
  },
  {
   "cell_type": "markdown",
   "metadata": {},
   "source": [
    "- 字符串分類轉整數分類函數`str2int`"
   ]
  },
  {
   "cell_type": "code",
   "execution_count": 28,
   "metadata": {},
   "outputs": [],
   "source": [
    "# 字符串分類轉整數分類\n",
    "def str2int(set, convert_object, unique_object, training=True):\n",
    "    '''\n",
    "    用於將分類變量中的字符串轉換為數值索引分類\n",
    "    :param set: 數據集\n",
    "    :param convert_object:  DictVectorizer轉換對象，當training為True時為空；當training為False時則使用從訓練階段得到的對象\n",
    "    :param unique_object: 唯一值列表，當training為True時為空；當training為False時則使用從訓練階段得到的唯一值列表\n",
    "    :param training: 是否為訓練階段\n",
    "    :return: 訓練階段返回model_dvtransform,unique_list,traing_part_data；預測應用階段返回predict_part_data\n",
    "    '''\n",
    "    convert_cols = ['cat', 'attribution', 'pro_id', 'pro_brand', 'order_source', 'pay_type', 'use_id',\n",
    "                    'city']  # 定義要轉換的行\n",
    "    final_convert_matrix = set[convert_cols]  # 獲得要轉換的數據集合\n",
    "    lines = set.shape[0]  # 獲得總記錄數\n",
    "    dict_list = []  # 總空列表，用於存放字符串與對應索引組成的字典\n",
    "    if training == True:  # 如果是訓練階段\n",
    "        unique_list = []  # 總唯一值列表，用於存儲每個列的唯一值列表\n",
    "        for col_name in convert_cols:  # 循環讀取每個列名\n",
    "            cols_unqiue_value = set[col_name].unique().tolist()  # 獲取列的唯一值列表\n",
    "            unique_list.append(cols_unqiue_value)  # 將唯一值列表追加到總列表\n",
    "        for line_index in range(lines):  # 讀取每行索引\n",
    "            each_record = final_convert_matrix.iloc[line_index]  # 獲得每行數據，是一個Series\n",
    "            for each_index, each_data in enumerate(each_record):  # 讀取Series每行對應的索引值\n",
    "                list_value = unique_list[each_index]  # 讀取該行索引對應到總唯一值列表列索引下的數據(其實是相當於原來的列做了轉置成了行，目的是查找唯一值在列表中的位置)\n",
    "                each_record[each_index] = list_value.index(each_data)  # 獲得每個值對應到總唯一值列表中的索引\n",
    "            each_dict = dict(zip(convert_cols, each_record))  # 將每個值和對應的索引組合字典\n",
    "            dict_list.append(each_dict)  # 將字典追加到總列表\n",
    "        model_dvtransform = DictVectorizer(sparse=False, dtype=np.int64)  # 建立轉換模型對象\n",
    "        model_dvtransform.fit(dict_list)  # 應用分類轉換訓練\n",
    "        traing_part_data = model_dvtransform.transform(dict_list)  # 轉換訓練集\n",
    "        return model_dvtransform, unique_list, traing_part_data\n",
    "    else:  # 如果是預測階段\n",
    "        for line_index in range(lines):  # 讀取每行索引\n",
    "            each_record = final_convert_matrix.iloc[line_index]  # 獲得每行數據，是一個Series\n",
    "            for each_index, each_data in enumerate(each_record):  # 讀取Series每行對應的索引值\n",
    "                list_value = unique_object[each_index]  # 讀取該行索引對應到總唯一值列表列索引下的數據(其實是相當於原來的列做了轉置成了行，目的是查找唯一值在列表中的位置)\n",
    "                each_record[each_index] = list_value.index(each_data)  # 獲得每個值對應到總唯一值列表中的索引\n",
    "            each_dict = dict(zip(convert_cols, each_record))  # 將每個值和對應的索引組合字典\n",
    "            dict_list.append(each_dict)  # 將字典追加到總列表\n",
    "        predict_part_data = convert_object.transform(dict_list)  # 轉換預測集\n",
    "        return predict_part_data"
   ]
  },
  {
   "cell_type": "markdown",
   "metadata": {},
   "source": [
    "- 時間屬性拓展函數`datetime2int`"
   ]
  },
  {
   "cell_type": "code",
   "execution_count": 29,
   "metadata": {},
   "outputs": [],
   "source": [
    "def datetime2int(set):\n",
    "    '''\n",
    "    將日期和時間數據拓展出其他屬性，例如星期幾、周幾、小時、分鐘等。\n",
    "    :param set: 數據集\n",
    "    :return: 拓展後的屬性矩陣\n",
    "    '''\n",
    "    date_set = map(lambda dates: pd.datetime.strptime(dates, '%Y-%m-%d'),\n",
    "                   set['order_date'])  # 將set中的order_date(年月日)列轉換為特定日期格式\n",
    "    date_set = np.array(list(date_set))\n",
    "    weekday_data = map(lambda data: data.weekday(), date_set)  # 周幾\n",
    "    weekday_data = np.array(list(weekday_data))\n",
    "    daysinmonth_data = map(lambda data: data.day, date_set)  # 當月幾號\n",
    "    daysinmonth_data = np.array(list(daysinmonth_data))\n",
    "    month_data = map(lambda data: data.month, date_set)  # 月份\n",
    "    month_data = np.array(list(month_data))\n",
    "\n",
    "    time_set = map(lambda times: pd.datetime.strptime(times, '%H:%M:%S'),\n",
    "                   set['order_time'])  # 將set中的order_time(時分秒)列轉換為特定時間格式\n",
    "    time_set = np.array(list(time_set))\n",
    "    second_data = map(lambda data: data.second, time_set)  # 秒\n",
    "    second_data = np.array(list(second_data))\n",
    "    minute_data = map(lambda data: data.minute, time_set)  # 分鐘\n",
    "    minute_data = np.array(list(minute_data))\n",
    "    hour_data = map(lambda data: data.hour, time_set)  # 小時\n",
    "    hour_data = np.array(list(hour_data))\n",
    "\n",
    "    final_set = []  # 列表，用於將上述拓展屬性組合起來\n",
    "    final_set.extend((weekday_data, daysinmonth_data, month_data, second_data, minute_data, hour_data))  # 將屬性列表批量組合\n",
    "    final_matrix = np.array(final_set).T  # 轉換為矩陣並轉置\n",
    "    return final_matrix"
   ]
  },
  {
   "cell_type": "markdown",
   "metadata": {},
   "source": [
    "- 樣本均衡`sample_balance`"
   ]
  },
  {
   "cell_type": "code",
   "execution_count": 30,
   "metadata": {},
   "outputs": [],
   "source": [
    "# 樣本均衡\n",
    "def sample_balance(X, y):\n",
    "    '''\n",
    "    使用SMOTE方法對不均衡樣本做過抽樣處理\n",
    "    :param X: 輸入特徵變量X\n",
    "    :param y: 目標變量y\n",
    "    :return: 均衡後的X和y\n",
    "    '''\n",
    "    model_smote = SMOTE()  # 建立SMOTE模型對象\n",
    "    x_smote_resampled, y_smote_resampled = model_smote.fit_sample(X, y)  # 輸入數據並作過抽樣處理\n",
    "    return x_smote_resampled, y_smote_resampled"
   ]
  },
  {
   "cell_type": "markdown",
   "metadata": {},
   "source": [
    "> 數據套用"
   ]
  },
  {
   "cell_type": "code",
   "execution_count": 31,
   "metadata": {},
   "outputs": [],
   "source": [
    "# 定義特殊字段數據格式\n",
    "dtypes = {'order_id': np.object,\n",
    "          'pro_id': np.object,\n",
    "          'use_id': np.object}\n",
    "raw_data = pd.read_table('abnormal_orders.txt', delimiter=',', dtype=dtypes)  # 讀取數據集，dtype=dtypes好方法"
   ]
  },
  {
   "cell_type": "markdown",
   "metadata": {},
   "source": [
    "- 數據審查與預處理\n",
    "- 樣本均衡處理"
   ]
  },
  {
   "cell_type": "code",
   "execution_count": 32,
   "metadata": {},
   "outputs": [
    {
     "name": "stdout",
     "output_type": "stream",
     "text": [
      "***********************Data overview:***********************\n",
      "          order_id  order_date order_time       cat attribution      pro_id  \\\n",
      "134188  4285770012  2013-09-19   23:55:06      家居日用          GO  1000335947   \n",
      "134189  4285770056  2013-05-20   23:58:59  生活電器廚衛電器          GO  1000009280   \n",
      "\n",
      "       pro_brand  total_money  total_quantity order_source pay_type  \\\n",
      "134188       炊大師         79.0               1           搶購     合併支付   \n",
      "134189        海爾        799.0               1           搶購     合併支付   \n",
      "\n",
      "            use_id city  abnormal_label  \n",
      "134188      shukun  東莞市               0  \n",
      "134189  544975322_  海口市               0  \n",
      "************************Data dtypes:************************\n",
      "order_id           object\n",
      "order_date         object\n",
      "order_time         object\n",
      "cat                object\n",
      "attribution        object\n",
      "pro_id             object\n",
      "pro_brand          object\n",
      "total_money       float64\n",
      "total_quantity      int64\n",
      "order_source       object\n",
      "pay_type           object\n",
      "use_id             object\n",
      "city               object\n",
      "abnormal_label      int64\n",
      "dtype: object\n",
      "*************************Data DESC:*************************\n",
      "                   count    mean      std  min   25%   50%    75%       max\n",
      "total_money     134189.0  660.11  2901.21  0.5  29.0  98.4  372.0  766000.0\n",
      "total_quantity  134190.0    1.20     3.23  1.0   1.0   1.0    1.0    1000.0\n",
      "abnormal_label  134190.0    0.21     0.41  0.0   0.0   0.0    0.0       1.0\n",
      "**************************NA Cols:**************************\n",
      "order_id          False\n",
      "order_date        False\n",
      "order_time        False\n",
      "cat                True\n",
      "attribution       False\n",
      "pro_id            False\n",
      "pro_brand          True\n",
      "total_money        True\n",
      "total_quantity    False\n",
      "order_source      False\n",
      "pay_type          False\n",
      "use_id            False\n",
      "city               True\n",
      "abnormal_label    False\n",
      "dtype: bool\n",
      "Total number of NA lines is: 1429\n",
      "*******************Labesl samples count:********************\n",
      "abnormal_label\n",
      "0    105733\n",
      "1     28457\n",
      "Name: order_date, dtype: int64\n"
     ]
    },
    {
     "name": "stderr",
     "output_type": "stream",
     "text": [
      "/Users/Vince/anaconda/lib/python3.6/site-packages/ipykernel/__main__.py:8: DeprecationWarning: \n",
      ".ix is deprecated. Please use\n",
      ".loc for label based indexing or\n",
      ".iloc for positional indexing\n",
      "\n",
      "See the documentation here:\n",
      "http://pandas.pydata.org/pandas-docs/stable/indexing.html#ix-indexer-is-deprecated\n"
     ]
    },
    {
     "name": "stdout",
     "output_type": "stream",
     "text": [
      "164.62473583221436\n"
     ]
    }
   ],
   "source": [
    "set_summary(raw_data)  # 基本狀態查看\n",
    "na_summary(raw_data)  # 缺失值審查\n",
    "label_samples_summary(raw_data)  # 類樣本分布審查\n",
    "\n",
    "drop_na_set = raw_data.dropna()  # 丟棄帶有NA值的數據行\n",
    "X_raw = drop_na_set.iloc[:, 1:-1]  # 分割輸入變量X，並丟棄訂單ID列和最後一列目標變量\n",
    "y_raw = drop_na_set.iloc[:, -1]  # 分割目標變量y\n",
    "\n",
    "import time\n",
    "start = time.time()\n",
    "model_dvtransform, unique_object, str2int_data = str2int(X_raw, None, None, training=True)  # 字符串分類轉整數型分類(str2int_data: 132761*8)\n",
    "end = time.time()\n",
    "print(end - start) # 165.65647315979004\n",
    "\n",
    "datetime2int_data = datetime2int(X_raw)  # 拓展日期時間屬性(132761, 6 週日月秒分時)\n",
    "combine_set = np.hstack((str2int_data, datetime2int_data))  # 合併轉換後的分類和拓展後的日期數據集(132761, 14)\n",
    "constant_set = X_raw[['total_money', 'total_quantity']]  # 原始連續數據變量(132761, 2)\n",
    "X_combine = np.hstack((combine_set, constant_set))  # 再次合併數據集(132761, 16)\n",
    "X, y = sample_balance(X_combine, y_raw)  # 樣本均衡處理"
   ]
  },
  {
   "cell_type": "markdown",
   "metadata": {},
   "source": [
    "- 組合分類模型交叉檢驗"
   ]
  },
  {
   "cell_type": "code",
   "execution_count": 33,
   "metadata": {},
   "outputs": [
    {
     "name": "stderr",
     "output_type": "stream",
     "text": [
      "/Users/Vince/anaconda/lib/python3.6/site-packages/sklearn/preprocessing/label.py:151: DeprecationWarning: The truth value of an empty array is ambiguous. Returning False, but in future this will result in an error. Use `array.size > 0` to check that an array is not empty.\n",
      "  if diff:\n",
      "/Users/Vince/anaconda/lib/python3.6/site-packages/sklearn/preprocessing/label.py:151: DeprecationWarning: The truth value of an empty array is ambiguous. Returning False, but in future this will result in an error. Use `array.size > 0` to check that an array is not empty.\n",
      "  if diff:\n",
      "/Users/Vince/anaconda/lib/python3.6/site-packages/sklearn/preprocessing/label.py:151: DeprecationWarning: The truth value of an empty array is ambiguous. Returning False, but in future this will result in an error. Use `array.size > 0` to check that an array is not empty.\n",
      "  if diff:\n",
      "/Users/Vince/anaconda/lib/python3.6/site-packages/sklearn/preprocessing/label.py:151: DeprecationWarning: The truth value of an empty array is ambiguous. Returning False, but in future this will result in an error. Use `array.size > 0` to check that an array is not empty.\n",
      "  if diff:\n",
      "/Users/Vince/anaconda/lib/python3.6/site-packages/sklearn/preprocessing/label.py:151: DeprecationWarning: The truth value of an empty array is ambiguous. Returning False, but in future this will result in an error. Use `array.size > 0` to check that an array is not empty.\n",
      "  if diff:\n",
      "/Users/Vince/anaconda/lib/python3.6/site-packages/sklearn/preprocessing/label.py:151: DeprecationWarning: The truth value of an empty array is ambiguous. Returning False, but in future this will result in an error. Use `array.size > 0` to check that an array is not empty.\n",
      "  if diff:\n",
      "/Users/Vince/anaconda/lib/python3.6/site-packages/sklearn/preprocessing/label.py:151: DeprecationWarning: The truth value of an empty array is ambiguous. Returning False, but in future this will result in an error. Use `array.size > 0` to check that an array is not empty.\n",
      "  if diff:\n"
     ]
    },
    {
     "name": "stdout",
     "output_type": "stream",
     "text": [
      "379.55696392059326\n"
     ]
    },
    {
     "name": "stderr",
     "output_type": "stream",
     "text": [
      "/Users/Vince/anaconda/lib/python3.6/site-packages/sklearn/preprocessing/label.py:151: DeprecationWarning: The truth value of an empty array is ambiguous. Returning False, but in future this will result in an error. Use `array.size > 0` to check that an array is not empty.\n",
      "  if diff:\n"
     ]
    }
   ],
   "source": [
    "model_rf = RandomForestClassifier(n_estimators=20, random_state=0)  # 隨機森林分類模型對象\n",
    "model_lr = LogisticRegression(random_state=0)  # 邏輯迴歸分類模型對象\n",
    "model_BagC = BaggingClassifier(n_estimators=20, random_state=0)  # Bagging分類模型對象\n",
    "estimators = [('randomforest', model_rf), ('Logistic', model_lr), ('bagging', model_BagC)]  # 建立組合評估器列表\n",
    "model_vot = VotingClassifier(estimators=estimators, voting='soft', weights=[0.9, 1.2, 1.1], n_jobs=-1)  # 建立組合評估模型\n",
    "cv = StratifiedKFold(8)  # 設置交叉檢驗方法\n",
    "\n",
    "start = time.time()\n",
    "cv_score = cross_val_score(model_vot, X, y, cv=cv)  # 交叉檢驗\n",
    "end = time.time()\n",
    "print(end - start)"
   ]
  },
  {
   "cell_type": "markdown",
   "metadata": {},
   "source": [
    "- 交叉驗證結果除了第一次略差以外，其它準確性與穩健性不錯"
   ]
  },
  {
   "cell_type": "code",
   "execution_count": 34,
   "metadata": {},
   "outputs": [
    {
     "name": "stdout",
     "output_type": "stream",
     "text": [
      "*********************Cross val socres:**********************\n",
      "[0.7691807  0.91979326 0.97201378 0.97109495 0.92603369 0.90964086\n",
      " 0.9098323  0.91366108]\n",
      "Mean scores is: 0.91\n"
     ]
    }
   ],
   "source": [
    "print ('{:*^60}'.format('Cross val socres:'))\n",
    "print (cv_score)  # 印出每次交叉檢驗得分\n",
    "print ('Mean scores is: %.2f' % cv_score.mean())  # 印出平均交叉檢驗得分"
   ]
  },
  {
   "cell_type": "markdown",
   "metadata": {},
   "source": [
    "- 模型訓練"
   ]
  },
  {
   "cell_type": "code",
   "execution_count": 35,
   "metadata": {},
   "outputs": [
    {
     "name": "stdout",
     "output_type": "stream",
     "text": [
      "54.54239273071289\n"
     ]
    }
   ],
   "source": [
    "start = time.time()\n",
    "model_vot.fit(X, y)  # 模型訓練\n",
    "end = time.time()\n",
    "print(end - start)"
   ]
  },
  {
   "cell_type": "markdown",
   "metadata": {},
   "source": [
    "- 新數據集做預測"
   ]
  },
  {
   "cell_type": "code",
   "execution_count": 36,
   "metadata": {},
   "outputs": [
    {
     "name": "stdout",
     "output_type": "stream",
     "text": [
      "*********************Predicted Labesls:*********************\n",
      "[1 0 0 0 0 0 0]\n"
     ]
    },
    {
     "name": "stderr",
     "output_type": "stream",
     "text": [
      "/Users/Vince/anaconda/lib/python3.6/site-packages/sklearn/preprocessing/label.py:151: DeprecationWarning: The truth value of an empty array is ambiguous. Returning False, but in future this will result in an error. Use `array.size > 0` to check that an array is not empty.\n",
      "  if diff:\n"
     ]
    }
   ],
   "source": [
    "X_raw_data = pd.read_csv('new_abnormal_orders.txt', dtype=dtypes)  # 讀取要預測的數據集\n",
    "X_raw_new = X_raw_data.iloc[:, 1:]  # 分割輸入變量X，並丟棄訂單ID列和最後一列目標變量\n",
    "str2int_data_new = str2int(X_raw_new, model_dvtransform, unique_object, training=False)  # 字符串分類轉整數型分類\n",
    "datetime2int_data_new = datetime2int(X_raw_new)  # 日期時間轉換\n",
    "combine_set_new = np.hstack((str2int_data_new, datetime2int_data_new))  # 合併轉換後的分類和拓展後的日期數據集\n",
    "constant_set_new = X_raw_new[['total_money', 'total_quantity']]  # 原始連續數據變量\n",
    "X_combine_new = np.hstack((combine_set_new, constant_set_new))  # 再次合併數據集\n",
    "y_predict = model_vot.predict(X_combine_new)  # 預測結果\n",
    "print ('{:*^60}'.format('Predicted Labesls:'))\n",
    "print (y_predict)  # 印出預測值"
   ]
  },
  {
   "cell_type": "markdown",
   "metadata": {},
   "source": [
    "> 結論\n",
    "\n",
    "- 不平衡樣本的imbalanced learning\n",
    "- prod_id與use_id\n",
    "- 某些程序耗時"
   ]
  },
  {
   "cell_type": "markdown",
   "metadata": {
    "collapsed": true
   },
   "source": [
    "## 類神經網路與深度學習的學習方式"
   ]
  },
  {
   "cell_type": "markdown",
   "metadata": {},
   "source": [
    "![Python](./Classifiers/NN&DLtraining.png)"
   ]
  },
  {
   "cell_type": "markdown",
   "metadata": {},
   "source": [
    "## 參考文獻 Reference: \n",
    "\n",
    "- Raschka, S. (2015), Python Machine Learning: Unlock deeper insights into machine learning with this vital guide to cutting-dege predictive analytics, PACKT Publishing.\n",
    "- Chollet, F. (2018), Deep Learning with Python, Manning.\n",
    "- 宋天龍 (2018), Python數據分析與數據化化運營, 機械工業出版社."
   ]
  }
 ],
 "metadata": {
  "anaconda-cloud": {},
  "kernelspec": {
   "display_name": "Python 3",
   "language": "python",
   "name": "python3"
  },
  "language_info": {
   "codemirror_mode": {
    "name": "ipython",
    "version": 3
   },
   "file_extension": ".py",
   "mimetype": "text/x-python",
   "name": "python",
   "nbconvert_exporter": "python",
   "pygments_lexer": "ipython3",
   "version": "3.7.4"
  }
 },
 "nbformat": 4,
 "nbformat_minor": 1
}
